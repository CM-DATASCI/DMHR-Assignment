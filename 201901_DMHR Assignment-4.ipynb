{
 "cells": [
  {
   "cell_type": "markdown",
   "metadata": {},
   "source": [
    "# DMHR MODULE ASSIGNMENT \n",
    "\n",
    "# Assignment A:\n",
    "The NHS has been challenged to make “efficiency savings” and you have been commissioned by an NHS executive to review, document and assess GP prescribing costs. Using data from the GP Practice Prescribing dataset (April 2018) address the following queries using a combination of narrative, tables, figures, and descriptive statistics:\n",
    "\n",
    "Questions\n",
    "\n",
    "1. Identify all GP practices located in London. For those practices, describe:\n",
    "> - the total number of patients registered\n",
    "> - the total number of prescriptions\n",
    "> - the total actual cost of these prescriptions (using the ACT COST column)\n",
    "> - the top 10 most frequent drugs prescribed\n",
    "> - the bottom 10 less frequent drugs prescribed\n",
    "  \n",
    "2. Repeat the previous instructions, this time for the city of Cambridge. Discuss and compare your findings with the answers for London in question 1 above using descriptive statistics.\n",
    "  \n",
    "3. Describe total number of prescriptions and their total actual cost (using the ACT COST column) across all practices for drugs related to:\n",
    "> - cardiovascular disease (British National Formulary chapter 2)\n",
    "> - antidepressants (British National Formulary chapter 4.3)\n",
    "  \n",
    "4. Describe the total spending and the relative costs per patient across all practices for the month of April 2018:\n",
    "> - visualize the monthly total spending per registered patients using a scatterplot and provide a trend line\n",
    "> - generate a histogram for relative spending for all practices and fit a Gaussian (normal) curve\n",
    "\n",
    "\n",
    "## WHO Mortality Database\n",
    "The WHO Mortality Database is a database of registered deaths compiled by WHO from data given by national authorities around the world. The cause of each death is classified by the circumstances that led to death. For this exercise, you will use data which report the cause of death using the 10th revision of the International Classification of Diseases (ICD-10). All of this information is collated into a number of Comma Separated Value (CSV) files, which can be found on the WHO Mortality Database website. The year of interest is 2010.  \n",
    "Each country in the database is uniquely identified all WHO datasets by a four digit numeric code. The mapping between countries and identifier codes is located in the \"Country codes\" lookup file. Information on the population of each country is found in the \"Population and live births\" file.\n",
    "\n",
    "Questions\n",
    "1. What was the population and the total number of deaths (from all causes, all ages) in 2010 for:\n",
    "> - Iceland\n",
    "> - Italy\n",
    "> - New Zealand\n",
    "\n",
    "2. What was the distribution of deaths (all causes, all years) by age group in Italy?\n",
    "> - Visualise the results using a histogram.\n",
    "\n",
    "3. What were the top five causes of death (top five ICD-10 terms) in Italy across all years for the Neoplasm ICD10-category (C00-D48)?\n",
    "> - Generate a table with the cause of death, the number of deaths, and the proportion of overall deaths.\n",
    "> - Generate a pie chart to visualize the proportion of deaths.\n",
    "\n",
    "4. Are there differences by age group for deaths from Neoplasms (C00-D48) in Australia for 2010?\n",
    "> - Identify the top five age groups in Australia dying with a Neoplasms cause of death.\n",
    "\n",
    "5. Compare and contrast the frequency of deaths by Neoplasms in Italy and Australia in 2010.\n",
    "> - Combine information on the population and deaths and describe your logic.\n",
    "> - Use descriptive statistics and plots."
   ]
  },
  {
   "cell_type": "markdown",
   "metadata": {},
   "source": [
    "# Technical Report\n",
    "\n",
    "Candidate number: BLBV5\n",
    "\n",
    "## Assignment A: NHS Data\n",
    "\n",
    "### 1. Background and Introduction\n",
    "The work for this assignment was carried out in order to make efficiency savings for prescribing in General Practices (GP). As part of the NHS five year forward view a number of measures are being put into place to ensure that there are enough facilities and resources to care for an aging population [1]. One of these measures includes plans to get the best value out of medicines and pharmacy: in 2017 the NHS was spending approximately £16 billion a year on drugs, of which about £9 billion arose from GP prescribing [2], hence reducing this number will allow resources to be reallocated. \n",
    "\n",
    "\n",
    "### 2. Data used\n",
    "The data used to generate figures and tables in this report are the GP Practice Prescribing (April/2018) and NHS Digital GP Practice Demographics (April/2018) which are both available from NHS digital [3, 4].\n",
    "\n",
    "### 3. Results and discussion\n",
    "\n",
    "#### 3.1 London vs Cambridge\n",
    "As London has the highest population of any city, we analysed the data related to London and used the city of Cambridge for comparison. Postcodes based on a publication by the ONS [5] were used to cross reference the postcodes given in the GP demographics and GP prescribing datasets. Postcodes starting with N, NE, SE, SW, E, EC, W and WC and CB1-CB5 were used as indicators of London and Cambridge city postcodes, respectively. Effective deselection measures were taken to ensure that the algorithm used to select for postcodes did not include non-London postcodes, for example Newcastle Upon Type which begins with NE and to ensure that the Cambridge city data did not contain CB postcodes after CB5. An important note to consider regarding the postcodes is that not all of the practices listed in the prescribing data had a related practice code and postcode in the GP demographic data file. This means that not all of the prescribing data was used in the analysis of the costs for each practice etc hence the figures may in fact underestimate the numbers of patients and costs. \n",
    " \n",
    "Table 1 below shows the measures that were compared between the London and Cambridge.\n",
    "\n",
    "TABLE 1. Comparison between London and Cambridge\n",
    "\n",
    "| Measure                                                     | London        | Cambridge      | \n",
    "|-------------------------------------------------------------|---------------|----------------| \n",
    "| Total number of practices                                   | 783           | 17             | \n",
    "| Number of patients registered                               | 6026746       | 191931         | \n",
    "| Mean number of patients per practice +/- standard deviation | 7697 +/- 5079 | 11290 +/- 4782 | \n",
    "| Number of prescribed items                                  | 5992400       | 160494         | \n",
    "| Cost of prescriptions                                       | £44,142,367.58   | £1,227,048.96               | \n",
    "| Cost per patient                                            | £7.32         | £6.39          | \n",
    "\n",
    "Next, the 10 most and least frequently prescribed drugs were identified. This was done by selecting for BNF codes from the prescribing data. As this task is specifically related to drugs, BNF codes relating all chapters except 9, 18, 20, 21,22, 23 were used to selection of data. The chapters that were excluded relate to nutritional products which NICE have described as “borderline” substances [6] and appliances and dressings. In order to be able to easily identify the drugs and group them accordingly, the chemical and substances file which contains 9-digit BNF codes was used to cross reference the 15-digit BNF codes found in the prescribing file.  \n",
    "The top 10 most prescribed drugs for London and Cambridge are listed in [Table 2](#table2) and [Table4](#table4) below.\n",
    "\n",
    "The data were relatively similar with most of the same drugs found on the top 10 list for both cities. Manual cross referencing of these drugs on the NICE website indicate that seven of the drugs listed in the top 10 most prescribed drugs are related to treatments for cardiac conditions. Other conditions listed related to diabetes, Heliobacter pylori infections and respiratory disease. The presence of these drugs also correlates to the leading causes of death (cardiac and respiratory) in both men and women from the 2017 data for deaths registered in England and Wales [7]. [Figure1](#Figure1)  shows the number of prescriptions for each of these drugs as a fraction of the total number of patients registered. From the graph, we can infer that for the 8 drugs that were common to both the London and Cambridge top 10 lists London still prescribes more of each drug per patient compared to Cambridge.\n",
    "\n",
    "The least frequently prescribed drugs were also identified for London and Cambridge. [Table 3](#table3) and [Table 5](#table5) contains the information for the least prescribed drugs in London and Cambridge, respectively. There was a mixture of drugs from nearly every chapter for both London and Cambridge with medicines from BNF chapters 4 and 5 most frequently represented in London data [(figure 2)](#Figure2) and medicines from chapter 2 most highly represented in the Cambridge data [(figure 3)](#Figure3). \n",
    "\n",
    "As the goal of this exercise is to make efficiency savings, the top 10 most expensive drugs for London and Cambridge were calculated and tabulated in [table 6](#table6) and [table 7](#table7). [Table 8](#table8) shows the drugs that were common to both. The most expensive drug in both cases was Beclometasone Dipropionate which is a indicted as a prophylaxis for asthma but is also prescribed for hayfever, which is unsurprising for April. Other respiratory medicines such as Fluticasone Propionate and Budesonide were also on the top 10 most expensive list for Cambridge and London.  \n",
    "\n",
    "Metformin Hydrochloride, a treatment for type II diabetes, was found on both the most expensive drug’s list and the most prescribed list for London. Moreover, diabetes-related product Glucose Blood Testing Reagents was also on the top 10 most expensive drugs list for both Cambridge and London. This could be one area where efficiency savings could be made as lifestyle modifications to diet and exercise resulting in weight loss can prevent and reverse the symptoms of Type II diabetes [8]. However, complete eradication of pharmacological intervention for Type II Diabetes is currently impractical as further study is required to determine the optimal lifestyle changes required [9].\n",
    "\n",
    "#### 3.2 Cardiac drugs and antidepressants \n",
    "Heart disease was the second leading cause of death in the UK and death from suicide has been reported to have been increased for certain sexes and age groups [7]. The prescribing figures for medicines related to cardiovascular disease (CV) and antidepressants (AD) from GP practices across the UK are listed s follows: The total number of prescriptions and total cost for cardiovascular medicines amounted to 26,449,832 and £90,193,834.02, respectively. The total number of prescriptions and total cost for antidepressants medicines amounted to 5,715,873 and £16,853,470.86, respectively.  \n",
    "Given then aforementioned statistics on illnesses related to these medicines, costs such as these are likely to increase or be maintained. The cost per item prescribed for CV and AD medicines averages £11.45 and £12.33, respectively. While this is lower than the average prescription cost of £21.05, if the trend from 2017 continues, these costs will continue to grow also.\n",
    "\n",
    "\n",
    "#### 3.3 Total Spending and relative costs per patient\n",
    "\n",
    "The total spending across all GP practices identifiable in both the prescribing data and the GP demographic data for April 2018 was £631,677,358.40. There was also an additional £11,510,031.80 identified in the practices that did not have a corresponding entry in the GP demographic file (see Appendix 1 in jupyter notebook for workings). Hence the total spend for prescribing from GP practices in the UK in April 2018 was £643,187,390.20. \n",
    "\n",
    "The monthly spending per registered patient is displayed in [figure 4](#Figure4). From the figure we can see a correlation between total spend and number of patients registered at a practice. The average spend per practice in this cohort was £87,842.77 with a standard deviation of £59133.29. The greatest total spend for a single practice was £842,838.17 which was for a practice of 66,502 registered patients in Birmingham. The histogram in [figure 5](#Figure5) visualises the total monthly spend per patient for all practices. From the histogram, we can see that the average monthly spend per patient per practice is £11.\n",
    "\n",
    "\n",
    "## Assignment B: WHO data\n",
    "\n",
    "### 1.\tIntroduction and background\n",
    "The World Health Organisation collate international mortality data based on clinical codes known as ICD10 codes which relates to a specific cause of death [10]. \n",
    "\n",
    "### 2.\tData\n",
    "The WHO data used to generate the information used on this section of the report is as follows:\n",
    " - Country codes data to identify the countries.\n",
    " - Mortality data \n",
    " - Population data\n",
    "\n",
    "Before addressing the points in the assignment, the data was processed to make it easier to work with. First, the two mortality datasets were combined into one file. I created dictionaries of the age groups and replaced the columns in the mortality and population datasets. Also, as there would be multiple commands which required the selection of data for all of the age groups I specified a variable related to these.\n",
    "\n",
    "### 3.\tResults and discussions\n",
    "\n",
    "#### 3.1\t Population and total number of deaths for Iceland, Italy and New Zealand in 2010\n",
    "The information for this section was generated by finding the country code in the country code file and then using it to select for the country code and year from the population and mortality datasets. The outputs generated are as follows:\n",
    "\n",
    "Iceland:  \n",
    "* Population\t318041  \n",
    "* Deaths\t\t4038  \n",
    "  \n",
    "Italy:  \n",
    "* Population\t60483386  \n",
    "* Deaths\t\t1169230  \n",
    "  \n",
    "New Zealand:  \n",
    "* Population\t4367360  \n",
    "* Deaths\t\t57298  \n",
    "\n",
    "\n",
    "#### 3.2\tThe distribution of deaths by age group in Italy\n",
    "The data for this section was generated by selecting all of the data related to Italy from the mortality data. [Figure 6](#Figure6) shows a bar graph was created for each age group which represents the proportion of the total number of deaths that are represented by each age group. From the histogram we can see that 80-84 years old and 85-89 year old represent the highest proportion of the total deaths in Italy indicating that most people die aged 80-89.\n",
    "\n",
    "#### 3.3 Top 5 causes of death in Italy for neoplasms\n",
    "The top 5 causes of deaths related to Neoplasms in Italy were calculated by isolating the data for ICD codes C00-D48 and grouping the data according to Neoplasm type and calculating the total deaths and the percentage that each type of neoplasm account for. [Table 9](#table9) displays the top 5 causes of death for neoplasms and the percentage of the total number of neoplasm deaths that they represent. The percentage that each subcategory of Neoplasm accounts for is depicted in the pie chart in [Figure 7](#Figure7). The ICD10 codes relate to:\n",
    "\n",
    "\tC349\tMalignant neoplasm: Bronchus or lung, unspecified  \n",
    "\tC509\tMalignant neoplasm: Breast, unspecified  \t\n",
    "\tC189\tMalignant neoplasm: Colon, unspecified  \n",
    "\tC169\tMalignant neoplasm: Stomach, unspecified  \n",
    "\tC259\tMalignant neoplasm: Pancreas, unspecified  \n",
    "\n",
    "The fact that each of the top 5 neoplasms are “unspecified” highlights one of the key issues that researchers face when using ICD10 codes for analysis as the information is somewhat limited.\n",
    "\n",
    "#### 3.4. Differences in age groups for Neoplasm deaths in Australia\n",
    "To investigate whether in 2010 there were differences between age groups for the deaths that are due to neoplasms in Australia the data for this was isolated from the data for all deaths. [Figure 8](#Figure8) shows a bar graph of this data. From this, we can observe that the highest number of deaths due to neoplasms occurred in the 80-84 year age bracket.\n",
    "> 1. 80-84\n",
    "> 2. 75-79\n",
    "> 3. 70-74\n",
    "> 4. 85-89\n",
    "> 5. 65-69 \n",
    "\n",
    "This follows trends that have been reported for other countries such as the UK and the US [11, 12]\n",
    "\n",
    "#### 3.5 Differences in neoplasm deaths between Italy and Australia for 2010\n",
    "The frequency of deaths or death rate per 100,000 of the population in both Italy and Australia was calculated by dividing the total number of deaths caused by neoplasms by the total number of deaths from all causes in each age group.\n",
    "In Italy, the death rate due to neoplasms per 100,000 of the population was 289.41 while in Australia it was 194.26 In [figure 9](#Figure9), we can see that the total number of deaths due to neoplasms was much greater in Italy compared to Australia. Even when the deaths caused by neoplasms are expressed relative to the population for each country [(figure 10)](#Figure10), neoplasms account for a higher percentage of all deaths in Italy, particularly for age groups less 55 years of age. This was surprising given that recent figures have shown that cancer rates in Australia are the highest in the world [13]. Previous work has also shown that the relative survival rates for cancer are higher in Australia than Italy [14].  Hence, the higher mortality rate in Italy could be due to more aggressive types of cancer being present in Italian populations or better standards of care in the Australian system. \n",
    "\n",
    "\n",
    "### REFERENCES\n",
    "1.\tNHS. NHS: Five year forward view. 2016; Available from: https://www.england.nhs.uk/five-year-forward-view/next-steps-on-the-nhs-five-year-forward-view/executive-summary/.\n",
    "2.\tNHS. NHS: five-year-forward-view funding-and-efficiency. 2016; Available from: https://www.england.nhs.uk/five-year-forward-view/next-steps-on-the-nhs-five-year-forward-view/funding-and-efficiency/.\n",
    "3.\tNHS. Practice Level Prescribing - presentation level data - April 2018. 2018; Available from: https://digital.nhs.uk/data-and-information/publications/statistical/practice-level-prescribing-data/april-2018.\n",
    "4.\tNHS. Patients Registered at a GP Practice, April 2018; Special Topic - Registered patients compared to the projected resident population in England. 2018; Available from: https://digital.nhs.uk/data-and-information/publications/statistical/patients-registered-at-a-gp-practice/patients-registered-at-a-gp-practice-april-2018-special-topic---registered-patients-compared-to-the-projected-resident-population-in-england.\n",
    "5.\tONS. ONS Postcode Directory (May 2018) User Guide. 2018; Available from: https://data.gov.uk/dataset/224cbd39-ba59-4356-a24f-2a142d57375d/ons-postcode-directory-may-2018-user-guide.\n",
    "6.\tNICE. How to use BNF Publications online. 2019; Available from: https://bnf.nice.org.uk/about/how-to-use-bnf-publications-online.html.\n",
    "7.\tONS. Home  People, population and community  Births, deaths and marriages  Deaths  Deaths registered in England and Wales (series DR)\n",
    "Deaths registered in England and Wales (series DR): 2017. 2018; Available from: https://www.ons.gov.uk/peoplepopulationandcommunity/birthsdeathsandmarriages/deaths/bulletins/deathsregisteredinenglandandwalesseriesdr/2017.\n",
    "8.\tGuess, N.D., Dietary Interventions for the Prevention of Type 2 Diabetes in High-Risk Groups: Current State of Evidence and Future Research Needs. Nutrients, 2018. 10(9).\n",
    "9.\tRied-Larsen, M., et al., Why prescribe exercise as therapy in type 2 diabetes? We have a pill for that! Diabetes Metab Res Rev, 2018. 34(5): p. e2999.\n",
    "10.\tCimino, J.J., Review paper: coding systems in health care. Methods Inf Med, 1996. 35(4-5): p. 273-84.\n",
    "11.\tUK, C.R. Cancer Mortality by age. 2017; Available from: https://www.cancerresearchuk.org/health-professional/cancer-statistics/mortality/age.\n",
    "12.\tWhite, M.C., et al., Age and cancer risk: a potentially modifiable relationship. Am J Prev Med, 2014. 46(3 Suppl 1): p. S7-15.\n",
    "13.\tFund, W.C.R. Global cancer data by country. 2018; Available from: https://www.wcrf.org/dietandcancer/cancer-trends/data-cancer-frequency-country.\n",
    "14.\tCrocetti, E., et al., Cancer prevalence in United States, Nordic Countries, Italy, Australia, and France: an analysis of geographic variability. Br J Cancer, 2013. 109(1): p. 219-28.\n",
    "\n"
   ]
  },
  {
   "cell_type": "markdown",
   "metadata": {},
   "source": [
    "### Before starting, make sure everything you need is installed on your computer\n",
    "\n",
    "First ensure that you have the latest pip by upgrading it and then install all of the libraries you will need. It is assumed that python is already installed.\n",
    "Alternatively you can download __[Anaconda](https://www.anaconda.com)__ which has these libraries already installed.\n",
    "\n",
    "Once the libraries have been installed you can import them."
   ]
  },
  {
   "cell_type": "code",
   "execution_count": 20,
   "metadata": {
    "scrolled": true
   },
   "outputs": [
    {
     "name": "stdout",
     "output_type": "stream",
     "text": [
      "Requirement already up-to-date: pip in ./anaconda3/lib/python3.7/site-packages (18.1)\n",
      "Requirement already satisfied: pandas in ./anaconda3/lib/python3.7/site-packages (0.23.4)\n",
      "Requirement already satisfied: python-dateutil>=2.5.0 in ./anaconda3/lib/python3.7/site-packages (from pandas) (2.7.3)\n",
      "Requirement already satisfied: pytz>=2011k in ./anaconda3/lib/python3.7/site-packages (from pandas) (2018.5)\n",
      "Requirement already satisfied: numpy>=1.9.0 in ./anaconda3/lib/python3.7/site-packages (from pandas) (1.15.1)\n",
      "Requirement already satisfied: six>=1.5 in ./anaconda3/lib/python3.7/site-packages (from python-dateutil>=2.5.0->pandas) (1.11.0)\n",
      "Requirement already satisfied: pandasql in ./anaconda3/lib/python3.7/site-packages (0.7.3)\n",
      "Requirement already satisfied: numpy in ./anaconda3/lib/python3.7/site-packages (from pandasql) (1.15.1)\n",
      "Requirement already satisfied: pandas in ./anaconda3/lib/python3.7/site-packages (from pandasql) (0.23.4)\n",
      "Requirement already satisfied: sqlalchemy in ./anaconda3/lib/python3.7/site-packages (from pandasql) (1.2.11)\n",
      "Requirement already satisfied: python-dateutil>=2.5.0 in ./anaconda3/lib/python3.7/site-packages (from pandas->pandasql) (2.7.3)\n",
      "Requirement already satisfied: pytz>=2011k in ./anaconda3/lib/python3.7/site-packages (from pandas->pandasql) (2018.5)\n",
      "Requirement already satisfied: six>=1.5 in ./anaconda3/lib/python3.7/site-packages (from python-dateutil>=2.5.0->pandas->pandasql) (1.11.0)\n",
      "Requirement already satisfied: numpy in ./anaconda3/lib/python3.7/site-packages (1.15.1)\n",
      "Requirement already satisfied: scipy in ./anaconda3/lib/python3.7/site-packages (1.1.0)\n",
      "Requirement already satisfied: scikit-learn in ./anaconda3/lib/python3.7/site-packages (0.19.2)\n",
      "Requirement already satisfied: matplotlib in ./anaconda3/lib/python3.7/site-packages (2.2.3)\n",
      "Requirement already satisfied: numpy>=1.7.1 in ./anaconda3/lib/python3.7/site-packages (from matplotlib) (1.15.1)\n",
      "Requirement already satisfied: cycler>=0.10 in ./anaconda3/lib/python3.7/site-packages (from matplotlib) (0.10.0)\n",
      "Requirement already satisfied: pyparsing!=2.0.4,!=2.1.2,!=2.1.6,>=2.0.1 in ./anaconda3/lib/python3.7/site-packages (from matplotlib) (2.2.0)\n",
      "Requirement already satisfied: python-dateutil>=2.1 in ./anaconda3/lib/python3.7/site-packages (from matplotlib) (2.7.3)\n",
      "Requirement already satisfied: pytz in ./anaconda3/lib/python3.7/site-packages (from matplotlib) (2018.5)\n",
      "Requirement already satisfied: six>=1.10 in ./anaconda3/lib/python3.7/site-packages (from matplotlib) (1.11.0)\n",
      "Requirement already satisfied: kiwisolver>=1.0.1 in ./anaconda3/lib/python3.7/site-packages (from matplotlib) (1.0.1)\n",
      "Requirement already satisfied: setuptools in ./anaconda3/lib/python3.7/site-packages (from kiwisolver>=1.0.1->matplotlib) (40.2.0)\n",
      "Requirement already satisfied: blackcellmagic in ./anaconda3/lib/python3.7/site-packages (0.0.1)\n",
      "Requirement already satisfied: ipython in ./anaconda3/lib/python3.7/site-packages (from blackcellmagic) (6.5.0)\n",
      "Requirement already satisfied: black in ./anaconda3/lib/python3.7/site-packages (from blackcellmagic) (18.9b0)\n",
      "Requirement already satisfied: simplegeneric>0.8 in ./anaconda3/lib/python3.7/site-packages (from ipython->blackcellmagic) (0.8.1)\n",
      "Requirement already satisfied: pexpect; sys_platform != \"win32\" in ./anaconda3/lib/python3.7/site-packages (from ipython->blackcellmagic) (4.6.0)\n",
      "Requirement already satisfied: traitlets>=4.2 in ./anaconda3/lib/python3.7/site-packages (from ipython->blackcellmagic) (4.3.2)\n",
      "Requirement already satisfied: setuptools>=18.5 in ./anaconda3/lib/python3.7/site-packages (from ipython->blackcellmagic) (40.2.0)\n",
      "Requirement already satisfied: pickleshare in ./anaconda3/lib/python3.7/site-packages (from ipython->blackcellmagic) (0.7.4)\n",
      "Requirement already satisfied: decorator in ./anaconda3/lib/python3.7/site-packages (from ipython->blackcellmagic) (4.3.0)\n",
      "Requirement already satisfied: prompt-toolkit<2.0.0,>=1.0.15 in ./anaconda3/lib/python3.7/site-packages (from ipython->blackcellmagic) (1.0.15)\n",
      "Requirement already satisfied: jedi>=0.10 in ./anaconda3/lib/python3.7/site-packages (from ipython->blackcellmagic) (0.12.1)\n",
      "Requirement already satisfied: pygments in ./anaconda3/lib/python3.7/site-packages (from ipython->blackcellmagic) (2.2.0)\n",
      "Requirement already satisfied: backcall in ./anaconda3/lib/python3.7/site-packages (from ipython->blackcellmagic) (0.1.0)\n",
      "Requirement already satisfied: appnope; sys_platform == \"darwin\" in ./anaconda3/lib/python3.7/site-packages (from ipython->blackcellmagic) (0.1.0)\n",
      "Requirement already satisfied: toml>=0.9.4 in ./anaconda3/lib/python3.7/site-packages (from black->blackcellmagic) (0.10.0)\n",
      "Requirement already satisfied: attrs>=17.4.0 in ./anaconda3/lib/python3.7/site-packages (from black->blackcellmagic) (18.2.0)\n",
      "Requirement already satisfied: appdirs in ./anaconda3/lib/python3.7/site-packages (from black->blackcellmagic) (1.4.3)\n",
      "Requirement already satisfied: click>=6.5 in ./anaconda3/lib/python3.7/site-packages (from black->blackcellmagic) (6.7)\n",
      "Requirement already satisfied: ptyprocess>=0.5 in ./anaconda3/lib/python3.7/site-packages (from pexpect; sys_platform != \"win32\"->ipython->blackcellmagic) (0.6.0)\n",
      "Requirement already satisfied: ipython-genutils in ./anaconda3/lib/python3.7/site-packages (from traitlets>=4.2->ipython->blackcellmagic) (0.2.0)\n",
      "Requirement already satisfied: six in ./anaconda3/lib/python3.7/site-packages (from traitlets>=4.2->ipython->blackcellmagic) (1.11.0)\n",
      "Requirement already satisfied: wcwidth in ./anaconda3/lib/python3.7/site-packages (from prompt-toolkit<2.0.0,>=1.0.15->ipython->blackcellmagic) (0.1.7)\n",
      "Requirement already satisfied: parso>=0.3.0 in ./anaconda3/lib/python3.7/site-packages (from jedi>=0.10->ipython->blackcellmagic) (0.3.1)\n",
      "The blackcellmagic extension is already loaded. To reload it, use:\n",
      "  %reload_ext blackcellmagic\n"
     ]
    }
   ],
   "source": [
    "! pip install --upgrade pip\n",
    "! pip install pandas\n",
    "! pip install pandasql\n",
    "! pip install numpy\n",
    "! pip install scipy\n",
    "! pip install scikit-learn\n",
    "! pip install matplotlib\n",
    "! pip install blackcellmagic\n",
    "\n",
    "import pandas as pd\n",
    "import numpy as np\n",
    "import matplotlib.pyplot as plt\n",
    "import seaborn as sns\n",
    "from pandasql import PandaSQL\n",
    "pdsql = PandaSQL()\n",
    "pd.set_option(\"display.max_colwidth\", -1) #\n",
    "%load_ext blackcellmagic"
   ]
  },
  {
   "cell_type": "markdown",
   "metadata": {},
   "source": [
    "## QUESTION 1\n",
    "> - Identify the total number of patients registered\n"
   ]
  },
  {
   "cell_type": "markdown",
   "metadata": {},
   "source": [
    "#### Step 1. Extract the data for the GP practices in London from the UK-wide file"
   ]
  },
  {
   "cell_type": "markdown",
   "metadata": {},
   "source": [
    "First create a pandas dataframe (df) of all of the gp dempgraphics for the UK and check the output."
   ]
  },
  {
   "cell_type": "code",
   "execution_count": 21,
   "metadata": {
    "scrolled": false
   },
   "outputs": [],
   "source": [
    "# Create df.\n",
    "gp_prac = pd.read_csv(\"https://files.digital.nhs.uk/71/B59D99/gp-reg-pat-prac-all.csv\", header=0)\n"
   ]
  },
  {
   "cell_type": "code",
   "execution_count": 22,
   "metadata": {
    "scrolled": true
   },
   "outputs": [
    {
     "data": {
      "text/html": [
       "<div>\n",
       "<style scoped>\n",
       "    .dataframe tbody tr th:only-of-type {\n",
       "        vertical-align: middle;\n",
       "    }\n",
       "\n",
       "    .dataframe tbody tr th {\n",
       "        vertical-align: top;\n",
       "    }\n",
       "\n",
       "    .dataframe thead th {\n",
       "        text-align: right;\n",
       "    }\n",
       "</style>\n",
       "<table border=\"1\" class=\"dataframe\">\n",
       "  <thead>\n",
       "    <tr style=\"text-align: right;\">\n",
       "      <th></th>\n",
       "      <th>PUBLICATION</th>\n",
       "      <th>EXTRACT_DATE</th>\n",
       "      <th>TYPE</th>\n",
       "      <th>CCG_CODE</th>\n",
       "      <th>ONS_CCG_CODE</th>\n",
       "      <th>CODE</th>\n",
       "      <th>POSTCODE</th>\n",
       "      <th>SEX</th>\n",
       "      <th>AGE</th>\n",
       "      <th>NUMBER_OF_PATIENTS</th>\n",
       "    </tr>\n",
       "  </thead>\n",
       "  <tbody>\n",
       "    <tr>\n",
       "      <th>0</th>\n",
       "      <td>GP_PRAC_PAT_LIST</td>\n",
       "      <td>01APR2018</td>\n",
       "      <td>GP</td>\n",
       "      <td>00C</td>\n",
       "      <td>E38000042</td>\n",
       "      <td>A83005</td>\n",
       "      <td>DL1 3RT</td>\n",
       "      <td>ALL</td>\n",
       "      <td>ALL</td>\n",
       "      <td>11826</td>\n",
       "    </tr>\n",
       "    <tr>\n",
       "      <th>1</th>\n",
       "      <td>GP_PRAC_PAT_LIST</td>\n",
       "      <td>01APR2018</td>\n",
       "      <td>GP</td>\n",
       "      <td>00C</td>\n",
       "      <td>E38000042</td>\n",
       "      <td>A83006</td>\n",
       "      <td>DL3 6HZ</td>\n",
       "      <td>ALL</td>\n",
       "      <td>ALL</td>\n",
       "      <td>8044</td>\n",
       "    </tr>\n",
       "    <tr>\n",
       "      <th>2</th>\n",
       "      <td>GP_PRAC_PAT_LIST</td>\n",
       "      <td>01APR2018</td>\n",
       "      <td>GP</td>\n",
       "      <td>00C</td>\n",
       "      <td>E38000042</td>\n",
       "      <td>A83010</td>\n",
       "      <td>DL3 9JP</td>\n",
       "      <td>ALL</td>\n",
       "      <td>ALL</td>\n",
       "      <td>14070</td>\n",
       "    </tr>\n",
       "    <tr>\n",
       "      <th>3</th>\n",
       "      <td>GP_PRAC_PAT_LIST</td>\n",
       "      <td>01APR2018</td>\n",
       "      <td>GP</td>\n",
       "      <td>00C</td>\n",
       "      <td>E38000042</td>\n",
       "      <td>A83013</td>\n",
       "      <td>DL1 4YL</td>\n",
       "      <td>ALL</td>\n",
       "      <td>ALL</td>\n",
       "      <td>11298</td>\n",
       "    </tr>\n",
       "    <tr>\n",
       "      <th>4</th>\n",
       "      <td>GP_PRAC_PAT_LIST</td>\n",
       "      <td>01APR2018</td>\n",
       "      <td>GP</td>\n",
       "      <td>00C</td>\n",
       "      <td>E38000042</td>\n",
       "      <td>A83031</td>\n",
       "      <td>DL3 8SQ</td>\n",
       "      <td>ALL</td>\n",
       "      <td>ALL</td>\n",
       "      <td>10109</td>\n",
       "    </tr>\n",
       "  </tbody>\n",
       "</table>\n",
       "</div>"
      ],
      "text/plain": [
       "        PUBLICATION EXTRACT_DATE TYPE CCG_CODE ONS_CCG_CODE    CODE POSTCODE  \\\n",
       "0  GP_PRAC_PAT_LIST  01APR2018    GP   00C      E38000042    A83005  DL1 3RT   \n",
       "1  GP_PRAC_PAT_LIST  01APR2018    GP   00C      E38000042    A83006  DL3 6HZ   \n",
       "2  GP_PRAC_PAT_LIST  01APR2018    GP   00C      E38000042    A83010  DL3 9JP   \n",
       "3  GP_PRAC_PAT_LIST  01APR2018    GP   00C      E38000042    A83013  DL1 4YL   \n",
       "4  GP_PRAC_PAT_LIST  01APR2018    GP   00C      E38000042    A83031  DL3 8SQ   \n",
       "\n",
       "   SEX  AGE  NUMBER_OF_PATIENTS  \n",
       "0  ALL  ALL  11826               \n",
       "1  ALL  ALL  8044                \n",
       "2  ALL  ALL  14070               \n",
       "3  ALL  ALL  11298               \n",
       "4  ALL  ALL  10109               "
      ]
     },
     "execution_count": 22,
     "metadata": {},
     "output_type": "execute_result"
    }
   ],
   "source": [
    "# Check df - formatting\n",
    "gp_prac.head(5)  # check formatting by showing first 10 rows\n"
   ]
  },
  {
   "cell_type": "code",
   "execution_count": 23,
   "metadata": {
    "scrolled": false
   },
   "outputs": [
    {
     "data": {
      "text/plain": [
       "(7241, 10)"
      ]
     },
     "execution_count": 23,
     "metadata": {},
     "output_type": "execute_result"
    }
   ],
   "source": [
    "# Check df - shape (info on number of rows and columns)\n",
    "gp_prac.shape"
   ]
  },
  {
   "cell_type": "code",
   "execution_count": 24,
   "metadata": {
    "scrolled": true
   },
   "outputs": [
    {
     "data": {
      "text/plain": [
       "(7241,)"
      ]
     },
     "execution_count": 24,
     "metadata": {},
     "output_type": "execute_result"
    }
   ],
   "source": [
    "# Check df - check for duplicated - should have same number of rows as original\n",
    "gp_prac_duplicated = gp_prac.duplicated(subset=\"CODE\", keep=\"first\") \n",
    "gp_prac_duplicated.shape"
   ]
  },
  {
   "cell_type": "markdown",
   "metadata": {},
   "source": [
    "#### Step 2. Remove any white space that may be present around the headings or data within the dataframe"
   ]
  },
  {
   "cell_type": "code",
   "execution_count": 25,
   "metadata": {
    "scrolled": false
   },
   "outputs": [],
   "source": [
    "# remove any white space around the headings\n",
    "gp_prac_trimmed = gp_prac.apply(lambda x: x.str.strip() if x.dtype == \"object\" else x)\n",
    "\n",
    "# remove white space from left and right of all data within columns\n",
    "for col in gp_prac_trimmed.keys():\n",
    "    if type(gp_prac_trimmed[col].iloc[0]) == str:\n",
    "        gp_prac_trimmed[col] = gp_prac_trimmed[col].str.strip()\n"
   ]
  },
  {
   "cell_type": "markdown",
   "metadata": {},
   "source": [
    "#### Step 3. Extract data for London practices\n",
    "From gp_prac_trimmed create a new dataframe with just the data for London using postcode __[information](https://data.gov.uk/dataset/224cbd39-ba59-4356-a24f-2a142d57375d/ons-postcode-directory-may-2018-user-guide)__ that is available to download from the Office of National Statistics (ONS).   \n",
    "From ONS information, represented in the table below, we can see that London postcodes begin with: N, NW, SE, SW, E, EC, W and WC. However there are also other postcodes that begin with N, E and W so these need to be accounted for. \n",
    "\n",
    "| <p align=\"right\"> Beginning with | <p align=\"right\"> London Postcodes | <p align=\"right\"> Other postcodes\n",
    "|---|---|---|\n",
    "| <p align=\"right\"> N | <p align=\"right\"> London N, London NW | <p align=\"right\"> Newcastle upon Tyne NE, Nottingham NG, Northampton NN, Newport NP, Norwich NR |   \n",
    "| <p align=\"right\"> S | <p align=\"right\"> London SW London SE | <p align=\"right\"> n/a|\n",
    "| <p align=\"right\"> E | <p align=\"right\"> London E, London EC | <p align=\"right\"> Edinburgh EH, Enfield EN, Exeter EX |\n",
    "| <p align=\"right\"> W | <p align=\"right\"> London W, London WC | <p align=\"right\"> Warrington WA, Watford WD, Wakefield WF, Wigan WN, Worcester WR, Walsall WS, Wolverhampton WV | "
   ]
  },
  {
   "cell_type": "code",
   "execution_count": 26,
   "metadata": {
    "scrolled": false
   },
   "outputs": [],
   "source": [
    "# Create a new df with all of the postcodes, including the other non-London postcodes that begin with N, E and W.\n",
    "gp_prac_londonlike = gp_prac_trimmed[gp_prac_trimmed.POSTCODE.str.startswith(('N', 'SE', 'SW', 'E', 'W'))]\n"
   ]
  },
  {
   "cell_type": "code",
   "execution_count": 27,
   "metadata": {
    "scrolled": true
   },
   "outputs": [
    {
     "data": {
      "text/html": [
       "<div>\n",
       "<style scoped>\n",
       "    .dataframe tbody tr th:only-of-type {\n",
       "        vertical-align: middle;\n",
       "    }\n",
       "\n",
       "    .dataframe tbody tr th {\n",
       "        vertical-align: top;\n",
       "    }\n",
       "\n",
       "    .dataframe thead th {\n",
       "        text-align: right;\n",
       "    }\n",
       "</style>\n",
       "<table border=\"1\" class=\"dataframe\">\n",
       "  <thead>\n",
       "    <tr style=\"text-align: right;\">\n",
       "      <th></th>\n",
       "      <th>PUBLICATION</th>\n",
       "      <th>EXTRACT_DATE</th>\n",
       "      <th>TYPE</th>\n",
       "      <th>CCG_CODE</th>\n",
       "      <th>ONS_CCG_CODE</th>\n",
       "      <th>CODE</th>\n",
       "      <th>POSTCODE</th>\n",
       "      <th>SEX</th>\n",
       "      <th>AGE</th>\n",
       "      <th>NUMBER_OF_PATIENTS</th>\n",
       "    </tr>\n",
       "  </thead>\n",
       "  <tbody>\n",
       "    <tr>\n",
       "      <th>64</th>\n",
       "      <td>GP_PRAC_PAT_LIST</td>\n",
       "      <td>01APR2018</td>\n",
       "      <td>GP</td>\n",
       "      <td>00J</td>\n",
       "      <td>E38000116</td>\n",
       "      <td>A83038</td>\n",
       "      <td>NE16 6HU</td>\n",
       "      <td>ALL</td>\n",
       "      <td>ALL</td>\n",
       "      <td>5722</td>\n",
       "    </tr>\n",
       "    <tr>\n",
       "      <th>72</th>\n",
       "      <td>GP_PRAC_PAT_LIST</td>\n",
       "      <td>01APR2018</td>\n",
       "      <td>GP</td>\n",
       "      <td>00J</td>\n",
       "      <td>E38000116</td>\n",
       "      <td>A83618</td>\n",
       "      <td>NE17 7SB</td>\n",
       "      <td>ALL</td>\n",
       "      <td>ALL</td>\n",
       "      <td>4414</td>\n",
       "    </tr>\n",
       "    <tr>\n",
       "      <th>114</th>\n",
       "      <td>GP_PRAC_PAT_LIST</td>\n",
       "      <td>01APR2018</td>\n",
       "      <td>GP</td>\n",
       "      <td>00L</td>\n",
       "      <td>E38000130</td>\n",
       "      <td>A84002</td>\n",
       "      <td>NE65 7UW</td>\n",
       "      <td>ALL</td>\n",
       "      <td>ALL</td>\n",
       "      <td>5771</td>\n",
       "    </tr>\n",
       "    <tr>\n",
       "      <th>115</th>\n",
       "      <td>GP_PRAC_PAT_LIST</td>\n",
       "      <td>01APR2018</td>\n",
       "      <td>GP</td>\n",
       "      <td>00L</td>\n",
       "      <td>E38000130</td>\n",
       "      <td>A84003</td>\n",
       "      <td>NE63 9UT</td>\n",
       "      <td>ALL</td>\n",
       "      <td>ALL</td>\n",
       "      <td>13329</td>\n",
       "    </tr>\n",
       "    <tr>\n",
       "      <th>116</th>\n",
       "      <td>GP_PRAC_PAT_LIST</td>\n",
       "      <td>01APR2018</td>\n",
       "      <td>GP</td>\n",
       "      <td>00L</td>\n",
       "      <td>E38000130</td>\n",
       "      <td>A84005</td>\n",
       "      <td>NE22 6JX</td>\n",
       "      <td>ALL</td>\n",
       "      <td>ALL</td>\n",
       "      <td>11509</td>\n",
       "    </tr>\n",
       "  </tbody>\n",
       "</table>\n",
       "</div>"
      ],
      "text/plain": [
       "          PUBLICATION EXTRACT_DATE TYPE CCG_CODE ONS_CCG_CODE    CODE  \\\n",
       "64   GP_PRAC_PAT_LIST  01APR2018    GP   00J      E38000116    A83038   \n",
       "72   GP_PRAC_PAT_LIST  01APR2018    GP   00J      E38000116    A83618   \n",
       "114  GP_PRAC_PAT_LIST  01APR2018    GP   00L      E38000130    A84002   \n",
       "115  GP_PRAC_PAT_LIST  01APR2018    GP   00L      E38000130    A84003   \n",
       "116  GP_PRAC_PAT_LIST  01APR2018    GP   00L      E38000130    A84005   \n",
       "\n",
       "     POSTCODE  SEX  AGE  NUMBER_OF_PATIENTS  \n",
       "64   NE16 6HU  ALL  ALL  5722                \n",
       "72   NE17 7SB  ALL  ALL  4414                \n",
       "114  NE65 7UW  ALL  ALL  5771                \n",
       "115  NE63 9UT  ALL  ALL  13329               \n",
       "116  NE22 6JX  ALL  ALL  11509               "
      ]
     },
     "execution_count": 27,
     "metadata": {},
     "output_type": "execute_result"
    }
   ],
   "source": [
    "# Check df - first 5 rows\n",
    "gp_prac_londonlike.head(5) "
   ]
  },
  {
   "cell_type": "code",
   "execution_count": 28,
   "metadata": {
    "scrolled": false
   },
   "outputs": [
    {
     "data": {
      "text/plain": [
       "(1804, 10)"
      ]
     },
     "execution_count": 28,
     "metadata": {},
     "output_type": "execute_result"
    }
   ],
   "source": [
    "# Check df - shape\n",
    "gp_prac_londonlike.shape"
   ]
  },
  {
   "cell_type": "code",
   "execution_count": 29,
   "metadata": {
    "scrolled": true
   },
   "outputs": [],
   "source": [
    "# Create df with london-only postcodes \n",
    "gp_prac_londontrue = gp_prac_londonlike[~gp_prac_londonlike.POSTCODE.str.startswith\n",
    "                                                              (('NE','NG', 'NN', 'NP', 'NR', 'EH', 'EN', 'EX', 'WA',\n",
    "                                                                'WD','WF', 'WN', 'WR', 'WS', 'WV'))]"
   ]
  },
  {
   "cell_type": "code",
   "execution_count": 30,
   "metadata": {
    "scrolled": true
   },
   "outputs": [
    {
     "data": {
      "text/plain": [
       "(783, 10)"
      ]
     },
     "execution_count": 30,
     "metadata": {},
     "output_type": "execute_result"
    }
   ],
   "source": [
    "# Check df - shape\n",
    "gp_prac_londontrue.shape"
   ]
  },
  {
   "cell_type": "markdown",
   "metadata": {},
   "source": [
    "#### Step 4. Use the dataframe created in step 1 to answer the bullet points for question 1"
   ]
  },
  {
   "cell_type": "markdown",
   "metadata": {},
   "source": [
    "Calculate the total numbers of patients registered:"
   ]
  },
  {
   "cell_type": "code",
   "execution_count": 31,
   "metadata": {
    "scrolled": true
   },
   "outputs": [
    {
     "data": {
      "text/plain": [
       "6026746"
      ]
     },
     "execution_count": 31,
     "metadata": {},
     "output_type": "execute_result"
    }
   ],
   "source": [
    "gp_prac_londontrue['NUMBER_OF_PATIENTS'].sum()"
   ]
  },
  {
   "cell_type": "markdown",
   "metadata": {},
   "source": [
    "## Question 1\n",
    "> - Identify the total number of prescriptions\n",
    "> - Identify the total actual cost of these prescriptions (using the ACT COST column)"
   ]
  },
  {
   "cell_type": "markdown",
   "metadata": {},
   "source": [
    "#### Step 1. First identify the Prescribing data that relates to London GP practices"
   ]
  },
  {
   "cell_type": "code",
   "execution_count": 32,
   "metadata": {
    "scrolled": true
   },
   "outputs": [],
   "source": [
    "# Create df of prescribing data and remove any white spaces in the data\n",
    "\n",
    "prescribing = pd.read_csv(\n",
    "    \"/Users/clairemooney/Desktop/Health_Data_Science _Course/DMHR /ASSIGNMENT/DATA_FILES/1_PP_PracPrescribingData.CSV\",\n",
    "    header=0,\n",
    ")\n",
    "\n",
    "# remove the white spaces in headers \n",
    "prescribing = prescribing.rename(columns=lambda x: x.strip())\n",
    "\n",
    "# remove white space from left and right of all data within columns\n",
    "for col in prescribing.keys():\n",
    "    if type(prescribing[col].iloc[0]) == str:\n",
    "        prescribing[col] = prescribing[col].str.strip()\n",
    "\n"
   ]
  },
  {
   "cell_type": "code",
   "execution_count": 33,
   "metadata": {
    "scrolled": true
   },
   "outputs": [
    {
     "data": {
      "text/plain": [
       "(814140, 11)"
      ]
     },
     "execution_count": 33,
     "metadata": {},
     "output_type": "execute_result"
    }
   ],
   "source": [
    "# Select only London GP prescribing data\n",
    "prescribing_london = prescribing[prescribing.PRACTICE.isin(gp_prac_londontrue.CODE)]\n",
    "prescribing_london.shape  # check shape of london-only prescribing data"
   ]
  },
  {
   "cell_type": "markdown",
   "metadata": {},
   "source": [
    "#### Step 2: Total number of prescriptions is found by summing the \"ITEMS\" column"
   ]
  },
  {
   "cell_type": "code",
   "execution_count": 34,
   "metadata": {
    "scrolled": true
   },
   "outputs": [
    {
     "data": {
      "text/plain": [
       "5992400"
      ]
     },
     "execution_count": 34,
     "metadata": {},
     "output_type": "execute_result"
    }
   ],
   "source": [
    "# total number of prescriptions ofr London\n",
    "prescribing_london['ITEMS'].sum()"
   ]
  },
  {
   "cell_type": "markdown",
   "metadata": {},
   "source": [
    "#### Step 3: Actual cost of these prescriptions "
   ]
  },
  {
   "cell_type": "code",
   "execution_count": 35,
   "metadata": {
    "scrolled": true
   },
   "outputs": [
    {
     "data": {
      "text/plain": [
       "44142367.580000006"
      ]
     },
     "execution_count": 35,
     "metadata": {},
     "output_type": "execute_result"
    }
   ],
   "source": [
    "# total cost \n",
    "prescribing_london['ACT COST'].sum()"
   ]
  },
  {
   "cell_type": "markdown",
   "metadata": {},
   "source": [
    "## Question 1\n",
    "> - Identify the top 10 most frequent drugs prescribed\n",
    "> - Identify the bottom 10 less frequent drugs prescribed"
   ]
  },
  {
   "cell_type": "markdown",
   "metadata": {},
   "source": [
    "#### Step 1. Select rows that only contain BNF codes relating to drugs (ie: not nutritional products / dressings / appliances) in chapters 1-15 of the BNF."
   ]
  },
  {
   "cell_type": "code",
   "execution_count": 36,
   "metadata": {
    "scrolled": true
   },
   "outputs": [
    {
     "data": {
      "text/html": [
       "<div>\n",
       "<style scoped>\n",
       "    .dataframe tbody tr th:only-of-type {\n",
       "        vertical-align: middle;\n",
       "    }\n",
       "\n",
       "    .dataframe tbody tr th {\n",
       "        vertical-align: top;\n",
       "    }\n",
       "\n",
       "    .dataframe thead th {\n",
       "        text-align: right;\n",
       "    }\n",
       "</style>\n",
       "<table border=\"1\" class=\"dataframe\">\n",
       "  <thead>\n",
       "    <tr style=\"text-align: right;\">\n",
       "      <th></th>\n",
       "      <th>SHA</th>\n",
       "      <th>PCT</th>\n",
       "      <th>PRACTICE</th>\n",
       "      <th>BNF CODE</th>\n",
       "      <th>BNF NAME</th>\n",
       "      <th>ITEMS</th>\n",
       "      <th>NIC</th>\n",
       "      <th>ACT COST</th>\n",
       "      <th>QUANTITY</th>\n",
       "      <th>PERIOD</th>\n",
       "      <th></th>\n",
       "    </tr>\n",
       "  </thead>\n",
       "  <tbody>\n",
       "    <tr>\n",
       "      <th>7305069</th>\n",
       "      <td>Q63</td>\n",
       "      <td>08Q</td>\n",
       "      <td>G85050</td>\n",
       "      <td>1502010J0BWAAEL</td>\n",
       "      <td>Ralvo_Medic Plastr 700mg</td>\n",
       "      <td>2</td>\n",
       "      <td>184.62</td>\n",
       "      <td>171.24</td>\n",
       "      <td>90</td>\n",
       "      <td>201804</td>\n",
       "      <td></td>\n",
       "    </tr>\n",
       "    <tr>\n",
       "      <th>7307303</th>\n",
       "      <td>Q63</td>\n",
       "      <td>08Q</td>\n",
       "      <td>G85052</td>\n",
       "      <td>1502010J0BWAAEL</td>\n",
       "      <td>Ralvo_Medic Plastr 700mg</td>\n",
       "      <td>3</td>\n",
       "      <td>143.59</td>\n",
       "      <td>133.29</td>\n",
       "      <td>70</td>\n",
       "      <td>201804</td>\n",
       "      <td></td>\n",
       "    </tr>\n",
       "    <tr>\n",
       "      <th>7308189</th>\n",
       "      <td>Q63</td>\n",
       "      <td>08Q</td>\n",
       "      <td>G85082</td>\n",
       "      <td>1502010J0BWAAEL</td>\n",
       "      <td>Ralvo_Medic Plastr 700mg</td>\n",
       "      <td>2</td>\n",
       "      <td>123.08</td>\n",
       "      <td>114.17</td>\n",
       "      <td>60</td>\n",
       "      <td>201804</td>\n",
       "      <td></td>\n",
       "    </tr>\n",
       "    <tr>\n",
       "      <th>7309177</th>\n",
       "      <td>Q63</td>\n",
       "      <td>08Q</td>\n",
       "      <td>G85084</td>\n",
       "      <td>1502010J0BWAAEL</td>\n",
       "      <td>Ralvo_Medic Plastr 700mg</td>\n",
       "      <td>7</td>\n",
       "      <td>492.32</td>\n",
       "      <td>456.66</td>\n",
       "      <td>240</td>\n",
       "      <td>201804</td>\n",
       "      <td></td>\n",
       "    </tr>\n",
       "    <tr>\n",
       "      <th>7240288</th>\n",
       "      <td>Q63</td>\n",
       "      <td>08L</td>\n",
       "      <td>G85076</td>\n",
       "      <td>1502010J0BWAAEL</td>\n",
       "      <td>Ralvo_Medic Plastr 700mg</td>\n",
       "      <td>1</td>\n",
       "      <td>123.08</td>\n",
       "      <td>114.16</td>\n",
       "      <td>60</td>\n",
       "      <td>201804</td>\n",
       "      <td></td>\n",
       "    </tr>\n",
       "    <tr>\n",
       "      <th>6396294</th>\n",
       "      <td>Q61</td>\n",
       "      <td>08M</td>\n",
       "      <td>F84070</td>\n",
       "      <td>1502010J0BWAAEL</td>\n",
       "      <td>Ralvo_Medic Plastr 700mg</td>\n",
       "      <td>3</td>\n",
       "      <td>184.62</td>\n",
       "      <td>171.25</td>\n",
       "      <td>90</td>\n",
       "      <td>201804</td>\n",
       "      <td></td>\n",
       "    </tr>\n",
       "    <tr>\n",
       "      <th>7424640</th>\n",
       "      <td>Q63</td>\n",
       "      <td>08X</td>\n",
       "      <td>H85075</td>\n",
       "      <td>1502010J0BWAAEL</td>\n",
       "      <td>Ralvo_Medic Plastr 700mg</td>\n",
       "      <td>1</td>\n",
       "      <td>61.54</td>\n",
       "      <td>57.08</td>\n",
       "      <td>30</td>\n",
       "      <td>201804</td>\n",
       "      <td></td>\n",
       "    </tr>\n",
       "    <tr>\n",
       "      <th>7299660</th>\n",
       "      <td>Q63</td>\n",
       "      <td>08Q</td>\n",
       "      <td>G85031</td>\n",
       "      <td>1502010J0BWAAEL</td>\n",
       "      <td>Ralvo_Medic Plastr 700mg</td>\n",
       "      <td>5</td>\n",
       "      <td>369.24</td>\n",
       "      <td>342.50</td>\n",
       "      <td>180</td>\n",
       "      <td>201804</td>\n",
       "      <td></td>\n",
       "    </tr>\n",
       "    <tr>\n",
       "      <th>6124401</th>\n",
       "      <td>Q61</td>\n",
       "      <td>07R</td>\n",
       "      <td>F83017</td>\n",
       "      <td>1502010P0BCACA0</td>\n",
       "      <td>Scandonest_Plain Inj 3% 2.2ml Cart</td>\n",
       "      <td>3</td>\n",
       "      <td>1.32</td>\n",
       "      <td>1.23</td>\n",
       "      <td>3</td>\n",
       "      <td>201804</td>\n",
       "      <td></td>\n",
       "    </tr>\n",
       "    <tr>\n",
       "      <th>7439151</th>\n",
       "      <td>Q63</td>\n",
       "      <td>08X</td>\n",
       "      <td>Y01132</td>\n",
       "      <td>1502010V0AAAAAA</td>\n",
       "      <td>Levobupivac HCl_Inj 2.5mg/ml 10ml Amp</td>\n",
       "      <td>1</td>\n",
       "      <td>14.11</td>\n",
       "      <td>13.10</td>\n",
       "      <td>10</td>\n",
       "      <td>201804</td>\n",
       "      <td></td>\n",
       "    </tr>\n",
       "  </tbody>\n",
       "</table>\n",
       "</div>"
      ],
      "text/plain": [
       "         SHA  PCT PRACTICE         BNF CODE  \\\n",
       "7305069  Q63  08Q  G85050   1502010J0BWAAEL   \n",
       "7307303  Q63  08Q  G85052   1502010J0BWAAEL   \n",
       "7308189  Q63  08Q  G85082   1502010J0BWAAEL   \n",
       "7309177  Q63  08Q  G85084   1502010J0BWAAEL   \n",
       "7240288  Q63  08L  G85076   1502010J0BWAAEL   \n",
       "6396294  Q61  08M  F84070   1502010J0BWAAEL   \n",
       "7424640  Q63  08X  H85075   1502010J0BWAAEL   \n",
       "7299660  Q63  08Q  G85031   1502010J0BWAAEL   \n",
       "6124401  Q61  07R  F83017   1502010P0BCACA0   \n",
       "7439151  Q63  08X  Y01132   1502010V0AAAAAA   \n",
       "\n",
       "                                      BNF NAME  ITEMS     NIC  ACT COST  \\\n",
       "7305069  Ralvo_Medic Plastr 700mg               2      184.62  171.24     \n",
       "7307303  Ralvo_Medic Plastr 700mg               3      143.59  133.29     \n",
       "7308189  Ralvo_Medic Plastr 700mg               2      123.08  114.17     \n",
       "7309177  Ralvo_Medic Plastr 700mg               7      492.32  456.66     \n",
       "7240288  Ralvo_Medic Plastr 700mg               1      123.08  114.16     \n",
       "6396294  Ralvo_Medic Plastr 700mg               3      184.62  171.25     \n",
       "7424640  Ralvo_Medic Plastr 700mg               1      61.54   57.08      \n",
       "7299660  Ralvo_Medic Plastr 700mg               5      369.24  342.50     \n",
       "6124401  Scandonest_Plain Inj 3% 2.2ml Cart     3      1.32    1.23       \n",
       "7439151  Levobupivac HCl_Inj 2.5mg/ml 10ml Amp  1      14.11   13.10      \n",
       "\n",
       "         QUANTITY  PERIOD    \n",
       "7305069  90        201804    \n",
       "7307303  70        201804    \n",
       "7308189  60        201804    \n",
       "7309177  240       201804    \n",
       "7240288  60        201804    \n",
       "6396294  90        201804    \n",
       "7424640  30        201804    \n",
       "7299660  180       201804    \n",
       "6124401  3         201804    \n",
       "7439151  10        201804    "
      ]
     },
     "execution_count": 36,
     "metadata": {},
     "output_type": "execute_result"
    }
   ],
   "source": [
    "# Create df\n",
    "drugs_only = prescribing_london[\n",
    "    prescribing_london[\"BNF CODE\"].str.startswith(\n",
    "        (\"01\", \"02\", \"03\", \"04\", \"05\", \"06\", \"07\", \"08\", \"10\", \"11\", \"12\", \"13\", \"14\", \"15\")\n",
    "    )\n",
    "]\n",
    "\n",
    "# sort data by \"BNF code\" and show the last 5 rows to make sure that the last values do not begin > \"15...\"\n",
    "drugs_only.sort_values(\"BNF CODE\").tail(10)\n",
    "\n"
   ]
  },
  {
   "cell_type": "markdown",
   "metadata": {},
   "source": [
    "#### Step 2. Add drug name information column to this df by merging with chemical substances info available on NHS digital website"
   ]
  },
  {
   "cell_type": "code",
   "execution_count": 37,
   "metadata": {
    "scrolled": true
   },
   "outputs": [
    {
     "name": "stderr",
     "output_type": "stream",
     "text": [
      "/Users/clairemooney/anaconda3/lib/python3.7/site-packages/ipykernel_launcher.py:13: SettingWithCopyWarning: \n",
      "A value is trying to be set on a copy of a slice from a DataFrame.\n",
      "Try using .loc[row_indexer,col_indexer] = value instead\n",
      "\n",
      "See the caveats in the documentation: http://pandas.pydata.org/pandas-docs/stable/indexing.html#indexing-view-versus-copy\n",
      "  del sys.path[0]\n"
     ]
    },
    {
     "data": {
      "text/html": [
       "<div>\n",
       "<style scoped>\n",
       "    .dataframe tbody tr th:only-of-type {\n",
       "        vertical-align: middle;\n",
       "    }\n",
       "\n",
       "    .dataframe tbody tr th {\n",
       "        vertical-align: top;\n",
       "    }\n",
       "\n",
       "    .dataframe thead th {\n",
       "        text-align: right;\n",
       "    }\n",
       "</style>\n",
       "<table border=\"1\" class=\"dataframe\">\n",
       "  <thead>\n",
       "    <tr style=\"text-align: right;\">\n",
       "      <th></th>\n",
       "      <th>SHA</th>\n",
       "      <th>PCT</th>\n",
       "      <th>PRACTICE</th>\n",
       "      <th>BNF CODE</th>\n",
       "      <th>BNF NAME</th>\n",
       "      <th>ITEMS</th>\n",
       "      <th>NIC</th>\n",
       "      <th>ACT COST</th>\n",
       "      <th>QUANTITY</th>\n",
       "      <th>PERIOD</th>\n",
       "      <th></th>\n",
       "      <th>BNF_CODE_9</th>\n",
       "    </tr>\n",
       "  </thead>\n",
       "  <tbody>\n",
       "    <tr>\n",
       "      <th>6050139</th>\n",
       "      <td>Q61</td>\n",
       "      <td>07M</td>\n",
       "      <td>E83003</td>\n",
       "      <td>0101010G0BCABAB</td>\n",
       "      <td>Mucogel_Susp 195mg/220mg/5ml S/F</td>\n",
       "      <td>1</td>\n",
       "      <td>2.99</td>\n",
       "      <td>2.79</td>\n",
       "      <td>500</td>\n",
       "      <td>201804</td>\n",
       "      <td></td>\n",
       "      <td>0101010G0</td>\n",
       "    </tr>\n",
       "    <tr>\n",
       "      <th>6050140</th>\n",
       "      <td>Q61</td>\n",
       "      <td>07M</td>\n",
       "      <td>E83003</td>\n",
       "      <td>0101010L0BEAAAI</td>\n",
       "      <td>Maalox Plus_Susp</td>\n",
       "      <td>1</td>\n",
       "      <td>2.91</td>\n",
       "      <td>2.71</td>\n",
       "      <td>250</td>\n",
       "      <td>201804</td>\n",
       "      <td></td>\n",
       "      <td>0101010L0</td>\n",
       "    </tr>\n",
       "    <tr>\n",
       "      <th>6050141</th>\n",
       "      <td>Q61</td>\n",
       "      <td>07M</td>\n",
       "      <td>E83003</td>\n",
       "      <td>0101021B0AAALAL</td>\n",
       "      <td>Sod Algin/Pot Bicarb_Susp S/F</td>\n",
       "      <td>12</td>\n",
       "      <td>66.56</td>\n",
       "      <td>61.88</td>\n",
       "      <td>6500</td>\n",
       "      <td>201804</td>\n",
       "      <td></td>\n",
       "      <td>0101021B0</td>\n",
       "    </tr>\n",
       "    <tr>\n",
       "      <th>6050142</th>\n",
       "      <td>Q61</td>\n",
       "      <td>07M</td>\n",
       "      <td>E83003</td>\n",
       "      <td>0101021B0AAAPAP</td>\n",
       "      <td>Sod Alginate/Pot Bicarb_Tab Chble 500mg</td>\n",
       "      <td>1</td>\n",
       "      <td>0.61</td>\n",
       "      <td>0.68</td>\n",
       "      <td>12</td>\n",
       "      <td>201804</td>\n",
       "      <td></td>\n",
       "      <td>0101021B0</td>\n",
       "    </tr>\n",
       "    <tr>\n",
       "      <th>6050143</th>\n",
       "      <td>Q61</td>\n",
       "      <td>07M</td>\n",
       "      <td>E83003</td>\n",
       "      <td>0101021B0BEADAJ</td>\n",
       "      <td>Gaviscon Infant_Sach 2g (Dual Pack) S/F</td>\n",
       "      <td>5</td>\n",
       "      <td>67.48</td>\n",
       "      <td>62.64</td>\n",
       "      <td>210</td>\n",
       "      <td>201804</td>\n",
       "      <td></td>\n",
       "      <td>0101021B0</td>\n",
       "    </tr>\n",
       "  </tbody>\n",
       "</table>\n",
       "</div>"
      ],
      "text/plain": [
       "         SHA  PCT PRACTICE         BNF CODE  \\\n",
       "6050139  Q61  07M  E83003   0101010G0BCABAB   \n",
       "6050140  Q61  07M  E83003   0101010L0BEAAAI   \n",
       "6050141  Q61  07M  E83003   0101021B0AAALAL   \n",
       "6050142  Q61  07M  E83003   0101021B0AAAPAP   \n",
       "6050143  Q61  07M  E83003   0101021B0BEADAJ   \n",
       "\n",
       "                                        BNF NAME  ITEMS    NIC  ACT COST  \\\n",
       "6050139  Mucogel_Susp 195mg/220mg/5ml S/F         1      2.99   2.79       \n",
       "6050140  Maalox Plus_Susp                         1      2.91   2.71       \n",
       "6050141  Sod Algin/Pot Bicarb_Susp S/F            12     66.56  61.88      \n",
       "6050142  Sod Alginate/Pot Bicarb_Tab Chble 500mg  1      0.61   0.68       \n",
       "6050143  Gaviscon Infant_Sach 2g (Dual Pack) S/F  5      67.48  62.64      \n",
       "\n",
       "         QUANTITY  PERIOD   BNF_CODE_9  \n",
       "6050139  500       201804    0101010G0  \n",
       "6050140  250       201804    0101010L0  \n",
       "6050141  6500      201804    0101021B0  \n",
       "6050142  12        201804    0101021B0  \n",
       "6050143  210       201804    0101021B0  "
      ]
     },
     "execution_count": 37,
     "metadata": {},
     "output_type": "execute_result"
    }
   ],
   "source": [
    "# Make a new data frame of bnf chemical substances\n",
    "bnf_chem_subs = pd.read_csv('https://files.digital.nhs.uk/79/6D58A8/T201804CHEM%20SUBS.CSV', header=0)\n",
    "\n",
    "\n",
    "# Remove any white space around column names and string columns\n",
    "bnf_chem_subs = bnf_chem_subs.rename(columns=lambda x: x.strip())\n",
    "\n",
    "for col in bnf_chem_subs.keys():\n",
    "   if type(bnf_chem_subs[col].iloc[0])==str:\n",
    "     bnf_chem_subs[col] = bnf_chem_subs[col].str.strip()\n",
    "        \n",
    "# Make a new column in the df that lists the first 9 digits of the BNF code\n",
    "drugs_only['BNF_CODE_9']=drugs_only['BNF CODE'].str[:9]\n",
    "\n",
    "# Check new columns added correctly\n",
    "drugs_only.head(5)\n"
   ]
  },
  {
   "cell_type": "code",
   "execution_count": 38,
   "metadata": {
    "scrolled": false
   },
   "outputs": [],
   "source": [
    "# Merge files so that data frame contains drug name \n",
    "BNF9 = drugs_only.merge(bnf_chem_subs, how='inner', left_on=['BNF_CODE_9'], right_on=['CHEM SUB'])"
   ]
  },
  {
   "cell_type": "code",
   "execution_count": 39,
   "metadata": {
    "scrolled": true
   },
   "outputs": [
    {
     "data": {
      "text/plain": [
       "(661579, 16)"
      ]
     },
     "execution_count": 39,
     "metadata": {},
     "output_type": "execute_result"
    }
   ],
   "source": [
    "# Check new df\n",
    "BNF9.shape"
   ]
  },
  {
   "cell_type": "code",
   "execution_count": 40,
   "metadata": {
    "scrolled": false
   },
   "outputs": [
    {
     "data": {
      "text/html": [
       "<div>\n",
       "<style scoped>\n",
       "    .dataframe tbody tr th:only-of-type {\n",
       "        vertical-align: middle;\n",
       "    }\n",
       "\n",
       "    .dataframe tbody tr th {\n",
       "        vertical-align: top;\n",
       "    }\n",
       "\n",
       "    .dataframe thead th {\n",
       "        text-align: right;\n",
       "    }\n",
       "</style>\n",
       "<table border=\"1\" class=\"dataframe\">\n",
       "  <thead>\n",
       "    <tr style=\"text-align: right;\">\n",
       "      <th></th>\n",
       "      <th>SHA</th>\n",
       "      <th>PCT</th>\n",
       "      <th>PRACTICE</th>\n",
       "      <th>BNF CODE</th>\n",
       "      <th>BNF NAME</th>\n",
       "      <th>ITEMS</th>\n",
       "      <th>NIC</th>\n",
       "      <th>ACT COST</th>\n",
       "      <th>QUANTITY</th>\n",
       "      <th>PERIOD</th>\n",
       "      <th>_x</th>\n",
       "      <th>BNF_CODE_9</th>\n",
       "      <th>CHEM SUB</th>\n",
       "      <th>NAME</th>\n",
       "      <th>201804</th>\n",
       "      <th>_y</th>\n",
       "    </tr>\n",
       "  </thead>\n",
       "  <tbody>\n",
       "    <tr>\n",
       "      <th>0</th>\n",
       "      <td>Q61</td>\n",
       "      <td>07M</td>\n",
       "      <td>E83003</td>\n",
       "      <td>0101010G0BCABAB</td>\n",
       "      <td>Mucogel_Susp 195mg/220mg/5ml S/F</td>\n",
       "      <td>1</td>\n",
       "      <td>2.99</td>\n",
       "      <td>2.79</td>\n",
       "      <td>500</td>\n",
       "      <td>201804</td>\n",
       "      <td></td>\n",
       "      <td>0101010G0</td>\n",
       "      <td>0101010G0</td>\n",
       "      <td>Co-Magaldrox(Magnesium/Aluminium Hydrox)</td>\n",
       "      <td></td>\n",
       "      <td>NaN</td>\n",
       "    </tr>\n",
       "    <tr>\n",
       "      <th>1</th>\n",
       "      <td>Q61</td>\n",
       "      <td>07M</td>\n",
       "      <td>E83006</td>\n",
       "      <td>0101010G0BCABAB</td>\n",
       "      <td>Mucogel_Susp 195mg/220mg/5ml S/F</td>\n",
       "      <td>1</td>\n",
       "      <td>2.99</td>\n",
       "      <td>2.79</td>\n",
       "      <td>500</td>\n",
       "      <td>201804</td>\n",
       "      <td></td>\n",
       "      <td>0101010G0</td>\n",
       "      <td>0101010G0</td>\n",
       "      <td>Co-Magaldrox(Magnesium/Aluminium Hydrox)</td>\n",
       "      <td></td>\n",
       "      <td>NaN</td>\n",
       "    </tr>\n",
       "    <tr>\n",
       "      <th>2</th>\n",
       "      <td>Q61</td>\n",
       "      <td>07M</td>\n",
       "      <td>E83011</td>\n",
       "      <td>0101010G0BCABAB</td>\n",
       "      <td>Mucogel_Susp 195mg/220mg/5ml S/F</td>\n",
       "      <td>1</td>\n",
       "      <td>2.99</td>\n",
       "      <td>2.79</td>\n",
       "      <td>500</td>\n",
       "      <td>201804</td>\n",
       "      <td></td>\n",
       "      <td>0101010G0</td>\n",
       "      <td>0101010G0</td>\n",
       "      <td>Co-Magaldrox(Magnesium/Aluminium Hydrox)</td>\n",
       "      <td></td>\n",
       "      <td>NaN</td>\n",
       "    </tr>\n",
       "    <tr>\n",
       "      <th>3</th>\n",
       "      <td>Q61</td>\n",
       "      <td>07M</td>\n",
       "      <td>E83021</td>\n",
       "      <td>0101010G0BCABAB</td>\n",
       "      <td>Mucogel_Susp 195mg/220mg/5ml S/F</td>\n",
       "      <td>1</td>\n",
       "      <td>2.99</td>\n",
       "      <td>2.79</td>\n",
       "      <td>500</td>\n",
       "      <td>201804</td>\n",
       "      <td></td>\n",
       "      <td>0101010G0</td>\n",
       "      <td>0101010G0</td>\n",
       "      <td>Co-Magaldrox(Magnesium/Aluminium Hydrox)</td>\n",
       "      <td></td>\n",
       "      <td>NaN</td>\n",
       "    </tr>\n",
       "    <tr>\n",
       "      <th>4</th>\n",
       "      <td>Q61</td>\n",
       "      <td>07M</td>\n",
       "      <td>E83035</td>\n",
       "      <td>0101010G0BCABAB</td>\n",
       "      <td>Mucogel_Susp 195mg/220mg/5ml S/F</td>\n",
       "      <td>1</td>\n",
       "      <td>2.99</td>\n",
       "      <td>2.79</td>\n",
       "      <td>500</td>\n",
       "      <td>201804</td>\n",
       "      <td></td>\n",
       "      <td>0101010G0</td>\n",
       "      <td>0101010G0</td>\n",
       "      <td>Co-Magaldrox(Magnesium/Aluminium Hydrox)</td>\n",
       "      <td></td>\n",
       "      <td>NaN</td>\n",
       "    </tr>\n",
       "  </tbody>\n",
       "</table>\n",
       "</div>"
      ],
      "text/plain": [
       "   SHA  PCT PRACTICE         BNF CODE                          BNF NAME  \\\n",
       "0  Q61  07M  E83003   0101010G0BCABAB  Mucogel_Susp 195mg/220mg/5ml S/F   \n",
       "1  Q61  07M  E83006   0101010G0BCABAB  Mucogel_Susp 195mg/220mg/5ml S/F   \n",
       "2  Q61  07M  E83011   0101010G0BCABAB  Mucogel_Susp 195mg/220mg/5ml S/F   \n",
       "3  Q61  07M  E83021   0101010G0BCABAB  Mucogel_Susp 195mg/220mg/5ml S/F   \n",
       "4  Q61  07M  E83035   0101010G0BCABAB  Mucogel_Susp 195mg/220mg/5ml S/F   \n",
       "\n",
       "   ITEMS   NIC  ACT COST  QUANTITY  PERIOD _x BNF_CODE_9   CHEM SUB  \\\n",
       "0  1      2.99  2.79      500       201804     0101010G0  0101010G0   \n",
       "1  1      2.99  2.79      500       201804     0101010G0  0101010G0   \n",
       "2  1      2.99  2.79      500       201804     0101010G0  0101010G0   \n",
       "3  1      2.99  2.79      500       201804     0101010G0  0101010G0   \n",
       "4  1      2.99  2.79      500       201804     0101010G0  0101010G0   \n",
       "\n",
       "                                       NAME 201804  _y  \n",
       "0  Co-Magaldrox(Magnesium/Aluminium Hydrox)        NaN  \n",
       "1  Co-Magaldrox(Magnesium/Aluminium Hydrox)        NaN  \n",
       "2  Co-Magaldrox(Magnesium/Aluminium Hydrox)        NaN  \n",
       "3  Co-Magaldrox(Magnesium/Aluminium Hydrox)        NaN  \n",
       "4  Co-Magaldrox(Magnesium/Aluminium Hydrox)        NaN  "
      ]
     },
     "execution_count": 40,
     "metadata": {},
     "output_type": "execute_result"
    }
   ],
   "source": [
    "# Check new df\n",
    "BNF9.head(5)"
   ]
  },
  {
   "cell_type": "markdown",
   "metadata": {},
   "source": [
    "#### Step 3. Group the data according to drug name and count the number of items (indicted by the \"ITEMS\" column) in each group ie: for each drug name"
   ]
  },
  {
   "cell_type": "code",
   "execution_count": 41,
   "metadata": {
    "scrolled": false
   },
   "outputs": [],
   "source": [
    "# group the merged data by drug name and sum the number of items in each group\n",
    "BNF9_grouped = BNF9.groupby(['NAME'])"
   ]
  },
  {
   "cell_type": "code",
   "execution_count": 42,
   "metadata": {
    "scrolled": false
   },
   "outputs": [
    {
     "data": {
      "text/plain": [
       "1067"
      ]
     },
     "execution_count": 42,
     "metadata": {},
     "output_type": "execute_result"
    }
   ],
   "source": [
    "# check how many groups were created\n",
    "len(BNF9_grouped)"
   ]
  },
  {
   "cell_type": "code",
   "execution_count": 43,
   "metadata": {
    "scrolled": false
   },
   "outputs": [],
   "source": [
    "# sum number of prescriptions in the \"ITEMS\" in each group, rename the \"sum\" colum \"TOTAL_ITEMS\" and sort the values\n",
    "counts = BNF9_grouped[\"ITEMS\"].sum().reset_index(name=\"TOTAL_ITEMS\").sort_values([\"TOTAL_ITEMS\"], ascending=False)"
   ]
  },
  {
   "cell_type": "markdown",
   "metadata": {},
   "source": [
    "#### Step 4. Identify the top 10 most frequently prescribed drugs"
   ]
  },
  {
   "cell_type": "markdown",
   "metadata": {},
   "source": [
    "<a id='table2'></a>\n",
    "##### Table 2 Top 10 most prescribed drugs London"
   ]
  },
  {
   "cell_type": "code",
   "execution_count": 44,
   "metadata": {
    "scrolled": true
   },
   "outputs": [
    {
     "data": {
      "text/html": [
       "<div>\n",
       "<style scoped>\n",
       "    .dataframe tbody tr th:only-of-type {\n",
       "        vertical-align: middle;\n",
       "    }\n",
       "\n",
       "    .dataframe tbody tr th {\n",
       "        vertical-align: top;\n",
       "    }\n",
       "\n",
       "    .dataframe thead th {\n",
       "        text-align: right;\n",
       "    }\n",
       "</style>\n",
       "<table border=\"1\" class=\"dataframe\">\n",
       "  <thead>\n",
       "    <tr style=\"text-align: right;\">\n",
       "      <th></th>\n",
       "      <th>NAME</th>\n",
       "      <th>TOTAL_ITEMS</th>\n",
       "    </tr>\n",
       "  </thead>\n",
       "  <tbody>\n",
       "    <tr>\n",
       "      <th>77</th>\n",
       "      <td>Atorvastatin</td>\n",
       "      <td>262472</td>\n",
       "    </tr>\n",
       "    <tr>\n",
       "      <th>54</th>\n",
       "      <td>Amlodipine</td>\n",
       "      <td>205497</td>\n",
       "    </tr>\n",
       "    <tr>\n",
       "      <th>627</th>\n",
       "      <td>Metformin Hydrochloride</td>\n",
       "      <td>174110</td>\n",
       "    </tr>\n",
       "    <tr>\n",
       "      <th>560</th>\n",
       "      <td>Levothyroxine Sodium</td>\n",
       "      <td>149900</td>\n",
       "    </tr>\n",
       "    <tr>\n",
       "      <th>870</th>\n",
       "      <td>Ramipril</td>\n",
       "      <td>149128</td>\n",
       "    </tr>\n",
       "    <tr>\n",
       "      <th>725</th>\n",
       "      <td>Omeprazole</td>\n",
       "      <td>143935</td>\n",
       "    </tr>\n",
       "    <tr>\n",
       "      <th>543</th>\n",
       "      <td>Lansoprazole</td>\n",
       "      <td>134012</td>\n",
       "    </tr>\n",
       "    <tr>\n",
       "      <th>72</th>\n",
       "      <td>Aspirin</td>\n",
       "      <td>128978</td>\n",
       "    </tr>\n",
       "    <tr>\n",
       "      <th>915</th>\n",
       "      <td>Simvastatin</td>\n",
       "      <td>116354</td>\n",
       "    </tr>\n",
       "    <tr>\n",
       "      <th>118</th>\n",
       "      <td>Bisoprolol Fumarate</td>\n",
       "      <td>115176</td>\n",
       "    </tr>\n",
       "  </tbody>\n",
       "</table>\n",
       "</div>"
      ],
      "text/plain": [
       "                        NAME  TOTAL_ITEMS\n",
       "77   Atorvastatin             262472     \n",
       "54   Amlodipine               205497     \n",
       "627  Metformin Hydrochloride  174110     \n",
       "560  Levothyroxine Sodium     149900     \n",
       "870  Ramipril                 149128     \n",
       "725  Omeprazole               143935     \n",
       "543  Lansoprazole             134012     \n",
       "72   Aspirin                  128978     \n",
       "915  Simvastatin              116354     \n",
       "118  Bisoprolol Fumarate      115176     "
      ]
     },
     "execution_count": 44,
     "metadata": {},
     "output_type": "execute_result"
    }
   ],
   "source": [
    " counts.nlargest(10, ['TOTAL_ITEMS'])"
   ]
  },
  {
   "cell_type": "code",
   "execution_count": 45,
   "metadata": {
    "scrolled": true
   },
   "outputs": [
    {
     "data": {
      "text/plain": [
       "262472"
      ]
     },
     "execution_count": 45,
     "metadata": {},
     "output_type": "execute_result"
    }
   ],
   "source": [
    "# check that the number of items for Atorvastatin = 262,472\n",
    "BNF9[BNF9.NAME == \"Atorvastatin\"].ITEMS.sum()"
   ]
  },
  {
   "cell_type": "markdown",
   "metadata": {},
   "source": [
    "#### Step 5. Identify the top 10 least frequently prescribed drugs"
   ]
  },
  {
   "cell_type": "markdown",
   "metadata": {},
   "source": [
    "From the sorted \"counts\" dataframe in step 3 we can see that there are more than 10 drugs that were prescribed only once. First we need to find out exactly how many drug are only prescribed once. We can then investigate further to see what chapters they come from as there may be a trend towards least prescibing from different chapters."
   ]
  },
  {
   "cell_type": "code",
   "execution_count": 46,
   "metadata": {
    "scrolled": true
   },
   "outputs": [
    {
     "data": {
      "text/plain": [
       "(54, 2)"
      ]
     },
     "execution_count": 46,
     "metadata": {},
     "output_type": "execute_result"
    }
   ],
   "source": [
    "# create new df containing only drugs prescibed once and then get the number of rows\n",
    "least = counts[counts['TOTAL_ITEMS'] == 1]\n",
    "least.shape"
   ]
  },
  {
   "cell_type": "code",
   "execution_count": 47,
   "metadata": {
    "scrolled": false
   },
   "outputs": [],
   "source": [
    "# to get all of the information related to the least presecribed drugs merge least df with BNF9 df\n",
    "least_alldata = least.merge(BNF9, how='inner', on=['NAME'])\n"
   ]
  },
  {
   "cell_type": "markdown",
   "metadata": {},
   "source": [
    "<a id='table3'></a>\n",
    "##### Table 3"
   ]
  },
  {
   "cell_type": "code",
   "execution_count": 48,
   "metadata": {},
   "outputs": [
    {
     "data": {
      "text/html": [
       "<div>\n",
       "<style scoped>\n",
       "    .dataframe tbody tr th:only-of-type {\n",
       "        vertical-align: middle;\n",
       "    }\n",
       "\n",
       "    .dataframe tbody tr th {\n",
       "        vertical-align: top;\n",
       "    }\n",
       "\n",
       "    .dataframe thead th {\n",
       "        text-align: right;\n",
       "    }\n",
       "</style>\n",
       "<table border=\"1\" class=\"dataframe\">\n",
       "  <thead>\n",
       "    <tr style=\"text-align: right;\">\n",
       "      <th></th>\n",
       "      <th>NAME</th>\n",
       "      <th>TOTAL_ITEMS</th>\n",
       "      <th>SHA</th>\n",
       "      <th>PCT</th>\n",
       "      <th>PRACTICE</th>\n",
       "      <th>BNF CODE</th>\n",
       "      <th>BNF NAME</th>\n",
       "      <th>ITEMS</th>\n",
       "      <th>NIC</th>\n",
       "      <th>ACT COST</th>\n",
       "      <th>QUANTITY</th>\n",
       "      <th>PERIOD</th>\n",
       "      <th>_x</th>\n",
       "      <th>BNF_CODE_9</th>\n",
       "      <th>CHEM SUB</th>\n",
       "      <th>201804</th>\n",
       "      <th>_y</th>\n",
       "    </tr>\n",
       "  </thead>\n",
       "  <tbody>\n",
       "    <tr>\n",
       "      <th>15</th>\n",
       "      <td>Macrogol 4000</td>\n",
       "      <td>1</td>\n",
       "      <td>Q61</td>\n",
       "      <td>08D</td>\n",
       "      <td>Y03035</td>\n",
       "      <td>0106040X0AAAAAA</td>\n",
       "      <td>Macrogol 4000_Pdr Sach 10g S/F</td>\n",
       "      <td>1</td>\n",
       "      <td>12.87</td>\n",
       "      <td>11.95</td>\n",
       "      <td>60</td>\n",
       "      <td>201804</td>\n",
       "      <td></td>\n",
       "      <td>0106040X0</td>\n",
       "      <td>0106040X0</td>\n",
       "      <td></td>\n",
       "      <td>NaN</td>\n",
       "    </tr>\n",
       "    <tr>\n",
       "      <th>33</th>\n",
       "      <td>Timolol With Diuretic</td>\n",
       "      <td>1</td>\n",
       "      <td>Q61</td>\n",
       "      <td>08W</td>\n",
       "      <td>F86666</td>\n",
       "      <td>020400030AAAEAE</td>\n",
       "      <td>Timolol/Bendroflumeth_Tab 10mg/2.5mg</td>\n",
       "      <td>1</td>\n",
       "      <td>125.66</td>\n",
       "      <td>116.55</td>\n",
       "      <td>60</td>\n",
       "      <td>201804</td>\n",
       "      <td></td>\n",
       "      <td>020400030</td>\n",
       "      <td>020400030</td>\n",
       "      <td></td>\n",
       "      <td>NaN</td>\n",
       "    </tr>\n",
       "    <tr>\n",
       "      <th>50</th>\n",
       "      <td>Phenindione</td>\n",
       "      <td>1</td>\n",
       "      <td>Q61</td>\n",
       "      <td>08M</td>\n",
       "      <td>F84730</td>\n",
       "      <td>0208020N0AAAAAA</td>\n",
       "      <td>Phenindione_Tab 10mg</td>\n",
       "      <td>1</td>\n",
       "      <td>5919.98</td>\n",
       "      <td>5490.15</td>\n",
       "      <td>308</td>\n",
       "      <td>201804</td>\n",
       "      <td></td>\n",
       "      <td>0208020N0</td>\n",
       "      <td>0208020N0</td>\n",
       "      <td></td>\n",
       "      <td>NaN</td>\n",
       "    </tr>\n",
       "    <tr>\n",
       "      <th>0</th>\n",
       "      <td>Alirocumab</td>\n",
       "      <td>1</td>\n",
       "      <td>Q63</td>\n",
       "      <td>08X</td>\n",
       "      <td>H85114</td>\n",
       "      <td>0212000AIAAABAB</td>\n",
       "      <td>Alirocumab_Inj 150mg/1ml PF Dev</td>\n",
       "      <td>1</td>\n",
       "      <td>504.00</td>\n",
       "      <td>467.42</td>\n",
       "      <td>3</td>\n",
       "      <td>201804</td>\n",
       "      <td></td>\n",
       "      <td>0212000AI</td>\n",
       "      <td>0212000AI</td>\n",
       "      <td></td>\n",
       "      <td>NaN</td>\n",
       "    </tr>\n",
       "    <tr>\n",
       "      <th>7</th>\n",
       "      <td>Other Expectorant&amp; Demulcent Cough Preps</td>\n",
       "      <td>1</td>\n",
       "      <td>Q62</td>\n",
       "      <td>08Y</td>\n",
       "      <td>E87722</td>\n",
       "      <td>030902000BEDSA0</td>\n",
       "      <td>Buttercup_Bronchostop Cough Syr</td>\n",
       "      <td>1</td>\n",
       "      <td>7.74</td>\n",
       "      <td>7.19</td>\n",
       "      <td>240</td>\n",
       "      <td>201804</td>\n",
       "      <td></td>\n",
       "      <td>030902000</td>\n",
       "      <td>030902000</td>\n",
       "      <td></td>\n",
       "      <td>NaN</td>\n",
       "    </tr>\n",
       "    <tr>\n",
       "      <th>4</th>\n",
       "      <td>Dextromethorphan Hydrobrom Comp Prep's</td>\n",
       "      <td>1</td>\n",
       "      <td>Q61</td>\n",
       "      <td>07T</td>\n",
       "      <td>F84080</td>\n",
       "      <td>0309020R0AAABAB</td>\n",
       "      <td>Diphenhyd/Dextrometh_OralSoln10/6.65/5ml</td>\n",
       "      <td>1</td>\n",
       "      <td>3.44</td>\n",
       "      <td>3.20</td>\n",
       "      <td>150</td>\n",
       "      <td>201804</td>\n",
       "      <td></td>\n",
       "      <td>0309020R0</td>\n",
       "      <td>0309020R0</td>\n",
       "      <td></td>\n",
       "      <td>NaN</td>\n",
       "    </tr>\n",
       "    <tr>\n",
       "      <th>43</th>\n",
       "      <td>Caffeine Citrate</td>\n",
       "      <td>1</td>\n",
       "      <td>Q61</td>\n",
       "      <td>08V</td>\n",
       "      <td>F84079</td>\n",
       "      <td>0404000E0AAAMAM</td>\n",
       "      <td>Caffeine Cit_Liq Spec 10mg/5ml</td>\n",
       "      <td>1</td>\n",
       "      <td>756.60</td>\n",
       "      <td>701.68</td>\n",
       "      <td>150</td>\n",
       "      <td>201804</td>\n",
       "      <td></td>\n",
       "      <td>0404000E0</td>\n",
       "      <td>0404000E0</td>\n",
       "      <td></td>\n",
       "      <td>NaN</td>\n",
       "    </tr>\n",
       "    <tr>\n",
       "      <th>13</th>\n",
       "      <td>Nabilone</td>\n",
       "      <td>1</td>\n",
       "      <td>Q61</td>\n",
       "      <td>08M</td>\n",
       "      <td>F84735</td>\n",
       "      <td>0406000R0AAAAAA</td>\n",
       "      <td>Nabilone_Cap 1mg</td>\n",
       "      <td>1</td>\n",
       "      <td>588.00</td>\n",
       "      <td>545.32</td>\n",
       "      <td>60</td>\n",
       "      <td>201804</td>\n",
       "      <td></td>\n",
       "      <td>0406000R0</td>\n",
       "      <td>0406000R0</td>\n",
       "      <td></td>\n",
       "      <td>NaN</td>\n",
       "    </tr>\n",
       "    <tr>\n",
       "      <th>20</th>\n",
       "      <td>Ketamine Hydrochloride</td>\n",
       "      <td>1</td>\n",
       "      <td>Q62</td>\n",
       "      <td>07W</td>\n",
       "      <td>E85116</td>\n",
       "      <td>0406000W0AAAPAP</td>\n",
       "      <td>Ketamine_Oral Susp 50mg/5ml</td>\n",
       "      <td>1</td>\n",
       "      <td>109.06</td>\n",
       "      <td>101.15</td>\n",
       "      <td>200</td>\n",
       "      <td>201804</td>\n",
       "      <td></td>\n",
       "      <td>0406000W0</td>\n",
       "      <td>0406000W0</td>\n",
       "      <td></td>\n",
       "      <td>NaN</td>\n",
       "    </tr>\n",
       "    <tr>\n",
       "      <th>36</th>\n",
       "      <td>Aspirin &amp; Caffeine</td>\n",
       "      <td>1</td>\n",
       "      <td>Q62</td>\n",
       "      <td>07W</td>\n",
       "      <td>E85628</td>\n",
       "      <td>0407010AABCAAAB</td>\n",
       "      <td>Anadin Orig_Tab 325mg/15mg</td>\n",
       "      <td>1</td>\n",
       "      <td>4.46</td>\n",
       "      <td>4.25</td>\n",
       "      <td>60</td>\n",
       "      <td>201804</td>\n",
       "      <td></td>\n",
       "      <td>0407010AA</td>\n",
       "      <td>0407010AA</td>\n",
       "      <td></td>\n",
       "      <td>NaN</td>\n",
       "    </tr>\n",
       "    <tr>\n",
       "      <th>42</th>\n",
       "      <td>Paracetamol &amp; Ibuprofen</td>\n",
       "      <td>1</td>\n",
       "      <td>Q61</td>\n",
       "      <td>08D</td>\n",
       "      <td>F85034</td>\n",
       "      <td>0407010ADAAAAAA</td>\n",
       "      <td>Paracet/Ibuprofen_Tab 500mg/200mg</td>\n",
       "      <td>1</td>\n",
       "      <td>18.06</td>\n",
       "      <td>16.76</td>\n",
       "      <td>84</td>\n",
       "      <td>201804</td>\n",
       "      <td></td>\n",
       "      <td>0407010AD</td>\n",
       "      <td>0407010AD</td>\n",
       "      <td></td>\n",
       "      <td>NaN</td>\n",
       "    </tr>\n",
       "    <tr>\n",
       "      <th>49</th>\n",
       "      <td>Phenobarbital Sod</td>\n",
       "      <td>1</td>\n",
       "      <td>Q63</td>\n",
       "      <td>08A</td>\n",
       "      <td>G83026</td>\n",
       "      <td>0408010P0AAAVAV</td>\n",
       "      <td>Phenobarb Sod_Liq Spec 50mg/5ml</td>\n",
       "      <td>1</td>\n",
       "      <td>60.72</td>\n",
       "      <td>56.32</td>\n",
       "      <td>200</td>\n",
       "      <td>201804</td>\n",
       "      <td></td>\n",
       "      <td>0408010P0</td>\n",
       "      <td>0408010P0</td>\n",
       "      <td></td>\n",
       "      <td>NaN</td>\n",
       "    </tr>\n",
       "    <tr>\n",
       "      <th>37</th>\n",
       "      <td>Benzatropine Mesilate</td>\n",
       "      <td>1</td>\n",
       "      <td>Q61</td>\n",
       "      <td>08W</td>\n",
       "      <td>F86650</td>\n",
       "      <td>0409020E0AAABAB</td>\n",
       "      <td>Benzatropine Mesil_Tab 2mg</td>\n",
       "      <td>1</td>\n",
       "      <td>6.92</td>\n",
       "      <td>22.53</td>\n",
       "      <td>28</td>\n",
       "      <td>201804</td>\n",
       "      <td></td>\n",
       "      <td>0409020E0</td>\n",
       "      <td>0409020E0</td>\n",
       "      <td></td>\n",
       "      <td>NaN</td>\n",
       "    </tr>\n",
       "    <tr>\n",
       "      <th>14</th>\n",
       "      <td>Meropenem</td>\n",
       "      <td>1</td>\n",
       "      <td>Q61</td>\n",
       "      <td>08D</td>\n",
       "      <td>F85640</td>\n",
       "      <td>0501022A0AAAAAA</td>\n",
       "      <td>Meropenem_Inj 500mg Vl (Dry)</td>\n",
       "      <td>1</td>\n",
       "      <td>84.70</td>\n",
       "      <td>78.56</td>\n",
       "      <td>10</td>\n",
       "      <td>201804</td>\n",
       "      <td></td>\n",
       "      <td>0501022A0</td>\n",
       "      <td>0501022A0</td>\n",
       "      <td></td>\n",
       "      <td>NaN</td>\n",
       "    </tr>\n",
       "    <tr>\n",
       "      <th>29</th>\n",
       "      <td>Amikacin</td>\n",
       "      <td>1</td>\n",
       "      <td>Q61</td>\n",
       "      <td>08D</td>\n",
       "      <td>F85014</td>\n",
       "      <td>0501040C0AAADAD</td>\n",
       "      <td>Amikacin_Inj Paed 50mg/ml 2ml Vl</td>\n",
       "      <td>1</td>\n",
       "      <td>4.13</td>\n",
       "      <td>3.94</td>\n",
       "      <td>2</td>\n",
       "      <td>201804</td>\n",
       "      <td></td>\n",
       "      <td>0501040C0</td>\n",
       "      <td>0501040C0</td>\n",
       "      <td></td>\n",
       "      <td>NaN</td>\n",
       "    </tr>\n",
       "    <tr>\n",
       "      <th>45</th>\n",
       "      <td>Pyrazinamide</td>\n",
       "      <td>1</td>\n",
       "      <td>Q61</td>\n",
       "      <td>08W</td>\n",
       "      <td>F86666</td>\n",
       "      <td>0501090N0AACJCJ</td>\n",
       "      <td>Pyrazinamide_Tab 500mg</td>\n",
       "      <td>1</td>\n",
       "      <td>101.14</td>\n",
       "      <td>93.91</td>\n",
       "      <td>84</td>\n",
       "      <td>201804</td>\n",
       "      <td></td>\n",
       "      <td>0501090N0</td>\n",
       "      <td>0501090N0</td>\n",
       "      <td></td>\n",
       "      <td>NaN</td>\n",
       "    </tr>\n",
       "    <tr>\n",
       "      <th>41</th>\n",
       "      <td>Rifabutin</td>\n",
       "      <td>1</td>\n",
       "      <td>Q61</td>\n",
       "      <td>07R</td>\n",
       "      <td>F83018</td>\n",
       "      <td>0501090Q0AAABAB</td>\n",
       "      <td>Rifabutin_Cap 150mg</td>\n",
       "      <td>1</td>\n",
       "      <td>126.53</td>\n",
       "      <td>117.46</td>\n",
       "      <td>42</td>\n",
       "      <td>201804</td>\n",
       "      <td></td>\n",
       "      <td>0501090Q0</td>\n",
       "      <td>0501090Q0</td>\n",
       "      <td></td>\n",
       "      <td>NaN</td>\n",
       "    </tr>\n",
       "    <tr>\n",
       "      <th>6</th>\n",
       "      <td>Other HIV Infection Preps</td>\n",
       "      <td>1</td>\n",
       "      <td>Q61</td>\n",
       "      <td>07T</td>\n",
       "      <td>F84072</td>\n",
       "      <td>050301000BBAEA0</td>\n",
       "      <td>Genvoya_Tab 150mg/150mg/200mg/10mg</td>\n",
       "      <td>1</td>\n",
       "      <td>29.32</td>\n",
       "      <td>27.30</td>\n",
       "      <td>1</td>\n",
       "      <td>201804</td>\n",
       "      <td></td>\n",
       "      <td>050301000</td>\n",
       "      <td>050301000</td>\n",
       "      <td></td>\n",
       "      <td>NaN</td>\n",
       "    </tr>\n",
       "    <tr>\n",
       "      <th>44</th>\n",
       "      <td>Raltegravir</td>\n",
       "      <td>1</td>\n",
       "      <td>Q63</td>\n",
       "      <td>08K</td>\n",
       "      <td>G85021</td>\n",
       "      <td>0503010AEAAAAAA</td>\n",
       "      <td>Raltegravir_Tab 400mg</td>\n",
       "      <td>1</td>\n",
       "      <td>471.41</td>\n",
       "      <td>437.19</td>\n",
       "      <td>60</td>\n",
       "      <td>201804</td>\n",
       "      <td></td>\n",
       "      <td>0503010AE</td>\n",
       "      <td>0503010AE</td>\n",
       "      <td></td>\n",
       "      <td>NaN</td>\n",
       "    </tr>\n",
       "    <tr>\n",
       "      <th>19</th>\n",
       "      <td>Efavirenz/Emtricitabine/Tenofovir Disop</td>\n",
       "      <td>1</td>\n",
       "      <td>Q61</td>\n",
       "      <td>07R</td>\n",
       "      <td>F83050</td>\n",
       "      <td>0503010ANAAAAAA</td>\n",
       "      <td>Efavirenz/Emtricitabine/Tenofovir_Tab</td>\n",
       "      <td>1</td>\n",
       "      <td>532.87</td>\n",
       "      <td>494.19</td>\n",
       "      <td>30</td>\n",
       "      <td>201804</td>\n",
       "      <td></td>\n",
       "      <td>0503010AN</td>\n",
       "      <td>0503010AN</td>\n",
       "      <td></td>\n",
       "      <td>NaN</td>\n",
       "    </tr>\n",
       "    <tr>\n",
       "      <th>11</th>\n",
       "      <td>Nevirapine</td>\n",
       "      <td>1</td>\n",
       "      <td>Q61</td>\n",
       "      <td>07X</td>\n",
       "      <td>F85002</td>\n",
       "      <td>0503010B0AAAAAA</td>\n",
       "      <td>Nevirapine_Tab 200mg</td>\n",
       "      <td>1</td>\n",
       "      <td>2.83</td>\n",
       "      <td>2.74</td>\n",
       "      <td>1</td>\n",
       "      <td>201804</td>\n",
       "      <td></td>\n",
       "      <td>0503010B0</td>\n",
       "      <td>0503010B0</td>\n",
       "      <td></td>\n",
       "      <td>NaN</td>\n",
       "    </tr>\n",
       "    <tr>\n",
       "      <th>53</th>\n",
       "      <td>Abacavir &amp; Lamivudine</td>\n",
       "      <td>1</td>\n",
       "      <td>Q61</td>\n",
       "      <td>07X</td>\n",
       "      <td>F85002</td>\n",
       "      <td>0503010Z0AAAAAA</td>\n",
       "      <td>Abacavir/Lamivudine_Tab 600mg/300mg</td>\n",
       "      <td>1</td>\n",
       "      <td>9.48</td>\n",
       "      <td>8.90</td>\n",
       "      <td>1</td>\n",
       "      <td>201804</td>\n",
       "      <td></td>\n",
       "      <td>0503010Z0</td>\n",
       "      <td>0503010Z0</td>\n",
       "      <td></td>\n",
       "      <td>NaN</td>\n",
       "    </tr>\n",
       "    <tr>\n",
       "      <th>48</th>\n",
       "      <td>Chloroquine Phosphate with Proguanil HCl</td>\n",
       "      <td>1</td>\n",
       "      <td>Q63</td>\n",
       "      <td>08Q</td>\n",
       "      <td>G85712</td>\n",
       "      <td>0504010Z0AAAAAA</td>\n",
       "      <td>Chloroquine/Proguanil_Tab 250/100mg</td>\n",
       "      <td>1</td>\n",
       "      <td>13.50</td>\n",
       "      <td>12.54</td>\n",
       "      <td>112</td>\n",
       "      <td>201804</td>\n",
       "      <td></td>\n",
       "      <td>0504010Z0</td>\n",
       "      <td>0504010Z0</td>\n",
       "      <td></td>\n",
       "      <td>NaN</td>\n",
       "    </tr>\n",
       "    <tr>\n",
       "      <th>52</th>\n",
       "      <td>Paromomycin Sulfate</td>\n",
       "      <td>1</td>\n",
       "      <td>Q61</td>\n",
       "      <td>07R</td>\n",
       "      <td>F83023</td>\n",
       "      <td>0504050T0AAADAD</td>\n",
       "      <td>Paromomycin Sulf_Tab 250mg (Old)</td>\n",
       "      <td>1</td>\n",
       "      <td>194.96</td>\n",
       "      <td>180.92</td>\n",
       "      <td>45</td>\n",
       "      <td>201804</td>\n",
       "      <td></td>\n",
       "      <td>0504050T0</td>\n",
       "      <td>0504050T0</td>\n",
       "      <td></td>\n",
       "      <td>NaN</td>\n",
       "    </tr>\n",
       "    <tr>\n",
       "      <th>24</th>\n",
       "      <td>Insulin Human</td>\n",
       "      <td>1</td>\n",
       "      <td>Q61</td>\n",
       "      <td>08H</td>\n",
       "      <td>F83027</td>\n",
       "      <td>0601011R0BEAAAE</td>\n",
       "      <td>Humulin R KwikPen_Inj 500u/ml 3ml Pf Pen</td>\n",
       "      <td>1</td>\n",
       "      <td>216.90</td>\n",
       "      <td>201.16</td>\n",
       "      <td>6</td>\n",
       "      <td>201804</td>\n",
       "      <td></td>\n",
       "      <td>0601011R0</td>\n",
       "      <td>0601011R0</td>\n",
       "      <td></td>\n",
       "      <td>NaN</td>\n",
       "    </tr>\n",
       "    <tr>\n",
       "      <th>23</th>\n",
       "      <td>Insulin Zinc Suspension</td>\n",
       "      <td>1</td>\n",
       "      <td>Q63</td>\n",
       "      <td>08L</td>\n",
       "      <td>G85089</td>\n",
       "      <td>0601012G0BCAAAH</td>\n",
       "      <td>Ins Hypurin Bov Lente_100u/ml 10ml Vl</td>\n",
       "      <td>1</td>\n",
       "      <td>110.88</td>\n",
       "      <td>102.84</td>\n",
       "      <td>4</td>\n",
       "      <td>201804</td>\n",
       "      <td></td>\n",
       "      <td>0601012G0</td>\n",
       "      <td>0601012G0</td>\n",
       "      <td></td>\n",
       "      <td>NaN</td>\n",
       "    </tr>\n",
       "    <tr>\n",
       "      <th>46</th>\n",
       "      <td>Protamine Zinc Insulin</td>\n",
       "      <td>1</td>\n",
       "      <td>Q63</td>\n",
       "      <td>08R</td>\n",
       "      <td>H85051</td>\n",
       "      <td>0601012U0AAAAAA</td>\n",
       "      <td>Ins Prot Zn_(Bov) 100u/ml 10ml Vl</td>\n",
       "      <td>1</td>\n",
       "      <td>83.16</td>\n",
       "      <td>77.13</td>\n",
       "      <td>3</td>\n",
       "      <td>201804</td>\n",
       "      <td></td>\n",
       "      <td>0601012U0</td>\n",
       "      <td>0601012U0</td>\n",
       "      <td></td>\n",
       "      <td>NaN</td>\n",
       "    </tr>\n",
       "    <tr>\n",
       "      <th>51</th>\n",
       "      <td>Chorionic Gonadotrophin</td>\n",
       "      <td>1</td>\n",
       "      <td>Q63</td>\n",
       "      <td>08Q</td>\n",
       "      <td>G85042</td>\n",
       "      <td>0605010D0AAACAC</td>\n",
       "      <td>Chorion Gonadotroph_Inj 1 500u Amp + Dil</td>\n",
       "      <td>1</td>\n",
       "      <td>76.32</td>\n",
       "      <td>70.80</td>\n",
       "      <td>36</td>\n",
       "      <td>201804</td>\n",
       "      <td></td>\n",
       "      <td>0605010D0</td>\n",
       "      <td>0605010D0</td>\n",
       "      <td></td>\n",
       "      <td>NaN</td>\n",
       "    </tr>\n",
       "    <tr>\n",
       "      <th>34</th>\n",
       "      <td>Tetracosactide</td>\n",
       "      <td>1</td>\n",
       "      <td>Q62</td>\n",
       "      <td>08Y</td>\n",
       "      <td>E87043</td>\n",
       "      <td>0605010T0BBAAAA</td>\n",
       "      <td>Synacthen_Inj 0.25mg/1ml Amp</td>\n",
       "      <td>1</td>\n",
       "      <td>38.00</td>\n",
       "      <td>35.25</td>\n",
       "      <td>1</td>\n",
       "      <td>201804</td>\n",
       "      <td></td>\n",
       "      <td>0605010T0</td>\n",
       "      <td>0605010T0</td>\n",
       "      <td></td>\n",
       "      <td>NaN</td>\n",
       "    </tr>\n",
       "    <tr>\n",
       "      <th>35</th>\n",
       "      <td>Teriparatide</td>\n",
       "      <td>1</td>\n",
       "      <td>Q62</td>\n",
       "      <td>09A</td>\n",
       "      <td>E87754</td>\n",
       "      <td>0606010U0BBABAC</td>\n",
       "      <td>Forsteo_Inj 250mcg/ml 2.4ml Pf Pen</td>\n",
       "      <td>1</td>\n",
       "      <td>543.76</td>\n",
       "      <td>504.29</td>\n",
       "      <td>2</td>\n",
       "      <td>201804</td>\n",
       "      <td></td>\n",
       "      <td>0606010U0</td>\n",
       "      <td>0606010U0</td>\n",
       "      <td></td>\n",
       "      <td>NaN</td>\n",
       "    </tr>\n",
       "    <tr>\n",
       "      <th>10</th>\n",
       "      <td>Norethisterone Enantate</td>\n",
       "      <td>1</td>\n",
       "      <td>Q63</td>\n",
       "      <td>08Q</td>\n",
       "      <td>G85034</td>\n",
       "      <td>0703022N0BBAAAA</td>\n",
       "      <td>Noristerat_Inj 200mg/ml 1ml Amp</td>\n",
       "      <td>1</td>\n",
       "      <td>4.05</td>\n",
       "      <td>3.77</td>\n",
       "      <td>1</td>\n",
       "      <td>201804</td>\n",
       "      <td></td>\n",
       "      <td>0703022N0</td>\n",
       "      <td>0703022N0</td>\n",
       "      <td></td>\n",
       "      <td>NaN</td>\n",
       "    </tr>\n",
       "    <tr>\n",
       "      <th>16</th>\n",
       "      <td>Other Urological Pain Preps</td>\n",
       "      <td>1</td>\n",
       "      <td>Q61</td>\n",
       "      <td>08M</td>\n",
       "      <td>F84047</td>\n",
       "      <td>070403000AAAEAE</td>\n",
       "      <td>Tricitrates_Soln</td>\n",
       "      <td>1</td>\n",
       "      <td>372.30</td>\n",
       "      <td>345.28</td>\n",
       "      <td>750</td>\n",
       "      <td>201804</td>\n",
       "      <td></td>\n",
       "      <td>070403000</td>\n",
       "      <td>070403000</td>\n",
       "      <td></td>\n",
       "      <td>NaN</td>\n",
       "    </tr>\n",
       "    <tr>\n",
       "      <th>1</th>\n",
       "      <td>Yohimbine Hydrochloride</td>\n",
       "      <td>1</td>\n",
       "      <td>Q61</td>\n",
       "      <td>08D</td>\n",
       "      <td>F85640</td>\n",
       "      <td>0704050Y0AAAVAV</td>\n",
       "      <td>Yohimbine HCl_Tab 5mg</td>\n",
       "      <td>1</td>\n",
       "      <td>227.98</td>\n",
       "      <td>211.44</td>\n",
       "      <td>60</td>\n",
       "      <td>201804</td>\n",
       "      <td></td>\n",
       "      <td>0704050Y0</td>\n",
       "      <td>0704050Y0</td>\n",
       "      <td></td>\n",
       "      <td>NaN</td>\n",
       "    </tr>\n",
       "    <tr>\n",
       "      <th>22</th>\n",
       "      <td>Estramustine Phosphate</td>\n",
       "      <td>1</td>\n",
       "      <td>Q63</td>\n",
       "      <td>08L</td>\n",
       "      <td>G85055</td>\n",
       "      <td>0801010J0AAAAAA</td>\n",
       "      <td>Estramustine Phos_Cap 140mg</td>\n",
       "      <td>1</td>\n",
       "      <td>513.84</td>\n",
       "      <td>476.54</td>\n",
       "      <td>300</td>\n",
       "      <td>201804</td>\n",
       "      <td></td>\n",
       "      <td>0801010J0</td>\n",
       "      <td>0801010J0</td>\n",
       "      <td></td>\n",
       "      <td>NaN</td>\n",
       "    </tr>\n",
       "    <tr>\n",
       "      <th>32</th>\n",
       "      <td>Tioguanine</td>\n",
       "      <td>1</td>\n",
       "      <td>Q63</td>\n",
       "      <td>08R</td>\n",
       "      <td>H85028</td>\n",
       "      <td>0801030T0AAAAAA</td>\n",
       "      <td>Tioguanine_Tab 40mg</td>\n",
       "      <td>1</td>\n",
       "      <td>109.57</td>\n",
       "      <td>101.63</td>\n",
       "      <td>25</td>\n",
       "      <td>201804</td>\n",
       "      <td></td>\n",
       "      <td>0801030T0</td>\n",
       "      <td>0801030T0</td>\n",
       "      <td></td>\n",
       "      <td>NaN</td>\n",
       "    </tr>\n",
       "    <tr>\n",
       "      <th>39</th>\n",
       "      <td>Bexarotene</td>\n",
       "      <td>1</td>\n",
       "      <td>Q61</td>\n",
       "      <td>08H</td>\n",
       "      <td>F83027</td>\n",
       "      <td>0801050ABAAAAAA</td>\n",
       "      <td>Bexarotene_Cap 75mg</td>\n",
       "      <td>1</td>\n",
       "      <td>937.50</td>\n",
       "      <td>869.44</td>\n",
       "      <td>100</td>\n",
       "      <td>201804</td>\n",
       "      <td></td>\n",
       "      <td>0801050AB</td>\n",
       "      <td>0801050AB</td>\n",
       "      <td></td>\n",
       "      <td>NaN</td>\n",
       "    </tr>\n",
       "    <tr>\n",
       "      <th>17</th>\n",
       "      <td>Dimethyl Fumar</td>\n",
       "      <td>1</td>\n",
       "      <td>Q61</td>\n",
       "      <td>07X</td>\n",
       "      <td>F85015</td>\n",
       "      <td>0802040AKAAABAB</td>\n",
       "      <td>Dimethyl Fumar_Cap E/C 240mg</td>\n",
       "      <td>1</td>\n",
       "      <td>2746.00</td>\n",
       "      <td>2546.63</td>\n",
       "      <td>112</td>\n",
       "      <td>201804</td>\n",
       "      <td></td>\n",
       "      <td>0802040AK</td>\n",
       "      <td>0802040AK</td>\n",
       "      <td></td>\n",
       "      <td>NaN</td>\n",
       "    </tr>\n",
       "    <tr>\n",
       "      <th>2</th>\n",
       "      <td>Fulvestrant</td>\n",
       "      <td>1</td>\n",
       "      <td>Q61</td>\n",
       "      <td>08W</td>\n",
       "      <td>F86078</td>\n",
       "      <td>0803041AABBAAAA</td>\n",
       "      <td>Faslodex_Inj 250mg/5ml Pfs</td>\n",
       "      <td>1</td>\n",
       "      <td>522.41</td>\n",
       "      <td>484.49</td>\n",
       "      <td>2</td>\n",
       "      <td>201804</td>\n",
       "      <td></td>\n",
       "      <td>0803041AA</td>\n",
       "      <td>0803041AA</td>\n",
       "      <td></td>\n",
       "      <td>NaN</td>\n",
       "    </tr>\n",
       "    <tr>\n",
       "      <th>30</th>\n",
       "      <td>Buserelin</td>\n",
       "      <td>1</td>\n",
       "      <td>Q62</td>\n",
       "      <td>09A</td>\n",
       "      <td>E87745</td>\n",
       "      <td>0803042B0AAABAB</td>\n",
       "      <td>Buserelin_Nsl Spy 100mcg (84 D) 10g</td>\n",
       "      <td>1</td>\n",
       "      <td>122.24</td>\n",
       "      <td>113.38</td>\n",
       "      <td>336</td>\n",
       "      <td>201804</td>\n",
       "      <td></td>\n",
       "      <td>0803042B0</td>\n",
       "      <td>0803042B0</td>\n",
       "      <td></td>\n",
       "      <td>NaN</td>\n",
       "    </tr>\n",
       "    <tr>\n",
       "      <th>38</th>\n",
       "      <td>Benzbromarone</td>\n",
       "      <td>1</td>\n",
       "      <td>Q61</td>\n",
       "      <td>08M</td>\n",
       "      <td>F84017</td>\n",
       "      <td>1001040A0AAAAAA</td>\n",
       "      <td>Benzbromarone_Tab 100mg</td>\n",
       "      <td>1</td>\n",
       "      <td>82.12</td>\n",
       "      <td>76.17</td>\n",
       "      <td>14</td>\n",
       "      <td>201804</td>\n",
       "      <td></td>\n",
       "      <td>1001040A0</td>\n",
       "      <td>1001040A0</td>\n",
       "      <td></td>\n",
       "      <td>NaN</td>\n",
       "    </tr>\n",
       "    <tr>\n",
       "      <th>26</th>\n",
       "      <td>Glucosamine Sulf (Rheumatic)</td>\n",
       "      <td>1</td>\n",
       "      <td>Q61</td>\n",
       "      <td>08W</td>\n",
       "      <td>F86627</td>\n",
       "      <td>1001050B0BCABAB</td>\n",
       "      <td>Dolenio_Tab 1.5g</td>\n",
       "      <td>1</td>\n",
       "      <td>36.40</td>\n",
       "      <td>33.77</td>\n",
       "      <td>60</td>\n",
       "      <td>201804</td>\n",
       "      <td></td>\n",
       "      <td>1001050B0</td>\n",
       "      <td>1001050B0</td>\n",
       "      <td></td>\n",
       "      <td>NaN</td>\n",
       "    </tr>\n",
       "    <tr>\n",
       "      <th>12</th>\n",
       "      <td>Neostigmine Bromide</td>\n",
       "      <td>1</td>\n",
       "      <td>Q62</td>\n",
       "      <td>08Y</td>\n",
       "      <td>E87738</td>\n",
       "      <td>1002010M0AAAAAA</td>\n",
       "      <td>Neostig Brom_Tab 15mg</td>\n",
       "      <td>1</td>\n",
       "      <td>241.04</td>\n",
       "      <td>223.55</td>\n",
       "      <td>280</td>\n",
       "      <td>201804</td>\n",
       "      <td></td>\n",
       "      <td>1002010M0</td>\n",
       "      <td>1002010M0</td>\n",
       "      <td></td>\n",
       "      <td>NaN</td>\n",
       "    </tr>\n",
       "    <tr>\n",
       "      <th>28</th>\n",
       "      <td>Oxybuprocaine Hydrochloride</td>\n",
       "      <td>1</td>\n",
       "      <td>Q61</td>\n",
       "      <td>08D</td>\n",
       "      <td>F85007</td>\n",
       "      <td>1107000M0AAAAAA</td>\n",
       "      <td>Oxybuprocaine HCl_Eye Dps 0.4% Ud</td>\n",
       "      <td>1</td>\n",
       "      <td>10.15</td>\n",
       "      <td>9.43</td>\n",
       "      <td>20</td>\n",
       "      <td>201804</td>\n",
       "      <td></td>\n",
       "      <td>1107000M0</td>\n",
       "      <td>1107000M0</td>\n",
       "      <td></td>\n",
       "      <td>NaN</td>\n",
       "    </tr>\n",
       "    <tr>\n",
       "      <th>5</th>\n",
       "      <td>Other Oral Ulceration&amp;Inflammation Preps</td>\n",
       "      <td>1</td>\n",
       "      <td>Q61</td>\n",
       "      <td>07T</td>\n",
       "      <td>F84686</td>\n",
       "      <td>120301000BCBCAM</td>\n",
       "      <td>Frador_Mth Ulcer Tinct</td>\n",
       "      <td>1</td>\n",
       "      <td>1.86</td>\n",
       "      <td>1.74</td>\n",
       "      <td>3</td>\n",
       "      <td>201804</td>\n",
       "      <td></td>\n",
       "      <td>120301000</td>\n",
       "      <td>120301000</td>\n",
       "      <td></td>\n",
       "      <td>NaN</td>\n",
       "    </tr>\n",
       "    <tr>\n",
       "      <th>3</th>\n",
       "      <td>Tretinoin</td>\n",
       "      <td>1</td>\n",
       "      <td>Q62</td>\n",
       "      <td>08C</td>\n",
       "      <td>Y02589</td>\n",
       "      <td>1306010V0AAANAN</td>\n",
       "      <td>Tretinoin_Crm 0.05%</td>\n",
       "      <td>1</td>\n",
       "      <td>396.36</td>\n",
       "      <td>367.59</td>\n",
       "      <td>40</td>\n",
       "      <td>201804</td>\n",
       "      <td></td>\n",
       "      <td>1306010V0</td>\n",
       "      <td>1306010V0</td>\n",
       "      <td></td>\n",
       "      <td>NaN</td>\n",
       "    </tr>\n",
       "    <tr>\n",
       "      <th>25</th>\n",
       "      <td>Formaldehyde</td>\n",
       "      <td>1</td>\n",
       "      <td>Q61</td>\n",
       "      <td>08D</td>\n",
       "      <td>F85675</td>\n",
       "      <td>1307000C0BBAAAB</td>\n",
       "      <td>Veracur_Gel Kit 0.75%</td>\n",
       "      <td>1</td>\n",
       "      <td>2.41</td>\n",
       "      <td>2.25</td>\n",
       "      <td>15</td>\n",
       "      <td>201804</td>\n",
       "      <td></td>\n",
       "      <td>1307000C0</td>\n",
       "      <td>1307000C0</td>\n",
       "      <td></td>\n",
       "      <td>NaN</td>\n",
       "    </tr>\n",
       "    <tr>\n",
       "      <th>31</th>\n",
       "      <td>Titanium Dioxide</td>\n",
       "      <td>1</td>\n",
       "      <td>Q63</td>\n",
       "      <td>08X</td>\n",
       "      <td>H85069</td>\n",
       "      <td>1308010U0AAAJAJ</td>\n",
       "      <td>Reflectant_Sunscreen Crm (Beige)</td>\n",
       "      <td>1</td>\n",
       "      <td>176.40</td>\n",
       "      <td>163.60</td>\n",
       "      <td>400</td>\n",
       "      <td>201804</td>\n",
       "      <td></td>\n",
       "      <td>1308010U0</td>\n",
       "      <td>1308010U0</td>\n",
       "      <td></td>\n",
       "      <td>NaN</td>\n",
       "    </tr>\n",
       "    <tr>\n",
       "      <th>40</th>\n",
       "      <td>Bifonazole</td>\n",
       "      <td>1</td>\n",
       "      <td>Q62</td>\n",
       "      <td>09A</td>\n",
       "      <td>E87045</td>\n",
       "      <td>1310020E0AAAAAA</td>\n",
       "      <td>Bifonazole_Crm 1%</td>\n",
       "      <td>1</td>\n",
       "      <td>6.12</td>\n",
       "      <td>5.69</td>\n",
       "      <td>40</td>\n",
       "      <td>201804</td>\n",
       "      <td></td>\n",
       "      <td>1310020E0</td>\n",
       "      <td>1310020E0</td>\n",
       "      <td></td>\n",
       "      <td>NaN</td>\n",
       "    </tr>\n",
       "    <tr>\n",
       "      <th>47</th>\n",
       "      <td>Chlorhex HCl</td>\n",
       "      <td>1</td>\n",
       "      <td>Q63</td>\n",
       "      <td>08A</td>\n",
       "      <td>G83039</td>\n",
       "      <td>1310050W0AAAAAA</td>\n",
       "      <td>Chlorhex HCl_Crm 0.5%</td>\n",
       "      <td>1</td>\n",
       "      <td>2.17</td>\n",
       "      <td>2.02</td>\n",
       "      <td>30</td>\n",
       "      <td>201804</td>\n",
       "      <td></td>\n",
       "      <td>1310050W0</td>\n",
       "      <td>1310050W0</td>\n",
       "      <td></td>\n",
       "      <td>NaN</td>\n",
       "    </tr>\n",
       "    <tr>\n",
       "      <th>8</th>\n",
       "      <td>Other Antiperspirant Preps</td>\n",
       "      <td>1</td>\n",
       "      <td>Q61</td>\n",
       "      <td>08V</td>\n",
       "      <td>F84034</td>\n",
       "      <td>131200000BBACA0</td>\n",
       "      <td>Triple Dry Anti-perspirant_Roll On</td>\n",
       "      <td>1</td>\n",
       "      <td>46.00</td>\n",
       "      <td>42.67</td>\n",
       "      <td>500</td>\n",
       "      <td>201804</td>\n",
       "      <td></td>\n",
       "      <td>131200000</td>\n",
       "      <td>131200000</td>\n",
       "      <td></td>\n",
       "      <td>NaN</td>\n",
       "    </tr>\n",
       "    <tr>\n",
       "      <th>27</th>\n",
       "      <td>Other Topical Circulatory Preps</td>\n",
       "      <td>1</td>\n",
       "      <td>Q63</td>\n",
       "      <td>07V</td>\n",
       "      <td>Y05317</td>\n",
       "      <td>131400000BLAAA0</td>\n",
       "      <td>Boots_Chilblain Crm</td>\n",
       "      <td>1</td>\n",
       "      <td>5.99</td>\n",
       "      <td>5.57</td>\n",
       "      <td>35</td>\n",
       "      <td>201804</td>\n",
       "      <td></td>\n",
       "      <td>131400000</td>\n",
       "      <td>131400000</td>\n",
       "      <td></td>\n",
       "      <td>NaN</td>\n",
       "    </tr>\n",
       "    <tr>\n",
       "      <th>9</th>\n",
       "      <td>Normal Immunoglobulin (Gamma Globulin)</td>\n",
       "      <td>1</td>\n",
       "      <td>Q62</td>\n",
       "      <td>07W</td>\n",
       "      <td>E85026</td>\n",
       "      <td>1405010A0BQAAAE</td>\n",
       "      <td>Subgam_Inj 750mg/5ml Vl</td>\n",
       "      <td>1</td>\n",
       "      <td>112.50</td>\n",
       "      <td>168.84</td>\n",
       "      <td>3</td>\n",
       "      <td>201804</td>\n",
       "      <td></td>\n",
       "      <td>1405010A0</td>\n",
       "      <td>1405010A0</td>\n",
       "      <td></td>\n",
       "      <td>NaN</td>\n",
       "    </tr>\n",
       "    <tr>\n",
       "      <th>21</th>\n",
       "      <td>Ketamine</td>\n",
       "      <td>1</td>\n",
       "      <td>Q61</td>\n",
       "      <td>08W</td>\n",
       "      <td>F86638</td>\n",
       "      <td>1501010F0AAAAAA</td>\n",
       "      <td>Ketamine_Inj 10mg/ml 20ml Vl</td>\n",
       "      <td>1</td>\n",
       "      <td>50.60</td>\n",
       "      <td>46.94</td>\n",
       "      <td>10</td>\n",
       "      <td>201804</td>\n",
       "      <td></td>\n",
       "      <td>1501010F0</td>\n",
       "      <td>1501010F0</td>\n",
       "      <td></td>\n",
       "      <td>NaN</td>\n",
       "    </tr>\n",
       "    <tr>\n",
       "      <th>18</th>\n",
       "      <td>Levobupivacaine Hydrochloride</td>\n",
       "      <td>1</td>\n",
       "      <td>Q63</td>\n",
       "      <td>08X</td>\n",
       "      <td>Y01132</td>\n",
       "      <td>1502010V0AAAAAA</td>\n",
       "      <td>Levobupivac HCl_Inj 2.5mg/ml 10ml Amp</td>\n",
       "      <td>1</td>\n",
       "      <td>14.11</td>\n",
       "      <td>13.10</td>\n",
       "      <td>10</td>\n",
       "      <td>201804</td>\n",
       "      <td></td>\n",
       "      <td>1502010V0</td>\n",
       "      <td>1502010V0</td>\n",
       "      <td></td>\n",
       "      <td>NaN</td>\n",
       "    </tr>\n",
       "  </tbody>\n",
       "</table>\n",
       "</div>"
      ],
      "text/plain": [
       "                                        NAME  TOTAL_ITEMS  SHA  PCT PRACTICE  \\\n",
       "15  Macrogol 4000                             1            Q61  08D  Y03035    \n",
       "33  Timolol With Diuretic                     1            Q61  08W  F86666    \n",
       "50  Phenindione                               1            Q61  08M  F84730    \n",
       "0   Alirocumab                                1            Q63  08X  H85114    \n",
       "7   Other Expectorant& Demulcent Cough Preps  1            Q62  08Y  E87722    \n",
       "4   Dextromethorphan Hydrobrom Comp Prep's    1            Q61  07T  F84080    \n",
       "43  Caffeine Citrate                          1            Q61  08V  F84079    \n",
       "13  Nabilone                                  1            Q61  08M  F84735    \n",
       "20  Ketamine Hydrochloride                    1            Q62  07W  E85116    \n",
       "36  Aspirin & Caffeine                        1            Q62  07W  E85628    \n",
       "42  Paracetamol & Ibuprofen                   1            Q61  08D  F85034    \n",
       "49  Phenobarbital Sod                         1            Q63  08A  G83026    \n",
       "37  Benzatropine Mesilate                     1            Q61  08W  F86650    \n",
       "14  Meropenem                                 1            Q61  08D  F85640    \n",
       "29  Amikacin                                  1            Q61  08D  F85014    \n",
       "45  Pyrazinamide                              1            Q61  08W  F86666    \n",
       "41  Rifabutin                                 1            Q61  07R  F83018    \n",
       "6   Other HIV Infection Preps                 1            Q61  07T  F84072    \n",
       "44  Raltegravir                               1            Q63  08K  G85021    \n",
       "19  Efavirenz/Emtricitabine/Tenofovir Disop   1            Q61  07R  F83050    \n",
       "11  Nevirapine                                1            Q61  07X  F85002    \n",
       "53  Abacavir & Lamivudine                     1            Q61  07X  F85002    \n",
       "48  Chloroquine Phosphate with Proguanil HCl  1            Q63  08Q  G85712    \n",
       "52  Paromomycin Sulfate                       1            Q61  07R  F83023    \n",
       "24  Insulin Human                             1            Q61  08H  F83027    \n",
       "23  Insulin Zinc Suspension                   1            Q63  08L  G85089    \n",
       "46  Protamine Zinc Insulin                    1            Q63  08R  H85051    \n",
       "51  Chorionic Gonadotrophin                   1            Q63  08Q  G85042    \n",
       "34  Tetracosactide                            1            Q62  08Y  E87043    \n",
       "35  Teriparatide                              1            Q62  09A  E87754    \n",
       "10  Norethisterone Enantate                   1            Q63  08Q  G85034    \n",
       "16  Other Urological Pain Preps               1            Q61  08M  F84047    \n",
       "1   Yohimbine Hydrochloride                   1            Q61  08D  F85640    \n",
       "22  Estramustine Phosphate                    1            Q63  08L  G85055    \n",
       "32  Tioguanine                                1            Q63  08R  H85028    \n",
       "39  Bexarotene                                1            Q61  08H  F83027    \n",
       "17  Dimethyl Fumar                            1            Q61  07X  F85015    \n",
       "2   Fulvestrant                               1            Q61  08W  F86078    \n",
       "30  Buserelin                                 1            Q62  09A  E87745    \n",
       "38  Benzbromarone                             1            Q61  08M  F84017    \n",
       "26  Glucosamine Sulf (Rheumatic)              1            Q61  08W  F86627    \n",
       "12  Neostigmine Bromide                       1            Q62  08Y  E87738    \n",
       "28  Oxybuprocaine Hydrochloride               1            Q61  08D  F85007    \n",
       "5   Other Oral Ulceration&Inflammation Preps  1            Q61  07T  F84686    \n",
       "3   Tretinoin                                 1            Q62  08C  Y02589    \n",
       "25  Formaldehyde                              1            Q61  08D  F85675    \n",
       "31  Titanium Dioxide                          1            Q63  08X  H85069    \n",
       "40  Bifonazole                                1            Q62  09A  E87045    \n",
       "47  Chlorhex HCl                              1            Q63  08A  G83039    \n",
       "8   Other Antiperspirant Preps                1            Q61  08V  F84034    \n",
       "27  Other Topical Circulatory Preps           1            Q63  07V  Y05317    \n",
       "9   Normal Immunoglobulin (Gamma Globulin)    1            Q62  07W  E85026    \n",
       "21  Ketamine                                  1            Q61  08W  F86638    \n",
       "18  Levobupivacaine Hydrochloride             1            Q63  08X  Y01132    \n",
       "\n",
       "           BNF CODE                                  BNF NAME  ITEMS      NIC  \\\n",
       "15  0106040X0AAAAAA  Macrogol 4000_Pdr Sach 10g S/F            1      12.87     \n",
       "33  020400030AAAEAE  Timolol/Bendroflumeth_Tab 10mg/2.5mg      1      125.66    \n",
       "50  0208020N0AAAAAA  Phenindione_Tab 10mg                      1      5919.98   \n",
       "0   0212000AIAAABAB  Alirocumab_Inj 150mg/1ml PF Dev           1      504.00    \n",
       "7   030902000BEDSA0  Buttercup_Bronchostop Cough Syr           1      7.74      \n",
       "4   0309020R0AAABAB  Diphenhyd/Dextrometh_OralSoln10/6.65/5ml  1      3.44      \n",
       "43  0404000E0AAAMAM  Caffeine Cit_Liq Spec 10mg/5ml            1      756.60    \n",
       "13  0406000R0AAAAAA  Nabilone_Cap 1mg                          1      588.00    \n",
       "20  0406000W0AAAPAP  Ketamine_Oral Susp 50mg/5ml               1      109.06    \n",
       "36  0407010AABCAAAB  Anadin Orig_Tab 325mg/15mg                1      4.46      \n",
       "42  0407010ADAAAAAA  Paracet/Ibuprofen_Tab 500mg/200mg         1      18.06     \n",
       "49  0408010P0AAAVAV  Phenobarb Sod_Liq Spec 50mg/5ml           1      60.72     \n",
       "37  0409020E0AAABAB  Benzatropine Mesil_Tab 2mg                1      6.92      \n",
       "14  0501022A0AAAAAA  Meropenem_Inj 500mg Vl (Dry)              1      84.70     \n",
       "29  0501040C0AAADAD  Amikacin_Inj Paed 50mg/ml 2ml Vl          1      4.13      \n",
       "45  0501090N0AACJCJ  Pyrazinamide_Tab 500mg                    1      101.14    \n",
       "41  0501090Q0AAABAB  Rifabutin_Cap 150mg                       1      126.53    \n",
       "6   050301000BBAEA0  Genvoya_Tab 150mg/150mg/200mg/10mg        1      29.32     \n",
       "44  0503010AEAAAAAA  Raltegravir_Tab 400mg                     1      471.41    \n",
       "19  0503010ANAAAAAA  Efavirenz/Emtricitabine/Tenofovir_Tab     1      532.87    \n",
       "11  0503010B0AAAAAA  Nevirapine_Tab 200mg                      1      2.83      \n",
       "53  0503010Z0AAAAAA  Abacavir/Lamivudine_Tab 600mg/300mg       1      9.48      \n",
       "48  0504010Z0AAAAAA  Chloroquine/Proguanil_Tab 250/100mg       1      13.50     \n",
       "52  0504050T0AAADAD  Paromomycin Sulf_Tab 250mg (Old)          1      194.96    \n",
       "24  0601011R0BEAAAE  Humulin R KwikPen_Inj 500u/ml 3ml Pf Pen  1      216.90    \n",
       "23  0601012G0BCAAAH  Ins Hypurin Bov Lente_100u/ml 10ml Vl     1      110.88    \n",
       "46  0601012U0AAAAAA  Ins Prot Zn_(Bov) 100u/ml 10ml Vl         1      83.16     \n",
       "51  0605010D0AAACAC  Chorion Gonadotroph_Inj 1 500u Amp + Dil  1      76.32     \n",
       "34  0605010T0BBAAAA  Synacthen_Inj 0.25mg/1ml Amp              1      38.00     \n",
       "35  0606010U0BBABAC  Forsteo_Inj 250mcg/ml 2.4ml Pf Pen        1      543.76    \n",
       "10  0703022N0BBAAAA  Noristerat_Inj 200mg/ml 1ml Amp           1      4.05      \n",
       "16  070403000AAAEAE  Tricitrates_Soln                          1      372.30    \n",
       "1   0704050Y0AAAVAV  Yohimbine HCl_Tab 5mg                     1      227.98    \n",
       "22  0801010J0AAAAAA  Estramustine Phos_Cap 140mg               1      513.84    \n",
       "32  0801030T0AAAAAA  Tioguanine_Tab 40mg                       1      109.57    \n",
       "39  0801050ABAAAAAA  Bexarotene_Cap 75mg                       1      937.50    \n",
       "17  0802040AKAAABAB  Dimethyl Fumar_Cap E/C 240mg              1      2746.00   \n",
       "2   0803041AABBAAAA  Faslodex_Inj 250mg/5ml Pfs                1      522.41    \n",
       "30  0803042B0AAABAB  Buserelin_Nsl Spy 100mcg (84 D) 10g       1      122.24    \n",
       "38  1001040A0AAAAAA  Benzbromarone_Tab 100mg                   1      82.12     \n",
       "26  1001050B0BCABAB  Dolenio_Tab 1.5g                          1      36.40     \n",
       "12  1002010M0AAAAAA  Neostig Brom_Tab 15mg                     1      241.04    \n",
       "28  1107000M0AAAAAA  Oxybuprocaine HCl_Eye Dps 0.4% Ud         1      10.15     \n",
       "5   120301000BCBCAM  Frador_Mth Ulcer Tinct                    1      1.86      \n",
       "3   1306010V0AAANAN  Tretinoin_Crm 0.05%                       1      396.36    \n",
       "25  1307000C0BBAAAB  Veracur_Gel Kit 0.75%                     1      2.41      \n",
       "31  1308010U0AAAJAJ  Reflectant_Sunscreen Crm (Beige)          1      176.40    \n",
       "40  1310020E0AAAAAA  Bifonazole_Crm 1%                         1      6.12      \n",
       "47  1310050W0AAAAAA  Chlorhex HCl_Crm 0.5%                     1      2.17      \n",
       "8   131200000BBACA0  Triple Dry Anti-perspirant_Roll On        1      46.00     \n",
       "27  131400000BLAAA0  Boots_Chilblain Crm                       1      5.99      \n",
       "9   1405010A0BQAAAE  Subgam_Inj 750mg/5ml Vl                   1      112.50    \n",
       "21  1501010F0AAAAAA  Ketamine_Inj 10mg/ml 20ml Vl              1      50.60     \n",
       "18  1502010V0AAAAAA  Levobupivac HCl_Inj 2.5mg/ml 10ml Amp     1      14.11     \n",
       "\n",
       "    ACT COST  QUANTITY  PERIOD _x BNF_CODE_9   CHEM SUB 201804  _y  \n",
       "15  11.95     60        201804     0106040X0  0106040X0        NaN  \n",
       "33  116.55    60        201804     020400030  020400030        NaN  \n",
       "50  5490.15   308       201804     0208020N0  0208020N0        NaN  \n",
       "0   467.42    3         201804     0212000AI  0212000AI        NaN  \n",
       "7   7.19      240       201804     030902000  030902000        NaN  \n",
       "4   3.20      150       201804     0309020R0  0309020R0        NaN  \n",
       "43  701.68    150       201804     0404000E0  0404000E0        NaN  \n",
       "13  545.32    60        201804     0406000R0  0406000R0        NaN  \n",
       "20  101.15    200       201804     0406000W0  0406000W0        NaN  \n",
       "36  4.25      60        201804     0407010AA  0407010AA        NaN  \n",
       "42  16.76     84        201804     0407010AD  0407010AD        NaN  \n",
       "49  56.32     200       201804     0408010P0  0408010P0        NaN  \n",
       "37  22.53     28        201804     0409020E0  0409020E0        NaN  \n",
       "14  78.56     10        201804     0501022A0  0501022A0        NaN  \n",
       "29  3.94      2         201804     0501040C0  0501040C0        NaN  \n",
       "45  93.91     84        201804     0501090N0  0501090N0        NaN  \n",
       "41  117.46    42        201804     0501090Q0  0501090Q0        NaN  \n",
       "6   27.30     1         201804     050301000  050301000        NaN  \n",
       "44  437.19    60        201804     0503010AE  0503010AE        NaN  \n",
       "19  494.19    30        201804     0503010AN  0503010AN        NaN  \n",
       "11  2.74      1         201804     0503010B0  0503010B0        NaN  \n",
       "53  8.90      1         201804     0503010Z0  0503010Z0        NaN  \n",
       "48  12.54     112       201804     0504010Z0  0504010Z0        NaN  \n",
       "52  180.92    45        201804     0504050T0  0504050T0        NaN  \n",
       "24  201.16    6         201804     0601011R0  0601011R0        NaN  \n",
       "23  102.84    4         201804     0601012G0  0601012G0        NaN  \n",
       "46  77.13     3         201804     0601012U0  0601012U0        NaN  \n",
       "51  70.80     36        201804     0605010D0  0605010D0        NaN  \n",
       "34  35.25     1         201804     0605010T0  0605010T0        NaN  \n",
       "35  504.29    2         201804     0606010U0  0606010U0        NaN  \n",
       "10  3.77      1         201804     0703022N0  0703022N0        NaN  \n",
       "16  345.28    750       201804     070403000  070403000        NaN  \n",
       "1   211.44    60        201804     0704050Y0  0704050Y0        NaN  \n",
       "22  476.54    300       201804     0801010J0  0801010J0        NaN  \n",
       "32  101.63    25        201804     0801030T0  0801030T0        NaN  \n",
       "39  869.44    100       201804     0801050AB  0801050AB        NaN  \n",
       "17  2546.63   112       201804     0802040AK  0802040AK        NaN  \n",
       "2   484.49    2         201804     0803041AA  0803041AA        NaN  \n",
       "30  113.38    336       201804     0803042B0  0803042B0        NaN  \n",
       "38  76.17     14        201804     1001040A0  1001040A0        NaN  \n",
       "26  33.77     60        201804     1001050B0  1001050B0        NaN  \n",
       "12  223.55    280       201804     1002010M0  1002010M0        NaN  \n",
       "28  9.43      20        201804     1107000M0  1107000M0        NaN  \n",
       "5   1.74      3         201804     120301000  120301000        NaN  \n",
       "3   367.59    40        201804     1306010V0  1306010V0        NaN  \n",
       "25  2.25      15        201804     1307000C0  1307000C0        NaN  \n",
       "31  163.60    400       201804     1308010U0  1308010U0        NaN  \n",
       "40  5.69      40        201804     1310020E0  1310020E0        NaN  \n",
       "47  2.02      30        201804     1310050W0  1310050W0        NaN  \n",
       "8   42.67     500       201804     131200000  131200000        NaN  \n",
       "27  5.57      35        201804     131400000  131400000        NaN  \n",
       "9   168.84    3         201804     1405010A0  1405010A0        NaN  \n",
       "21  46.94     10        201804     1501010F0  1501010F0        NaN  \n",
       "18  13.10     10        201804     1502010V0  1502010V0        NaN  "
      ]
     },
     "execution_count": 48,
     "metadata": {},
     "output_type": "execute_result"
    }
   ],
   "source": [
    "# table 3\n",
    "least_alldata.sort_values(['BNF_CODE_9'], ascending=True)"
   ]
  },
  {
   "cell_type": "markdown",
   "metadata": {},
   "source": [
    "## Question 2: Repeat the previous instructions, this time for the city of Cambridge.\n"
   ]
  },
  {
   "cell_type": "markdown",
   "metadata": {},
   "source": [
    "### Question 2\n",
    "> - Identify the total number of patients registered"
   ]
  },
  {
   "cell_type": "markdown",
   "metadata": {},
   "source": [
    "#### Step 1. Identify Cambridge GP practice data \n",
    "From previously created gp_prac file, isolate the Cambridge GP practices.  \n",
    "Cambridge city postcodes are CB1, CB2, CB3, CB4, CB5. There are also other postcodes in Cambridge from CB6-25 which encompases the surrounding area so these need to be accounted for. "
   ]
  },
  {
   "cell_type": "code",
   "execution_count": 49,
   "metadata": {
    "scrolled": true
   },
   "outputs": [
    {
     "name": "stderr",
     "output_type": "stream",
     "text": [
      "/Users/clairemooney/anaconda3/lib/python3.7/site-packages/ipykernel_launcher.py:8: SettingWithCopyWarning: \n",
      "A value is trying to be set on a copy of a slice from a DataFrame.\n",
      "Try using .loc[row_indexer,col_indexer] = value instead\n",
      "\n",
      "See the caveats in the documentation: http://pandas.pydata.org/pandas-docs/stable/indexing.html#indexing-view-versus-copy\n",
      "  \n",
      "/Users/clairemooney/anaconda3/lib/python3.7/site-packages/ipykernel_launcher.py:9: SettingWithCopyWarning: \n",
      "A value is trying to be set on a copy of a slice from a DataFrame.\n",
      "Try using .loc[row_indexer,col_indexer] = value instead\n",
      "\n",
      "See the caveats in the documentation: http://pandas.pydata.org/pandas-docs/stable/indexing.html#indexing-view-versus-copy\n",
      "  if __name__ == '__main__':\n"
     ]
    }
   ],
   "source": [
    "# extract rows that contain postcodes starting with CB1-5\n",
    "gp_prac_cb = gp_prac[gp_prac.POSTCODE.str.startswith((\"CB1\", \"CB2\", \"CB3\", \"CB4\", \"CB5\"))]\n",
    "\n",
    "# split the POSTCODE column by the white space\n",
    "gp_prac_cb_split = gp_prac_cb[\"POSTCODE\"].str.split(\" \", n=1, expand=True)\n",
    "\n",
    "# add columns of split postcodes to the dataframe\n",
    "gp_prac_cb[\"POSTCODE_1\"] = gp_prac_cb_split[0]\n",
    "gp_prac_cb[\"POSTCODE_2\"] = gp_prac_cb_split[1]\n",
    "\n",
    "gp_prac_cb\n",
    "gp_prac_cbcity = gp_prac_cb[gp_prac_cb.POSTCODE_1.isin((\"CB1\", \"CB2\", \"CB3\", \"CB4\", \"CB5\"))]"
   ]
  },
  {
   "cell_type": "code",
   "execution_count": 50,
   "metadata": {
    "scrolled": true
   },
   "outputs": [
    {
     "data": {
      "text/plain": [
       "(17, 12)"
      ]
     },
     "execution_count": 50,
     "metadata": {},
     "output_type": "execute_result"
    }
   ],
   "source": [
    "# Check df - rows will be the number of practices\n",
    "gp_prac_cbcity.shape"
   ]
  },
  {
   "cell_type": "code",
   "execution_count": 51,
   "metadata": {
    "scrolled": true
   },
   "outputs": [],
   "source": [
    "### Step 2. Calculate the total number of patients"
   ]
  },
  {
   "cell_type": "code",
   "execution_count": 52,
   "metadata": {
    "scrolled": true
   },
   "outputs": [
    {
     "data": {
      "text/plain": [
       "191931"
      ]
     },
     "execution_count": 52,
     "metadata": {},
     "output_type": "execute_result"
    }
   ],
   "source": [
    "gp_prac_cbcity['NUMBER_OF_PATIENTS'].sum()"
   ]
  },
  {
   "cell_type": "markdown",
   "metadata": {},
   "source": [
    "## Question 2\n",
    "- Identify the total number of prescriptions\n",
    "- Identify the total actual cost of these prescriptions (using the ACT COST column)"
   ]
  },
  {
   "cell_type": "markdown",
   "metadata": {},
   "source": [
    "#### Step 1. First extract the prescribing data that relates to Cambridge city GP practices and clean the data "
   ]
  },
  {
   "cell_type": "code",
   "execution_count": 54,
   "metadata": {
    "scrolled": true
   },
   "outputs": [
    {
     "data": {
      "text/plain": [
       "(21360, 11)"
      ]
     },
     "execution_count": 54,
     "metadata": {},
     "output_type": "execute_result"
    }
   ],
   "source": [
    "# Create df of prescribing data and remove any white spaces in the data\n",
    "prescribing_cb = pd.read_csv(\n",
    "    '/Users/clairemooney/Desktop/Health_Data_Science _Course/DMHR /ASSIGNMENT/DATA_FILES/1_PP_PracPrescribingData.CSV',\n",
    "    header=0,\n",
    ")\n",
    "\n",
    "# remove the white spaces in headers \n",
    "prescribing_cb = prescribing_cb.rename(columns=lambda x: x.strip())\n",
    "\n",
    "# remove white space from left and right of all data within columns\n",
    "for col in prescribing.keys():\n",
    "    if type(prescribing_cb[col].iloc[0]) == str:\n",
    "        prescribing_cb[col] = prescribing_cb[col].str.strip()\n",
    "\n",
    "        \n",
    "# Select only Cambridge city GP prescribing data\n",
    "prescribing_cb = prescribing_cb[prescribing_cb.PRACTICE.isin(gp_prac_cbcity.CODE)]\n",
    "prescribing_cb.shape  # check shape of london-only prescribing data\n"
   ]
  },
  {
   "cell_type": "markdown",
   "metadata": {},
   "source": [
    "#### Step 2: Total number of prescriptions is found by summing the \"ITEMS\" column"
   ]
  },
  {
   "cell_type": "code",
   "execution_count": 55,
   "metadata": {
    "scrolled": true
   },
   "outputs": [
    {
     "data": {
      "text/plain": [
       "160494"
      ]
     },
     "execution_count": 55,
     "metadata": {},
     "output_type": "execute_result"
    }
   ],
   "source": [
    "prescribing_cb['ITEMS'].sum()"
   ]
  },
  {
   "cell_type": "markdown",
   "metadata": {},
   "source": [
    "#### Step 3: Actual cost of these prescriptions "
   ]
  },
  {
   "cell_type": "code",
   "execution_count": 56,
   "metadata": {
    "scrolled": true
   },
   "outputs": [
    {
     "data": {
      "text/plain": [
       "1227048.9600000002"
      ]
     },
     "execution_count": 56,
     "metadata": {},
     "output_type": "execute_result"
    }
   ],
   "source": [
    "# total cost \n",
    "prescribing_cb['ACT COST'].sum()"
   ]
  },
  {
   "cell_type": "markdown",
   "metadata": {},
   "source": [
    "## Question 2\n",
    "> - Identify the top 10 most frequent drugs prescribed\n",
    "> - Identify the bottom 10 less frequent drugs prescribed"
   ]
  },
  {
   "cell_type": "markdown",
   "metadata": {},
   "source": [
    "#### Step 1. Carry out same process as for London in Question 1 "
   ]
  },
  {
   "cell_type": "code",
   "execution_count": 57,
   "metadata": {
    "scrolled": false
   },
   "outputs": [
    {
     "name": "stderr",
     "output_type": "stream",
     "text": [
      "/Users/clairemooney/anaconda3/lib/python3.7/site-packages/ipykernel_launcher.py:13: SettingWithCopyWarning: \n",
      "A value is trying to be set on a copy of a slice from a DataFrame.\n",
      "Try using .loc[row_indexer,col_indexer] = value instead\n",
      "\n",
      "See the caveats in the documentation: http://pandas.pydata.org/pandas-docs/stable/indexing.html#indexing-view-versus-copy\n",
      "  del sys.path[0]\n"
     ]
    }
   ],
   "source": [
    "# Create df\n",
    "cb_drugs_only = prescribing_cb[\n",
    "    prescribing_cb[\"BNF CODE\"].str.startswith(\n",
    "        (\"01\", \"02\", \"03\", \"04\", \"05\", \"06\", \"07\", \"08\", \"10\", \"11\", \"12\", \"13\", \"14\", \"15\")\n",
    "    )\n",
    "]\n",
    "\n",
    "# sort data by \"BNF code\" and show the last 5 rows to make sure that the last values do not begin > \"15...\"\n",
    "cb_drugs_only.sort_values(\"BNF CODE\").tail(10)\n",
    "\n",
    "\n",
    "# Make a new column in the df that lists the first 9 digits of the BNF code\n",
    "cb_drugs_only['BNF_CODE_9']=cb_drugs_only['BNF CODE'].str[:9]\n",
    "\n",
    "# Merge files to create file with drug name and BNF_CODE_9 column\n",
    "cb_BNF9 = cb_drugs_only.merge(bnf_chem_subs, how='inner', left_on=['BNF_CODE_9'], right_on=['CHEM SUB'])\n",
    "\n",
    "# group the merged data by drug name and sum the number of items in each group\n",
    "cb_BNF9_grouped = cb_BNF9.groupby(['NAME'])\n",
    "\n",
    "# sum number of prescriptions in the \"ITEMS\" in each group, rename the \"sum\" column \"TOTAL_ITEMS\" and sort the values\n",
    "cb_counts = cb_BNF9_grouped[\"ITEMS\"].sum().reset_index(name=\"TOTAL_ITEMS\").sort_values([\"TOTAL_ITEMS\"], ascending=False)"
   ]
  },
  {
   "cell_type": "code",
   "execution_count": 58,
   "metadata": {
    "scrolled": true
   },
   "outputs": [
    {
     "data": {
      "text/plain": [
       "758"
      ]
     },
     "execution_count": 58,
     "metadata": {},
     "output_type": "execute_result"
    }
   ],
   "source": [
    "len(cb_BNF9_grouped)"
   ]
  },
  {
   "cell_type": "markdown",
   "metadata": {},
   "source": [
    "### Step 2. Identify the top 10 most frequently prescribed drugs"
   ]
  },
  {
   "cell_type": "markdown",
   "metadata": {},
   "source": [
    "<a id='table4'></a>\n",
    "##### Table 4"
   ]
  },
  {
   "cell_type": "code",
   "execution_count": 59,
   "metadata": {
    "scrolled": true
   },
   "outputs": [
    {
     "data": {
      "text/html": [
       "<div>\n",
       "<style scoped>\n",
       "    .dataframe tbody tr th:only-of-type {\n",
       "        vertical-align: middle;\n",
       "    }\n",
       "\n",
       "    .dataframe tbody tr th {\n",
       "        vertical-align: top;\n",
       "    }\n",
       "\n",
       "    .dataframe thead th {\n",
       "        text-align: right;\n",
       "    }\n",
       "</style>\n",
       "<table border=\"1\" class=\"dataframe\">\n",
       "  <thead>\n",
       "    <tr style=\"text-align: right;\">\n",
       "      <th></th>\n",
       "      <th>NAME</th>\n",
       "      <th>TOTAL_ITEMS</th>\n",
       "    </tr>\n",
       "  </thead>\n",
       "  <tbody>\n",
       "    <tr>\n",
       "      <th>51</th>\n",
       "      <td>Atorvastatin</td>\n",
       "      <td>5658</td>\n",
       "    </tr>\n",
       "    <tr>\n",
       "      <th>524</th>\n",
       "      <td>Omeprazole</td>\n",
       "      <td>5569</td>\n",
       "    </tr>\n",
       "    <tr>\n",
       "      <th>401</th>\n",
       "      <td>Levothyroxine Sodium</td>\n",
       "      <td>4855</td>\n",
       "    </tr>\n",
       "    <tr>\n",
       "      <th>36</th>\n",
       "      <td>Amlodipine</td>\n",
       "      <td>3763</td>\n",
       "    </tr>\n",
       "    <tr>\n",
       "      <th>48</th>\n",
       "      <td>Aspirin</td>\n",
       "      <td>3329</td>\n",
       "    </tr>\n",
       "    <tr>\n",
       "      <th>648</th>\n",
       "      <td>Simvastatin</td>\n",
       "      <td>2987</td>\n",
       "    </tr>\n",
       "    <tr>\n",
       "      <th>80</th>\n",
       "      <td>Bisoprolol Fumarate</td>\n",
       "      <td>2977</td>\n",
       "    </tr>\n",
       "    <tr>\n",
       "      <th>411</th>\n",
       "      <td>Lisinopril</td>\n",
       "      <td>2935</td>\n",
       "    </tr>\n",
       "    <tr>\n",
       "      <th>634</th>\n",
       "      <td>Salbutamol</td>\n",
       "      <td>2860</td>\n",
       "    </tr>\n",
       "    <tr>\n",
       "      <th>451</th>\n",
       "      <td>Metformin Hydrochloride</td>\n",
       "      <td>2784</td>\n",
       "    </tr>\n",
       "  </tbody>\n",
       "</table>\n",
       "</div>"
      ],
      "text/plain": [
       "                        NAME  TOTAL_ITEMS\n",
       "51   Atorvastatin             5658       \n",
       "524  Omeprazole               5569       \n",
       "401  Levothyroxine Sodium     4855       \n",
       "36   Amlodipine               3763       \n",
       "48   Aspirin                  3329       \n",
       "648  Simvastatin              2987       \n",
       "80   Bisoprolol Fumarate      2977       \n",
       "411  Lisinopril               2935       \n",
       "634  Salbutamol               2860       \n",
       "451  Metformin Hydrochloride  2784       "
      ]
     },
     "execution_count": 59,
     "metadata": {},
     "output_type": "execute_result"
    }
   ],
   "source": [
    "cb_counts.nlargest(10, ['TOTAL_ITEMS'])"
   ]
  },
  {
   "cell_type": "code",
   "execution_count": 60,
   "metadata": {
    "scrolled": true
   },
   "outputs": [
    {
     "data": {
      "text/plain": [
       "5658"
      ]
     },
     "execution_count": 60,
     "metadata": {},
     "output_type": "execute_result"
    }
   ],
   "source": [
    "# check that the number of items for Atorvastatin = 5658\n",
    "cb_BNF9[cb_BNF9.NAME == \"Atorvastatin\"].ITEMS.sum()"
   ]
  },
  {
   "cell_type": "markdown",
   "metadata": {
    "scrolled": true
   },
   "source": [
    "#### Step 3. Identify the 10 least frequently presecribed drugs"
   ]
  },
  {
   "cell_type": "markdown",
   "metadata": {},
   "source": [
    "<a id='table5'></a>\n",
    "##### Table 5"
   ]
  },
  {
   "cell_type": "code",
   "execution_count": 61,
   "metadata": {
    "scrolled": true
   },
   "outputs": [
    {
     "data": {
      "text/html": [
       "<div>\n",
       "<style scoped>\n",
       "    .dataframe tbody tr th:only-of-type {\n",
       "        vertical-align: middle;\n",
       "    }\n",
       "\n",
       "    .dataframe tbody tr th {\n",
       "        vertical-align: top;\n",
       "    }\n",
       "\n",
       "    .dataframe thead th {\n",
       "        text-align: right;\n",
       "    }\n",
       "</style>\n",
       "<table border=\"1\" class=\"dataframe\">\n",
       "  <thead>\n",
       "    <tr style=\"text-align: right;\">\n",
       "      <th></th>\n",
       "      <th>NAME</th>\n",
       "      <th>TOTAL_ITEMS</th>\n",
       "    </tr>\n",
       "  </thead>\n",
       "  <tbody>\n",
       "    <tr>\n",
       "      <th>695</th>\n",
       "      <td>Tiagabine</td>\n",
       "      <td>1</td>\n",
       "    </tr>\n",
       "    <tr>\n",
       "      <th>86</th>\n",
       "      <td>Brivaracetam</td>\n",
       "      <td>1</td>\n",
       "    </tr>\n",
       "    <tr>\n",
       "      <th>52</th>\n",
       "      <td>Atovaquone</td>\n",
       "      <td>1</td>\n",
       "    </tr>\n",
       "    <tr>\n",
       "      <th>60</th>\n",
       "      <td>Balsalazide Sodium</td>\n",
       "      <td>1</td>\n",
       "    </tr>\n",
       "    <tr>\n",
       "      <th>739</th>\n",
       "      <td>Vancomycin Hydrochloride</td>\n",
       "      <td>1</td>\n",
       "    </tr>\n",
       "    <tr>\n",
       "      <th>2</th>\n",
       "      <td>Acenocoumarol</td>\n",
       "      <td>1</td>\n",
       "    </tr>\n",
       "    <tr>\n",
       "      <th>718</th>\n",
       "      <td>Trimetazidine Hydrochloride</td>\n",
       "      <td>1</td>\n",
       "    </tr>\n",
       "    <tr>\n",
       "      <th>702</th>\n",
       "      <td>Tinidazole</td>\n",
       "      <td>1</td>\n",
       "    </tr>\n",
       "    <tr>\n",
       "      <th>20</th>\n",
       "      <td>Aliskiren</td>\n",
       "      <td>1</td>\n",
       "    </tr>\n",
       "    <tr>\n",
       "      <th>726</th>\n",
       "      <td>Ulipristal Acet</td>\n",
       "      <td>1</td>\n",
       "    </tr>\n",
       "    <tr>\n",
       "      <th>723</th>\n",
       "      <td>Tropicamide</td>\n",
       "      <td>1</td>\n",
       "    </tr>\n",
       "    <tr>\n",
       "      <th>30</th>\n",
       "      <td>Amiloride HCl With Loop Diuretics</td>\n",
       "      <td>1</td>\n",
       "    </tr>\n",
       "    <tr>\n",
       "      <th>748</th>\n",
       "      <td>Xipamide</td>\n",
       "      <td>1</td>\n",
       "    </tr>\n",
       "    <tr>\n",
       "      <th>738</th>\n",
       "      <td>Valsartan/Amlodipine</td>\n",
       "      <td>1</td>\n",
       "    </tr>\n",
       "    <tr>\n",
       "      <th>26</th>\n",
       "      <td>Aluminium &amp; Magnesium &amp; Act Simeticone</td>\n",
       "      <td>1</td>\n",
       "    </tr>\n",
       "    <tr>\n",
       "      <th>728</th>\n",
       "      <td>Umeclidinium Brom</td>\n",
       "      <td>1</td>\n",
       "    </tr>\n",
       "    <tr>\n",
       "      <th>427</th>\n",
       "      <td>Lubiprostone</td>\n",
       "      <td>1</td>\n",
       "    </tr>\n",
       "    <tr>\n",
       "      <th>105</th>\n",
       "      <td>Carbomer</td>\n",
       "      <td>1</td>\n",
       "    </tr>\n",
       "    <tr>\n",
       "      <th>536</th>\n",
       "      <td>Oxazepam</td>\n",
       "      <td>1</td>\n",
       "    </tr>\n",
       "    <tr>\n",
       "      <th>518</th>\n",
       "      <td>Oils For The Ear</td>\n",
       "      <td>1</td>\n",
       "    </tr>\n",
       "    <tr>\n",
       "      <th>296</th>\n",
       "      <td>Fondaparinux Sodium</td>\n",
       "      <td>1</td>\n",
       "    </tr>\n",
       "    <tr>\n",
       "      <th>522</th>\n",
       "      <td>Olsalazine Sodium</td>\n",
       "      <td>1</td>\n",
       "    </tr>\n",
       "    <tr>\n",
       "      <th>288</th>\n",
       "      <td>Flurbiprofen</td>\n",
       "      <td>1</td>\n",
       "    </tr>\n",
       "    <tr>\n",
       "      <th>529</th>\n",
       "      <td>Other Bisphosphonate &amp; Other Preps</td>\n",
       "      <td>1</td>\n",
       "    </tr>\n",
       "    <tr>\n",
       "      <th>533</th>\n",
       "      <td>Other Non-Opioid Analgesic Preps</td>\n",
       "      <td>1</td>\n",
       "    </tr>\n",
       "    <tr>\n",
       "      <th>538</th>\n",
       "      <td>Oxprenolol Hydrochloride</td>\n",
       "      <td>1</td>\n",
       "    </tr>\n",
       "    <tr>\n",
       "      <th>322</th>\n",
       "      <td>Heparin Flushes</td>\n",
       "      <td>1</td>\n",
       "    </tr>\n",
       "    <tr>\n",
       "      <th>281</th>\n",
       "      <td>Fluocortolone</td>\n",
       "      <td>1</td>\n",
       "    </tr>\n",
       "    <tr>\n",
       "      <th>258</th>\n",
       "      <td>Ethinylestradiol</td>\n",
       "      <td>1</td>\n",
       "    </tr>\n",
       "    <tr>\n",
       "      <th>550</th>\n",
       "      <td>Penicillamine</td>\n",
       "      <td>1</td>\n",
       "    </tr>\n",
       "    <tr>\n",
       "      <th>...</th>\n",
       "      <td>...</td>\n",
       "      <td>...</td>\n",
       "    </tr>\n",
       "    <tr>\n",
       "      <th>646</th>\n",
       "      <td>Simeticone</td>\n",
       "      <td>1</td>\n",
       "    </tr>\n",
       "    <tr>\n",
       "      <th>649</th>\n",
       "      <td>Simvastatin &amp; Ezetimibe</td>\n",
       "      <td>1</td>\n",
       "    </tr>\n",
       "    <tr>\n",
       "      <th>652</th>\n",
       "      <td>Sodium Aurothiomalate</td>\n",
       "      <td>1</td>\n",
       "    </tr>\n",
       "    <tr>\n",
       "      <th>132</th>\n",
       "      <td>Cilostazol</td>\n",
       "      <td>1</td>\n",
       "    </tr>\n",
       "    <tr>\n",
       "      <th>128</th>\n",
       "      <td>Choline Salicylate</td>\n",
       "      <td>1</td>\n",
       "    </tr>\n",
       "    <tr>\n",
       "      <th>570</th>\n",
       "      <td>Pilocarpine Nitrate</td>\n",
       "      <td>1</td>\n",
       "    </tr>\n",
       "    <tr>\n",
       "      <th>669</th>\n",
       "      <td>Sucralfate</td>\n",
       "      <td>1</td>\n",
       "    </tr>\n",
       "    <tr>\n",
       "      <th>123</th>\n",
       "      <td>Chloroxylenol</td>\n",
       "      <td>1</td>\n",
       "    </tr>\n",
       "    <tr>\n",
       "      <th>118</th>\n",
       "      <td>Chlohexidine Gluconate (Emollient)</td>\n",
       "      <td>1</td>\n",
       "    </tr>\n",
       "    <tr>\n",
       "      <th>676</th>\n",
       "      <td>Tafluprost &amp; Timolol</td>\n",
       "      <td>1</td>\n",
       "    </tr>\n",
       "    <tr>\n",
       "      <th>117</th>\n",
       "      <td>Cetrimide</td>\n",
       "      <td>1</td>\n",
       "    </tr>\n",
       "    <tr>\n",
       "      <th>112</th>\n",
       "      <td>Cefradine</td>\n",
       "      <td>1</td>\n",
       "    </tr>\n",
       "    <tr>\n",
       "      <th>152</th>\n",
       "      <td>Cloral Betaine</td>\n",
       "      <td>1</td>\n",
       "    </tr>\n",
       "    <tr>\n",
       "      <th>163</th>\n",
       "      <td>Co-Proxamol (Dextroprop HCl/Paracet)</td>\n",
       "      <td>1</td>\n",
       "    </tr>\n",
       "    <tr>\n",
       "      <th>632</th>\n",
       "      <td>Rutosides</td>\n",
       "      <td>1</td>\n",
       "    </tr>\n",
       "    <tr>\n",
       "      <th>189</th>\n",
       "      <td>Degarelix</td>\n",
       "      <td>1</td>\n",
       "    </tr>\n",
       "    <tr>\n",
       "      <th>613</th>\n",
       "      <td>Ramipril with Calcium Channel Blocker</td>\n",
       "      <td>1</td>\n",
       "    </tr>\n",
       "    <tr>\n",
       "      <th>201</th>\n",
       "      <td>Diazoxide</td>\n",
       "      <td>1</td>\n",
       "    </tr>\n",
       "    <tr>\n",
       "      <th>604</th>\n",
       "      <td>Pseudoephedrine Hydrochloride</td>\n",
       "      <td>1</td>\n",
       "    </tr>\n",
       "    <tr>\n",
       "      <th>205</th>\n",
       "      <td>Diethylamine Salicylate</td>\n",
       "      <td>1</td>\n",
       "    </tr>\n",
       "    <tr>\n",
       "      <th>210</th>\n",
       "      <td>Diphenhydramine Hydrochloride</td>\n",
       "      <td>1</td>\n",
       "    </tr>\n",
       "    <tr>\n",
       "      <th>213</th>\n",
       "      <td>Disopyramide</td>\n",
       "      <td>1</td>\n",
       "    </tr>\n",
       "    <tr>\n",
       "      <th>227</th>\n",
       "      <td>Dronabinol/Cannabidiol</td>\n",
       "      <td>1</td>\n",
       "    </tr>\n",
       "    <tr>\n",
       "      <th>589</th>\n",
       "      <td>Prednisolone Sodium Metasulphobenzoate</td>\n",
       "      <td>1</td>\n",
       "    </tr>\n",
       "    <tr>\n",
       "      <th>585</th>\n",
       "      <td>Prasugrel</td>\n",
       "      <td>1</td>\n",
       "    </tr>\n",
       "    <tr>\n",
       "      <th>583</th>\n",
       "      <td>Povidone Iodine</td>\n",
       "      <td>1</td>\n",
       "    </tr>\n",
       "    <tr>\n",
       "      <th>582</th>\n",
       "      <td>Potassium Permanganate</td>\n",
       "      <td>1</td>\n",
       "    </tr>\n",
       "    <tr>\n",
       "      <th>573</th>\n",
       "      <td>Piracetam</td>\n",
       "      <td>1</td>\n",
       "    </tr>\n",
       "    <tr>\n",
       "      <th>241</th>\n",
       "      <td>Entacapone</td>\n",
       "      <td>1</td>\n",
       "    </tr>\n",
       "    <tr>\n",
       "      <th>224</th>\n",
       "      <td>Doxepin Hydrochloride</td>\n",
       "      <td>1</td>\n",
       "    </tr>\n",
       "  </tbody>\n",
       "</table>\n",
       "<p>87 rows × 2 columns</p>\n",
       "</div>"
      ],
      "text/plain": [
       "                                       NAME  TOTAL_ITEMS\n",
       "695  Tiagabine                               1          \n",
       "86   Brivaracetam                            1          \n",
       "52   Atovaquone                              1          \n",
       "60   Balsalazide Sodium                      1          \n",
       "739  Vancomycin Hydrochloride                1          \n",
       "2    Acenocoumarol                           1          \n",
       "718  Trimetazidine Hydrochloride             1          \n",
       "702  Tinidazole                              1          \n",
       "20   Aliskiren                               1          \n",
       "726  Ulipristal Acet                         1          \n",
       "723  Tropicamide                             1          \n",
       "30   Amiloride HCl With Loop Diuretics       1          \n",
       "748  Xipamide                                1          \n",
       "738  Valsartan/Amlodipine                    1          \n",
       "26   Aluminium & Magnesium & Act Simeticone  1          \n",
       "728  Umeclidinium Brom                       1          \n",
       "427  Lubiprostone                            1          \n",
       "105  Carbomer                                1          \n",
       "536  Oxazepam                                1          \n",
       "518  Oils For The Ear                        1          \n",
       "296  Fondaparinux Sodium                     1          \n",
       "522  Olsalazine Sodium                       1          \n",
       "288  Flurbiprofen                            1          \n",
       "529  Other Bisphosphonate & Other Preps      1          \n",
       "533  Other Non-Opioid Analgesic Preps        1          \n",
       "538  Oxprenolol Hydrochloride                1          \n",
       "322  Heparin Flushes                         1          \n",
       "281  Fluocortolone                           1          \n",
       "258  Ethinylestradiol                        1          \n",
       "550  Penicillamine                           1          \n",
       "..             ...                          ..          \n",
       "646  Simeticone                              1          \n",
       "649  Simvastatin & Ezetimibe                 1          \n",
       "652  Sodium Aurothiomalate                   1          \n",
       "132  Cilostazol                              1          \n",
       "128  Choline Salicylate                      1          \n",
       "570  Pilocarpine Nitrate                     1          \n",
       "669  Sucralfate                              1          \n",
       "123  Chloroxylenol                           1          \n",
       "118  Chlohexidine Gluconate (Emollient)      1          \n",
       "676  Tafluprost & Timolol                    1          \n",
       "117  Cetrimide                               1          \n",
       "112  Cefradine                               1          \n",
       "152  Cloral Betaine                          1          \n",
       "163  Co-Proxamol (Dextroprop HCl/Paracet)    1          \n",
       "632  Rutosides                               1          \n",
       "189  Degarelix                               1          \n",
       "613  Ramipril with Calcium Channel Blocker   1          \n",
       "201  Diazoxide                               1          \n",
       "604  Pseudoephedrine Hydrochloride           1          \n",
       "205  Diethylamine Salicylate                 1          \n",
       "210  Diphenhydramine Hydrochloride           1          \n",
       "213  Disopyramide                            1          \n",
       "227  Dronabinol/Cannabidiol                  1          \n",
       "589  Prednisolone Sodium Metasulphobenzoate  1          \n",
       "585  Prasugrel                               1          \n",
       "583  Povidone Iodine                         1          \n",
       "582  Potassium Permanganate                  1          \n",
       "573  Piracetam                               1          \n",
       "241  Entacapone                              1          \n",
       "224  Doxepin Hydrochloride                   1          \n",
       "\n",
       "[87 rows x 2 columns]"
      ]
     },
     "execution_count": 61,
     "metadata": {},
     "output_type": "execute_result"
    }
   ],
   "source": [
    "# create new df containing only drugs prescibed once and then get the number of rows\n",
    "cb_least = cb_counts[cb_counts['TOTAL_ITEMS'] == 1]\n",
    "\n",
    "# see the list of least prescribed drugs\n",
    "cb_least "
   ]
  },
  {
   "cell_type": "code",
   "execution_count": 62,
   "metadata": {
    "scrolled": true
   },
   "outputs": [
    {
     "data": {
      "text/html": [
       "<div>\n",
       "<style scoped>\n",
       "    .dataframe tbody tr th:only-of-type {\n",
       "        vertical-align: middle;\n",
       "    }\n",
       "\n",
       "    .dataframe tbody tr th {\n",
       "        vertical-align: top;\n",
       "    }\n",
       "\n",
       "    .dataframe thead th {\n",
       "        text-align: right;\n",
       "    }\n",
       "</style>\n",
       "<table border=\"1\" class=\"dataframe\">\n",
       "  <thead>\n",
       "    <tr style=\"text-align: right;\">\n",
       "      <th></th>\n",
       "      <th>NAME</th>\n",
       "      <th>TOTAL_ITEMS</th>\n",
       "      <th>SHA</th>\n",
       "      <th>PCT</th>\n",
       "      <th>PRACTICE</th>\n",
       "      <th>BNF CODE</th>\n",
       "      <th>BNF NAME</th>\n",
       "      <th>ITEMS</th>\n",
       "      <th>NIC</th>\n",
       "      <th>ACT COST</th>\n",
       "      <th>QUANTITY</th>\n",
       "      <th>PERIOD</th>\n",
       "      <th>_x</th>\n",
       "      <th>BNF_CODE_9</th>\n",
       "      <th>CHEM SUB</th>\n",
       "      <th>201804</th>\n",
       "      <th>_y</th>\n",
       "    </tr>\n",
       "  </thead>\n",
       "  <tbody>\n",
       "    <tr>\n",
       "      <th>14</th>\n",
       "      <td>Aluminium &amp; Magnesium &amp; Act Simeticone</td>\n",
       "      <td>1</td>\n",
       "      <td>Q56</td>\n",
       "      <td>06H</td>\n",
       "      <td>D81037</td>\n",
       "      <td>0101010L0BEAAAI</td>\n",
       "      <td>Maalox Plus_Susp</td>\n",
       "      <td>1</td>\n",
       "      <td>2.10</td>\n",
       "      <td>2.06</td>\n",
       "      <td>180</td>\n",
       "      <td>201804</td>\n",
       "      <td></td>\n",
       "      <td>0101010L0</td>\n",
       "      <td>0101010L0</td>\n",
       "      <td></td>\n",
       "      <td>NaN</td>\n",
       "    </tr>\n",
       "    <tr>\n",
       "      <th>57</th>\n",
       "      <td>Simeticone</td>\n",
       "      <td>1</td>\n",
       "      <td>Q56</td>\n",
       "      <td>06H</td>\n",
       "      <td>D81013</td>\n",
       "      <td>0101010R0BCAAAB</td>\n",
       "      <td>Infacol_Susp 40mg/ml S/F</td>\n",
       "      <td>1</td>\n",
       "      <td>2.71</td>\n",
       "      <td>2.53</td>\n",
       "      <td>50</td>\n",
       "      <td>201804</td>\n",
       "      <td></td>\n",
       "      <td>0101010R0</td>\n",
       "      <td>0101010R0</td>\n",
       "      <td></td>\n",
       "      <td>NaN</td>\n",
       "    </tr>\n",
       "    <tr>\n",
       "      <th>63</th>\n",
       "      <td>Sucralfate</td>\n",
       "      <td>1</td>\n",
       "      <td>Q56</td>\n",
       "      <td>06H</td>\n",
       "      <td>D81016</td>\n",
       "      <td>0103030S0AAAAAA</td>\n",
       "      <td>Sucralfate_Tab 1g</td>\n",
       "      <td>1</td>\n",
       "      <td>216.64</td>\n",
       "      <td>200.92</td>\n",
       "      <td>50</td>\n",
       "      <td>201804</td>\n",
       "      <td></td>\n",
       "      <td>0103030S0</td>\n",
       "      <td>0103030S0</td>\n",
       "      <td></td>\n",
       "      <td>NaN</td>\n",
       "    </tr>\n",
       "    <tr>\n",
       "      <th>38</th>\n",
       "      <td>Loperamide Hydrochloride &amp; Simeticone</td>\n",
       "      <td>1</td>\n",
       "      <td>Q56</td>\n",
       "      <td>06H</td>\n",
       "      <td>D81001</td>\n",
       "      <td>0104020P0AAAAAA</td>\n",
       "      <td>Loperamide HCl/Simeticone_Tab 2mg/125mg</td>\n",
       "      <td>1</td>\n",
       "      <td>7.84</td>\n",
       "      <td>7.28</td>\n",
       "      <td>24</td>\n",
       "      <td>201804</td>\n",
       "      <td></td>\n",
       "      <td>0104020P0</td>\n",
       "      <td>0104020P0</td>\n",
       "      <td></td>\n",
       "      <td>NaN</td>\n",
       "    </tr>\n",
       "    <tr>\n",
       "      <th>21</th>\n",
       "      <td>Olsalazine Sodium</td>\n",
       "      <td>1</td>\n",
       "      <td>Q56</td>\n",
       "      <td>06H</td>\n",
       "      <td>D81037</td>\n",
       "      <td>0105010C0AAADAD</td>\n",
       "      <td>Olsalazine Sod_Tab 500mg</td>\n",
       "      <td>1</td>\n",
       "      <td>322.00</td>\n",
       "      <td>298.63</td>\n",
       "      <td>120</td>\n",
       "      <td>201804</td>\n",
       "      <td></td>\n",
       "      <td>0105010C0</td>\n",
       "      <td>0105010C0</td>\n",
       "      <td></td>\n",
       "      <td>NaN</td>\n",
       "    </tr>\n",
       "    <tr>\n",
       "      <th>3</th>\n",
       "      <td>Balsalazide Sodium</td>\n",
       "      <td>1</td>\n",
       "      <td>Q56</td>\n",
       "      <td>06H</td>\n",
       "      <td>D81066</td>\n",
       "      <td>0105010D0AAABAB</td>\n",
       "      <td>Balsalazide Sod_Cap 750mg</td>\n",
       "      <td>1</td>\n",
       "      <td>30.42</td>\n",
       "      <td>28.22</td>\n",
       "      <td>130</td>\n",
       "      <td>201804</td>\n",
       "      <td></td>\n",
       "      <td>0105010D0</td>\n",
       "      <td>0105010D0</td>\n",
       "      <td></td>\n",
       "      <td>NaN</td>\n",
       "    </tr>\n",
       "    <tr>\n",
       "      <th>80</th>\n",
       "      <td>Prednisolone Sodium Metasulphobenzoate</td>\n",
       "      <td>1</td>\n",
       "      <td>Q56</td>\n",
       "      <td>06H</td>\n",
       "      <td>D81070</td>\n",
       "      <td>0105020D0AAACAC</td>\n",
       "      <td>Prednisolone_20mg/Applic Foam Enema(14D)</td>\n",
       "      <td>1</td>\n",
       "      <td>187.00</td>\n",
       "      <td>173.43</td>\n",
       "      <td>1</td>\n",
       "      <td>201804</td>\n",
       "      <td></td>\n",
       "      <td>0105020D0</td>\n",
       "      <td>0105020D0</td>\n",
       "      <td></td>\n",
       "      <td>NaN</td>\n",
       "    </tr>\n",
       "    <tr>\n",
       "      <th>16</th>\n",
       "      <td>Lubiprostone</td>\n",
       "      <td>1</td>\n",
       "      <td>Q56</td>\n",
       "      <td>06H</td>\n",
       "      <td>D81001</td>\n",
       "      <td>0106070C0AAAAAA</td>\n",
       "      <td>Lubiprostone_Cap 24mcg</td>\n",
       "      <td>1</td>\n",
       "      <td>53.48</td>\n",
       "      <td>49.61</td>\n",
       "      <td>56</td>\n",
       "      <td>201804</td>\n",
       "      <td></td>\n",
       "      <td>0106070C0</td>\n",
       "      <td>0106070C0</td>\n",
       "      <td></td>\n",
       "      <td>NaN</td>\n",
       "    </tr>\n",
       "    <tr>\n",
       "      <th>27</th>\n",
       "      <td>Fluocortolone</td>\n",
       "      <td>1</td>\n",
       "      <td>Q56</td>\n",
       "      <td>06H</td>\n",
       "      <td>D81066</td>\n",
       "      <td>0107020F0BBAAAA</td>\n",
       "      <td>Ultraproct_Oint</td>\n",
       "      <td>1</td>\n",
       "      <td>8.27</td>\n",
       "      <td>7.68</td>\n",
       "      <td>30</td>\n",
       "      <td>201804</td>\n",
       "      <td></td>\n",
       "      <td>0107020F0</td>\n",
       "      <td>0107020F0</td>\n",
       "      <td></td>\n",
       "      <td>NaN</td>\n",
       "    </tr>\n",
       "    <tr>\n",
       "      <th>12</th>\n",
       "      <td>Xipamide</td>\n",
       "      <td>1</td>\n",
       "      <td>Q56</td>\n",
       "      <td>06H</td>\n",
       "      <td>D81012</td>\n",
       "      <td>0202010Y0AAAAAA</td>\n",
       "      <td>Xipamide_Tab 20mg</td>\n",
       "      <td>1</td>\n",
       "      <td>7.78</td>\n",
       "      <td>7.33</td>\n",
       "      <td>56</td>\n",
       "      <td>201804</td>\n",
       "      <td></td>\n",
       "      <td>0202010Y0</td>\n",
       "      <td>0202010Y0</td>\n",
       "      <td></td>\n",
       "      <td>NaN</td>\n",
       "    </tr>\n",
       "    <tr>\n",
       "      <th>11</th>\n",
       "      <td>Amiloride HCl With Loop Diuretics</td>\n",
       "      <td>1</td>\n",
       "      <td>Q56</td>\n",
       "      <td>06H</td>\n",
       "      <td>D81017</td>\n",
       "      <td>0202040D0AAAAAA</td>\n",
       "      <td>Amiloride HCl/Bumetanide_Tab 5mg/1mg</td>\n",
       "      <td>1</td>\n",
       "      <td>112.00</td>\n",
       "      <td>103.88</td>\n",
       "      <td>56</td>\n",
       "      <td>201804</td>\n",
       "      <td></td>\n",
       "      <td>0202040D0</td>\n",
       "      <td>0202040D0</td>\n",
       "      <td></td>\n",
       "      <td>NaN</td>\n",
       "    </tr>\n",
       "    <tr>\n",
       "      <th>78</th>\n",
       "      <td>Disopyramide</td>\n",
       "      <td>1</td>\n",
       "      <td>Q56</td>\n",
       "      <td>06H</td>\n",
       "      <td>D81012</td>\n",
       "      <td>0203020F0AAABAB</td>\n",
       "      <td>Disopyramide_Cap 100mg</td>\n",
       "      <td>1</td>\n",
       "      <td>29.45</td>\n",
       "      <td>27.42</td>\n",
       "      <td>112</td>\n",
       "      <td>201804</td>\n",
       "      <td></td>\n",
       "      <td>0203020F0</td>\n",
       "      <td>0203020F0</td>\n",
       "      <td></td>\n",
       "      <td>NaN</td>\n",
       "    </tr>\n",
       "    <tr>\n",
       "      <th>49</th>\n",
       "      <td>Nadolol</td>\n",
       "      <td>1</td>\n",
       "      <td>Q56</td>\n",
       "      <td>06H</td>\n",
       "      <td>D81037</td>\n",
       "      <td>0204000M0AAABAB</td>\n",
       "      <td>Nadolol_Tab 80mg</td>\n",
       "      <td>1</td>\n",
       "      <td>6.00</td>\n",
       "      <td>5.58</td>\n",
       "      <td>28</td>\n",
       "      <td>201804</td>\n",
       "      <td></td>\n",
       "      <td>0204000M0</td>\n",
       "      <td>0204000M0</td>\n",
       "      <td></td>\n",
       "      <td>NaN</td>\n",
       "    </tr>\n",
       "    <tr>\n",
       "      <th>25</th>\n",
       "      <td>Oxprenolol Hydrochloride</td>\n",
       "      <td>1</td>\n",
       "      <td>Q56</td>\n",
       "      <td>06H</td>\n",
       "      <td>D81002</td>\n",
       "      <td>0204000N0AAACAC</td>\n",
       "      <td>Oxprenolol HCl_Tab 40mg</td>\n",
       "      <td>1</td>\n",
       "      <td>7.22</td>\n",
       "      <td>6.71</td>\n",
       "      <td>56</td>\n",
       "      <td>201804</td>\n",
       "      <td></td>\n",
       "      <td>0204000N0</td>\n",
       "      <td>0204000N0</td>\n",
       "      <td></td>\n",
       "      <td>NaN</td>\n",
       "    </tr>\n",
       "    <tr>\n",
       "      <th>55</th>\n",
       "      <td>Sildenafil(Vasodilator Antihypertensive)</td>\n",
       "      <td>1</td>\n",
       "      <td>Q56</td>\n",
       "      <td>06H</td>\n",
       "      <td>D81012</td>\n",
       "      <td>0205010Y0AAABAB</td>\n",
       "      <td>Sildenafil_Susp 10mg/1ml S/F</td>\n",
       "      <td>1</td>\n",
       "      <td>560.25</td>\n",
       "      <td>519.58</td>\n",
       "      <td>336</td>\n",
       "      <td>201804</td>\n",
       "      <td></td>\n",
       "      <td>0205010Y0</td>\n",
       "      <td>0205010Y0</td>\n",
       "      <td></td>\n",
       "      <td>NaN</td>\n",
       "    </tr>\n",
       "    <tr>\n",
       "      <th>73</th>\n",
       "      <td>Ramipril with Calcium Channel Blocker</td>\n",
       "      <td>1</td>\n",
       "      <td>Q56</td>\n",
       "      <td>06H</td>\n",
       "      <td>D81017</td>\n",
       "      <td>0205051S0AAABAB</td>\n",
       "      <td>Felodipine/Ramipril_Tab 5mg/5mg M/R</td>\n",
       "      <td>1</td>\n",
       "      <td>16.13</td>\n",
       "      <td>14.97</td>\n",
       "      <td>28</td>\n",
       "      <td>201804</td>\n",
       "      <td></td>\n",
       "      <td>0205051S0</td>\n",
       "      <td>0205051S0</td>\n",
       "      <td></td>\n",
       "      <td>NaN</td>\n",
       "    </tr>\n",
       "    <tr>\n",
       "      <th>32</th>\n",
       "      <td>Perindopril Arginine with Diuretic</td>\n",
       "      <td>1</td>\n",
       "      <td>Q56</td>\n",
       "      <td>06H</td>\n",
       "      <td>D81002</td>\n",
       "      <td>0205051Z0AAAAAA</td>\n",
       "      <td>Perindopril Argin/Indapam_Tab 5mg/1.25mg</td>\n",
       "      <td>1</td>\n",
       "      <td>9.51</td>\n",
       "      <td>8.83</td>\n",
       "      <td>30</td>\n",
       "      <td>201804</td>\n",
       "      <td></td>\n",
       "      <td>0205051Z0</td>\n",
       "      <td>0205051Z0</td>\n",
       "      <td></td>\n",
       "      <td>NaN</td>\n",
       "    </tr>\n",
       "    <tr>\n",
       "      <th>53</th>\n",
       "      <td>Eprosartan</td>\n",
       "      <td>1</td>\n",
       "      <td>Q56</td>\n",
       "      <td>06H</td>\n",
       "      <td>D81002</td>\n",
       "      <td>0205052W0AAACAC</td>\n",
       "      <td>Eprosartan_Tab 600mg</td>\n",
       "      <td>1</td>\n",
       "      <td>12.05</td>\n",
       "      <td>11.19</td>\n",
       "      <td>28</td>\n",
       "      <td>201804</td>\n",
       "      <td></td>\n",
       "      <td>0205052W0</td>\n",
       "      <td>0205052W0</td>\n",
       "      <td></td>\n",
       "      <td>NaN</td>\n",
       "    </tr>\n",
       "    <tr>\n",
       "      <th>8</th>\n",
       "      <td>Aliskiren</td>\n",
       "      <td>1</td>\n",
       "      <td>Q56</td>\n",
       "      <td>06H</td>\n",
       "      <td>D81012</td>\n",
       "      <td>0205053A0AAABAB</td>\n",
       "      <td>Aliskiren_Tab 300mg</td>\n",
       "      <td>1</td>\n",
       "      <td>68.54</td>\n",
       "      <td>63.58</td>\n",
       "      <td>56</td>\n",
       "      <td>201804</td>\n",
       "      <td></td>\n",
       "      <td>0205053A0</td>\n",
       "      <td>0205053A0</td>\n",
       "      <td></td>\n",
       "      <td>NaN</td>\n",
       "    </tr>\n",
       "    <tr>\n",
       "      <th>6</th>\n",
       "      <td>Trimetazidine Hydrochloride</td>\n",
       "      <td>1</td>\n",
       "      <td>Q56</td>\n",
       "      <td>06H</td>\n",
       "      <td>D81017</td>\n",
       "      <td>0206020B0AAABAB</td>\n",
       "      <td>Trimetazidine HCl_Tab 35mg M/R</td>\n",
       "      <td>1</td>\n",
       "      <td>273.06</td>\n",
       "      <td>253.25</td>\n",
       "      <td>60</td>\n",
       "      <td>201804</td>\n",
       "      <td></td>\n",
       "      <td>0206020B0</td>\n",
       "      <td>0206020B0</td>\n",
       "      <td></td>\n",
       "      <td>NaN</td>\n",
       "    </tr>\n",
       "    <tr>\n",
       "      <th>13</th>\n",
       "      <td>Valsartan/Amlodipine</td>\n",
       "      <td>1</td>\n",
       "      <td>Q56</td>\n",
       "      <td>06H</td>\n",
       "      <td>D81013</td>\n",
       "      <td>0206020Z0AAACAC</td>\n",
       "      <td>Amlodipine/Valsartan_Tab 10mg/160mg</td>\n",
       "      <td>1</td>\n",
       "      <td>26.51</td>\n",
       "      <td>24.60</td>\n",
       "      <td>28</td>\n",
       "      <td>201804</td>\n",
       "      <td></td>\n",
       "      <td>0206020Z0</td>\n",
       "      <td>0206020Z0</td>\n",
       "      <td></td>\n",
       "      <td>NaN</td>\n",
       "    </tr>\n",
       "    <tr>\n",
       "      <th>71</th>\n",
       "      <td>Rutosides</td>\n",
       "      <td>1</td>\n",
       "      <td>Q56</td>\n",
       "      <td>06H</td>\n",
       "      <td>D81054</td>\n",
       "      <td>0206040AHAAAAAA</td>\n",
       "      <td>Oxerutins_Cap 250mg</td>\n",
       "      <td>1</td>\n",
       "      <td>24.61</td>\n",
       "      <td>22.84</td>\n",
       "      <td>120</td>\n",
       "      <td>201804</td>\n",
       "      <td></td>\n",
       "      <td>0206040AH</td>\n",
       "      <td>0206040AH</td>\n",
       "      <td></td>\n",
       "      <td>NaN</td>\n",
       "    </tr>\n",
       "    <tr>\n",
       "      <th>60</th>\n",
       "      <td>Cilostazol</td>\n",
       "      <td>1</td>\n",
       "      <td>Q56</td>\n",
       "      <td>06H</td>\n",
       "      <td>D81056</td>\n",
       "      <td>0206040X0AAAAAA</td>\n",
       "      <td>Cilostazol_Tab 100mg</td>\n",
       "      <td>1</td>\n",
       "      <td>5.03</td>\n",
       "      <td>4.68</td>\n",
       "      <td>56</td>\n",
       "      <td>201804</td>\n",
       "      <td></td>\n",
       "      <td>0206040X0</td>\n",
       "      <td>0206040X0</td>\n",
       "      <td></td>\n",
       "      <td>NaN</td>\n",
       "    </tr>\n",
       "    <tr>\n",
       "      <th>20</th>\n",
       "      <td>Fondaparinux Sodium</td>\n",
       "      <td>1</td>\n",
       "      <td>Q56</td>\n",
       "      <td>06H</td>\n",
       "      <td>D81003</td>\n",
       "      <td>0208010ABAAABAB</td>\n",
       "      <td>Fondaparinux Sod_Inj 12.5mg/ml 0.4ml Pfs</td>\n",
       "      <td>1</td>\n",
       "      <td>332.10</td>\n",
       "      <td>308.00</td>\n",
       "      <td>30</td>\n",
       "      <td>201804</td>\n",
       "      <td></td>\n",
       "      <td>0208010AB</td>\n",
       "      <td>0208010AB</td>\n",
       "      <td></td>\n",
       "      <td>NaN</td>\n",
       "    </tr>\n",
       "    <tr>\n",
       "      <th>26</th>\n",
       "      <td>Heparin Flushes</td>\n",
       "      <td>1</td>\n",
       "      <td>Q56</td>\n",
       "      <td>06H</td>\n",
       "      <td>D81066</td>\n",
       "      <td>0208010P0AAADAD</td>\n",
       "      <td>Heparin Sod_Soln 10u/ml 5ml Amp</td>\n",
       "      <td>1</td>\n",
       "      <td>1.50</td>\n",
       "      <td>1.50</td>\n",
       "      <td>1</td>\n",
       "      <td>201804</td>\n",
       "      <td></td>\n",
       "      <td>0208010P0</td>\n",
       "      <td>0208010P0</td>\n",
       "      <td></td>\n",
       "      <td>NaN</td>\n",
       "    </tr>\n",
       "    <tr>\n",
       "      <th>5</th>\n",
       "      <td>Acenocoumarol</td>\n",
       "      <td>1</td>\n",
       "      <td>Q56</td>\n",
       "      <td>06H</td>\n",
       "      <td>D81025</td>\n",
       "      <td>0208020H0AAAAAA</td>\n",
       "      <td>Acenocoumarol_Tab 1mg</td>\n",
       "      <td>1</td>\n",
       "      <td>4.62</td>\n",
       "      <td>4.30</td>\n",
       "      <td>100</td>\n",
       "      <td>201804</td>\n",
       "      <td></td>\n",
       "      <td>0208020H0</td>\n",
       "      <td>0208020H0</td>\n",
       "      <td></td>\n",
       "      <td>NaN</td>\n",
       "    </tr>\n",
       "    <tr>\n",
       "      <th>81</th>\n",
       "      <td>Prasugrel</td>\n",
       "      <td>1</td>\n",
       "      <td>Q56</td>\n",
       "      <td>06H</td>\n",
       "      <td>D81016</td>\n",
       "      <td>0209000Y0AAAAAA</td>\n",
       "      <td>Prasugrel_Tab 5mg</td>\n",
       "      <td>1</td>\n",
       "      <td>142.68</td>\n",
       "      <td>132.33</td>\n",
       "      <td>84</td>\n",
       "      <td>201804</td>\n",
       "      <td></td>\n",
       "      <td>0209000Y0</td>\n",
       "      <td>0209000Y0</td>\n",
       "      <td></td>\n",
       "      <td>NaN</td>\n",
       "    </tr>\n",
       "    <tr>\n",
       "      <th>58</th>\n",
       "      <td>Simvastatin &amp; Ezetimibe</td>\n",
       "      <td>1</td>\n",
       "      <td>Q56</td>\n",
       "      <td>06H</td>\n",
       "      <td>D81066</td>\n",
       "      <td>0212000ACAAABAB</td>\n",
       "      <td>Simvastatin/Ezetimibe_Tab 40mg/10mg</td>\n",
       "      <td>1</td>\n",
       "      <td>77.96</td>\n",
       "      <td>72.31</td>\n",
       "      <td>56</td>\n",
       "      <td>201804</td>\n",
       "      <td></td>\n",
       "      <td>0212000AC</td>\n",
       "      <td>0212000AC</td>\n",
       "      <td></td>\n",
       "      <td>NaN</td>\n",
       "    </tr>\n",
       "    <tr>\n",
       "      <th>15</th>\n",
       "      <td>Umeclidinium Brom</td>\n",
       "      <td>1</td>\n",
       "      <td>Q56</td>\n",
       "      <td>06H</td>\n",
       "      <td>D81025</td>\n",
       "      <td>0301020T0BBAAAA</td>\n",
       "      <td>Incruse Ellipta_Inh 55mcg (30D)</td>\n",
       "      <td>1</td>\n",
       "      <td>27.50</td>\n",
       "      <td>25.52</td>\n",
       "      <td>1</td>\n",
       "      <td>201804</td>\n",
       "      <td></td>\n",
       "      <td>0301020T0</td>\n",
       "      <td>0301020T0</td>\n",
       "      <td></td>\n",
       "      <td>NaN</td>\n",
       "    </tr>\n",
       "    <tr>\n",
       "      <th>54</th>\n",
       "      <td>Ciclesonide</td>\n",
       "      <td>1</td>\n",
       "      <td>Q56</td>\n",
       "      <td>06H</td>\n",
       "      <td>D81086</td>\n",
       "      <td>0302000U0AAACAC</td>\n",
       "      <td>Ciclesonide_Inh 160mcg (60 D) CFF</td>\n",
       "      <td>1</td>\n",
       "      <td>19.31</td>\n",
       "      <td>17.92</td>\n",
       "      <td>1</td>\n",
       "      <td>201804</td>\n",
       "      <td></td>\n",
       "      <td>0302000U0</td>\n",
       "      <td>0302000U0</td>\n",
       "      <td></td>\n",
       "      <td>NaN</td>\n",
       "    </tr>\n",
       "    <tr>\n",
       "      <th>...</th>\n",
       "      <td>...</td>\n",
       "      <td>...</td>\n",
       "      <td>...</td>\n",
       "      <td>...</td>\n",
       "      <td>...</td>\n",
       "      <td>...</td>\n",
       "      <td>...</td>\n",
       "      <td>...</td>\n",
       "      <td>...</td>\n",
       "      <td>...</td>\n",
       "      <td>...</td>\n",
       "      <td>...</td>\n",
       "      <td>...</td>\n",
       "      <td>...</td>\n",
       "      <td>...</td>\n",
       "      <td>...</td>\n",
       "      <td>...</td>\n",
       "    </tr>\n",
       "    <tr>\n",
       "      <th>41</th>\n",
       "      <td>Mesterolone</td>\n",
       "      <td>1</td>\n",
       "      <td>Q56</td>\n",
       "      <td>06H</td>\n",
       "      <td>D81002</td>\n",
       "      <td>0604020F0AAAAAA</td>\n",
       "      <td>Mesterolone_Tab 25mg</td>\n",
       "      <td>1</td>\n",
       "      <td>37.71</td>\n",
       "      <td>34.98</td>\n",
       "      <td>270</td>\n",
       "      <td>201804</td>\n",
       "      <td></td>\n",
       "      <td>0604020F0</td>\n",
       "      <td>0604020F0</td>\n",
       "      <td></td>\n",
       "      <td>NaN</td>\n",
       "    </tr>\n",
       "    <tr>\n",
       "      <th>23</th>\n",
       "      <td>Other Bisphosphonate &amp; Other Preps</td>\n",
       "      <td>1</td>\n",
       "      <td>Q56</td>\n",
       "      <td>06H</td>\n",
       "      <td>D81002</td>\n",
       "      <td>060602000BBAAA0</td>\n",
       "      <td>Actonel Combi_Tab 35mg/Gran Eff 1g/800u</td>\n",
       "      <td>1</td>\n",
       "      <td>19.12</td>\n",
       "      <td>17.76</td>\n",
       "      <td>4</td>\n",
       "      <td>201804</td>\n",
       "      <td></td>\n",
       "      <td>060602000</td>\n",
       "      <td>060602000</td>\n",
       "      <td></td>\n",
       "      <td>NaN</td>\n",
       "    </tr>\n",
       "    <tr>\n",
       "      <th>51</th>\n",
       "      <td>Estradiol &amp; Nomegestrol</td>\n",
       "      <td>1</td>\n",
       "      <td>Q56</td>\n",
       "      <td>06H</td>\n",
       "      <td>D81012</td>\n",
       "      <td>0703010S0BBAAAA</td>\n",
       "      <td>Zoely_Tab 2.5mg/1.5mg</td>\n",
       "      <td>1</td>\n",
       "      <td>19.80</td>\n",
       "      <td>18.37</td>\n",
       "      <td>84</td>\n",
       "      <td>201804</td>\n",
       "      <td></td>\n",
       "      <td>0703010S0</td>\n",
       "      <td>0703010S0</td>\n",
       "      <td></td>\n",
       "      <td>NaN</td>\n",
       "    </tr>\n",
       "    <tr>\n",
       "      <th>72</th>\n",
       "      <td>Degarelix</td>\n",
       "      <td>1</td>\n",
       "      <td>Q56</td>\n",
       "      <td>06H</td>\n",
       "      <td>D81025</td>\n",
       "      <td>0803042R0AAAAAA</td>\n",
       "      <td>Degarelix_Inj 80mg Vl + Dil</td>\n",
       "      <td>1</td>\n",
       "      <td>129.37</td>\n",
       "      <td>120.00</td>\n",
       "      <td>1</td>\n",
       "      <td>201804</td>\n",
       "      <td></td>\n",
       "      <td>0803042R0</td>\n",
       "      <td>0803042R0</td>\n",
       "      <td></td>\n",
       "      <td>NaN</td>\n",
       "    </tr>\n",
       "    <tr>\n",
       "      <th>22</th>\n",
       "      <td>Flurbiprofen</td>\n",
       "      <td>1</td>\n",
       "      <td>Q56</td>\n",
       "      <td>06H</td>\n",
       "      <td>D81066</td>\n",
       "      <td>1001010I0AAABAB</td>\n",
       "      <td>Flurbiprofen_Tab 50mg</td>\n",
       "      <td>1</td>\n",
       "      <td>20.14</td>\n",
       "      <td>18.79</td>\n",
       "      <td>56</td>\n",
       "      <td>201804</td>\n",
       "      <td></td>\n",
       "      <td>1001010I0</td>\n",
       "      <td>1001010I0</td>\n",
       "      <td></td>\n",
       "      <td>NaN</td>\n",
       "    </tr>\n",
       "    <tr>\n",
       "      <th>29</th>\n",
       "      <td>Penicillamine</td>\n",
       "      <td>1</td>\n",
       "      <td>Q56</td>\n",
       "      <td>06H</td>\n",
       "      <td>D81013</td>\n",
       "      <td>1001030F0AAAFAF</td>\n",
       "      <td>Penicillamine_Tab 250mg</td>\n",
       "      <td>1</td>\n",
       "      <td>133.16</td>\n",
       "      <td>123.60</td>\n",
       "      <td>84</td>\n",
       "      <td>201804</td>\n",
       "      <td></td>\n",
       "      <td>1001030F0</td>\n",
       "      <td>1001030F0</td>\n",
       "      <td></td>\n",
       "      <td>NaN</td>\n",
       "    </tr>\n",
       "    <tr>\n",
       "      <th>59</th>\n",
       "      <td>Sodium Aurothiomalate</td>\n",
       "      <td>1</td>\n",
       "      <td>Q56</td>\n",
       "      <td>06H</td>\n",
       "      <td>D81086</td>\n",
       "      <td>1001030J0AAAEAE</td>\n",
       "      <td>Sod Aurothiomalate_Inj 100mg/ml .5ml Amp</td>\n",
       "      <td>1</td>\n",
       "      <td>134.80</td>\n",
       "      <td>125.02</td>\n",
       "      <td>10</td>\n",
       "      <td>201804</td>\n",
       "      <td></td>\n",
       "      <td>1001030J0</td>\n",
       "      <td>1001030J0</td>\n",
       "      <td></td>\n",
       "      <td>NaN</td>\n",
       "    </tr>\n",
       "    <tr>\n",
       "      <th>79</th>\n",
       "      <td>Dronabinol/Cannabidiol</td>\n",
       "      <td>1</td>\n",
       "      <td>Q56</td>\n",
       "      <td>06H</td>\n",
       "      <td>D81013</td>\n",
       "      <td>1002020Y0BBABAB</td>\n",
       "      <td>Sativex_Oromucosal P/Spy 10ml (90D)</td>\n",
       "      <td>1</td>\n",
       "      <td>375.00</td>\n",
       "      <td>347.78</td>\n",
       "      <td>270</td>\n",
       "      <td>201804</td>\n",
       "      <td></td>\n",
       "      <td>1002020Y0</td>\n",
       "      <td>1002020Y0</td>\n",
       "      <td></td>\n",
       "      <td>NaN</td>\n",
       "    </tr>\n",
       "    <tr>\n",
       "      <th>76</th>\n",
       "      <td>Diethylamine Salicylate</td>\n",
       "      <td>1</td>\n",
       "      <td>Q56</td>\n",
       "      <td>06H</td>\n",
       "      <td>D81066</td>\n",
       "      <td>1003020I0AAAAAA</td>\n",
       "      <td>Diethylamine Sal_Crm 10% BP</td>\n",
       "      <td>1</td>\n",
       "      <td>2.98</td>\n",
       "      <td>2.78</td>\n",
       "      <td>100</td>\n",
       "      <td>201804</td>\n",
       "      <td></td>\n",
       "      <td>1003020I0</td>\n",
       "      <td>1003020I0</td>\n",
       "      <td></td>\n",
       "      <td>NaN</td>\n",
       "    </tr>\n",
       "    <tr>\n",
       "      <th>37</th>\n",
       "      <td>Loteprednol Etabonate</td>\n",
       "      <td>1</td>\n",
       "      <td>Q56</td>\n",
       "      <td>06H</td>\n",
       "      <td>D81017</td>\n",
       "      <td>1104010W0BBAAAA</td>\n",
       "      <td>Lotemax_Eye Dps 0.5%</td>\n",
       "      <td>1</td>\n",
       "      <td>5.50</td>\n",
       "      <td>5.11</td>\n",
       "      <td>5</td>\n",
       "      <td>201804</td>\n",
       "      <td></td>\n",
       "      <td>1104010W0</td>\n",
       "      <td>1104010W0</td>\n",
       "      <td></td>\n",
       "      <td>NaN</td>\n",
       "    </tr>\n",
       "    <tr>\n",
       "      <th>10</th>\n",
       "      <td>Tropicamide</td>\n",
       "      <td>1</td>\n",
       "      <td>Q56</td>\n",
       "      <td>06H</td>\n",
       "      <td>D81025</td>\n",
       "      <td>1105000S0AAABAB</td>\n",
       "      <td>Tropicamide_Eye Dps 1%</td>\n",
       "      <td>1</td>\n",
       "      <td>1.60</td>\n",
       "      <td>1.50</td>\n",
       "      <td>5</td>\n",
       "      <td>201804</td>\n",
       "      <td></td>\n",
       "      <td>1105000S0</td>\n",
       "      <td>1105000S0</td>\n",
       "      <td></td>\n",
       "      <td>NaN</td>\n",
       "    </tr>\n",
       "    <tr>\n",
       "      <th>66</th>\n",
       "      <td>Tafluprost &amp; Timolol</td>\n",
       "      <td>1</td>\n",
       "      <td>Q56</td>\n",
       "      <td>06H</td>\n",
       "      <td>D81012</td>\n",
       "      <td>1106000AMBBAAAA</td>\n",
       "      <td>Taptiqom_Eye Dps 15mcg/5mg/ml 0.3ml Ud</td>\n",
       "      <td>1</td>\n",
       "      <td>14.50</td>\n",
       "      <td>13.46</td>\n",
       "      <td>30</td>\n",
       "      <td>201804</td>\n",
       "      <td></td>\n",
       "      <td>1106000AM</td>\n",
       "      <td>1106000AM</td>\n",
       "      <td></td>\n",
       "      <td>NaN</td>\n",
       "    </tr>\n",
       "    <tr>\n",
       "      <th>42</th>\n",
       "      <td>Levobunolol Hydrochloride</td>\n",
       "      <td>1</td>\n",
       "      <td>Q56</td>\n",
       "      <td>06H</td>\n",
       "      <td>D81070</td>\n",
       "      <td>1106000T0AAAAAA</td>\n",
       "      <td>Levobunolol HCl_Eye Dps 0.5%</td>\n",
       "      <td>1</td>\n",
       "      <td>3.70</td>\n",
       "      <td>3.44</td>\n",
       "      <td>10</td>\n",
       "      <td>201804</td>\n",
       "      <td></td>\n",
       "      <td>1106000T0</td>\n",
       "      <td>1106000T0</td>\n",
       "      <td></td>\n",
       "      <td>NaN</td>\n",
       "    </tr>\n",
       "    <tr>\n",
       "      <th>62</th>\n",
       "      <td>Pilocarpine Nitrate</td>\n",
       "      <td>1</td>\n",
       "      <td>Q56</td>\n",
       "      <td>06H</td>\n",
       "      <td>D81086</td>\n",
       "      <td>1106000Y0AAABAB</td>\n",
       "      <td>Piloc Nit_Eye Dps 2% Ud</td>\n",
       "      <td>1</td>\n",
       "      <td>11.99</td>\n",
       "      <td>11.13</td>\n",
       "      <td>20</td>\n",
       "      <td>201804</td>\n",
       "      <td></td>\n",
       "      <td>1106000Y0</td>\n",
       "      <td>1106000Y0</td>\n",
       "      <td></td>\n",
       "      <td>NaN</td>\n",
       "    </tr>\n",
       "    <tr>\n",
       "      <th>82</th>\n",
       "      <td>Povidone Iodine</td>\n",
       "      <td>1</td>\n",
       "      <td>Q56</td>\n",
       "      <td>06H</td>\n",
       "      <td>D81013</td>\n",
       "      <td>1108020AHAAABAB</td>\n",
       "      <td>Povidone-Iodine_Eye Dps 5% P/F 0.4ml Ud</td>\n",
       "      <td>1</td>\n",
       "      <td>48.00</td>\n",
       "      <td>44.53</td>\n",
       "      <td>60</td>\n",
       "      <td>201804</td>\n",
       "      <td></td>\n",
       "      <td>1108020AH</td>\n",
       "      <td>1108020AH</td>\n",
       "      <td></td>\n",
       "      <td>NaN</td>\n",
       "    </tr>\n",
       "    <tr>\n",
       "      <th>48</th>\n",
       "      <td>Moxifloxacin Hydrochloride</td>\n",
       "      <td>1</td>\n",
       "      <td>Q56</td>\n",
       "      <td>06H</td>\n",
       "      <td>D81070</td>\n",
       "      <td>1108020U0AAABAB</td>\n",
       "      <td>Moxifloxacin HCl_Eye Dps 0.5%</td>\n",
       "      <td>1</td>\n",
       "      <td>9.80</td>\n",
       "      <td>9.10</td>\n",
       "      <td>5</td>\n",
       "      <td>201804</td>\n",
       "      <td></td>\n",
       "      <td>1108020U0</td>\n",
       "      <td>1108020U0</td>\n",
       "      <td></td>\n",
       "      <td>NaN</td>\n",
       "    </tr>\n",
       "    <tr>\n",
       "      <th>17</th>\n",
       "      <td>Carbomer</td>\n",
       "      <td>1</td>\n",
       "      <td>Q56</td>\n",
       "      <td>06H</td>\n",
       "      <td>D81012</td>\n",
       "      <td>1108030AAAAABAB</td>\n",
       "      <td>Carbomer_Eye Gel 0.36% P/F</td>\n",
       "      <td>1</td>\n",
       "      <td>7.53</td>\n",
       "      <td>7.00</td>\n",
       "      <td>30</td>\n",
       "      <td>201804</td>\n",
       "      <td></td>\n",
       "      <td>1108030AA</td>\n",
       "      <td>1108030AA</td>\n",
       "      <td></td>\n",
       "      <td>NaN</td>\n",
       "    </tr>\n",
       "    <tr>\n",
       "      <th>19</th>\n",
       "      <td>Oils For The Ear</td>\n",
       "      <td>1</td>\n",
       "      <td>Q56</td>\n",
       "      <td>06H</td>\n",
       "      <td>D81054</td>\n",
       "      <td>1201030H0BBAAAA</td>\n",
       "      <td>Cerumol_Ear Dps</td>\n",
       "      <td>1</td>\n",
       "      <td>2.05</td>\n",
       "      <td>1.91</td>\n",
       "      <td>11</td>\n",
       "      <td>201804</td>\n",
       "      <td></td>\n",
       "      <td>1201030H0</td>\n",
       "      <td>1201030H0</td>\n",
       "      <td></td>\n",
       "      <td>NaN</td>\n",
       "    </tr>\n",
       "    <tr>\n",
       "      <th>61</th>\n",
       "      <td>Choline Salicylate</td>\n",
       "      <td>1</td>\n",
       "      <td>Q56</td>\n",
       "      <td>06H</td>\n",
       "      <td>D81044</td>\n",
       "      <td>1203010K0AAABAB</td>\n",
       "      <td>Choline Sal_Dental Gel 8.7% S/F</td>\n",
       "      <td>1</td>\n",
       "      <td>2.58</td>\n",
       "      <td>2.41</td>\n",
       "      <td>15</td>\n",
       "      <td>201804</td>\n",
       "      <td></td>\n",
       "      <td>1203010K0</td>\n",
       "      <td>1203010K0</td>\n",
       "      <td></td>\n",
       "      <td>NaN</td>\n",
       "    </tr>\n",
       "    <tr>\n",
       "      <th>65</th>\n",
       "      <td>Chlohexidine Gluconate (Emollient)</td>\n",
       "      <td>1</td>\n",
       "      <td>Q56</td>\n",
       "      <td>06H</td>\n",
       "      <td>D81013</td>\n",
       "      <td>1302010Z0AAAAAA</td>\n",
       "      <td>Chlorhex Glucon_Emollient/Crm 1%</td>\n",
       "      <td>1</td>\n",
       "      <td>3.70</td>\n",
       "      <td>3.44</td>\n",
       "      <td>250</td>\n",
       "      <td>201804</td>\n",
       "      <td></td>\n",
       "      <td>1302010Z0</td>\n",
       "      <td>1302010Z0</td>\n",
       "      <td></td>\n",
       "      <td>NaN</td>\n",
       "    </tr>\n",
       "    <tr>\n",
       "      <th>86</th>\n",
       "      <td>Doxepin Hydrochloride</td>\n",
       "      <td>1</td>\n",
       "      <td>Q56</td>\n",
       "      <td>06H</td>\n",
       "      <td>D81086</td>\n",
       "      <td>1303000F0BCAAAA</td>\n",
       "      <td>Xepin_Crm 5%</td>\n",
       "      <td>1</td>\n",
       "      <td>23.40</td>\n",
       "      <td>21.71</td>\n",
       "      <td>60</td>\n",
       "      <td>201804</td>\n",
       "      <td></td>\n",
       "      <td>1303000F0</td>\n",
       "      <td>1303000F0</td>\n",
       "      <td></td>\n",
       "      <td>NaN</td>\n",
       "    </tr>\n",
       "    <tr>\n",
       "      <th>40</th>\n",
       "      <td>Mepyramine Maleate</td>\n",
       "      <td>1</td>\n",
       "      <td>Q56</td>\n",
       "      <td>06H</td>\n",
       "      <td>D81054</td>\n",
       "      <td>1303000M0BBAAAA</td>\n",
       "      <td>Anthisan_Crm 2%</td>\n",
       "      <td>1</td>\n",
       "      <td>2.37</td>\n",
       "      <td>2.21</td>\n",
       "      <td>25</td>\n",
       "      <td>201804</td>\n",
       "      <td></td>\n",
       "      <td>1303000M0</td>\n",
       "      <td>1303000M0</td>\n",
       "      <td></td>\n",
       "      <td>NaN</td>\n",
       "    </tr>\n",
       "    <tr>\n",
       "      <th>34</th>\n",
       "      <td>Nicotinamide</td>\n",
       "      <td>1</td>\n",
       "      <td>Q56</td>\n",
       "      <td>06H</td>\n",
       "      <td>D81056</td>\n",
       "      <td>1306010N0AAAAAA</td>\n",
       "      <td>Nicotinamide_Gel 4%</td>\n",
       "      <td>1</td>\n",
       "      <td>6.20</td>\n",
       "      <td>5.76</td>\n",
       "      <td>20</td>\n",
       "      <td>201804</td>\n",
       "      <td></td>\n",
       "      <td>1306010N0</td>\n",
       "      <td>1306010N0</td>\n",
       "      <td></td>\n",
       "      <td>NaN</td>\n",
       "    </tr>\n",
       "    <tr>\n",
       "      <th>56</th>\n",
       "      <td>Silver Nitrate</td>\n",
       "      <td>1</td>\n",
       "      <td>Q56</td>\n",
       "      <td>06H</td>\n",
       "      <td>D81003</td>\n",
       "      <td>1307000Q0AAAAAA</td>\n",
       "      <td>Silver Nit Caustic_Pencil 95% BP 1980</td>\n",
       "      <td>1</td>\n",
       "      <td>3.00</td>\n",
       "      <td>2.79</td>\n",
       "      <td>1</td>\n",
       "      <td>201804</td>\n",
       "      <td></td>\n",
       "      <td>1307000Q0</td>\n",
       "      <td>1307000Q0</td>\n",
       "      <td></td>\n",
       "      <td>NaN</td>\n",
       "    </tr>\n",
       "    <tr>\n",
       "      <th>47</th>\n",
       "      <td>Ingenol Mebutate</td>\n",
       "      <td>1</td>\n",
       "      <td>Q56</td>\n",
       "      <td>06H</td>\n",
       "      <td>D81037</td>\n",
       "      <td>1308010Z0AAAAAA</td>\n",
       "      <td>Ingenol Mebutate_Gel 150mcg/g</td>\n",
       "      <td>1</td>\n",
       "      <td>21.67</td>\n",
       "      <td>20.21</td>\n",
       "      <td>0</td>\n",
       "      <td>201804</td>\n",
       "      <td></td>\n",
       "      <td>1308010Z0</td>\n",
       "      <td>1308010Z0</td>\n",
       "      <td></td>\n",
       "      <td>NaN</td>\n",
       "    </tr>\n",
       "    <tr>\n",
       "      <th>67</th>\n",
       "      <td>Cetrimide</td>\n",
       "      <td>1</td>\n",
       "      <td>Q56</td>\n",
       "      <td>06H</td>\n",
       "      <td>D81044</td>\n",
       "      <td>1310050D0BIAAAD</td>\n",
       "      <td>Savlon_Antis Crm</td>\n",
       "      <td>1</td>\n",
       "      <td>1.80</td>\n",
       "      <td>1.68</td>\n",
       "      <td>30</td>\n",
       "      <td>201804</td>\n",
       "      <td></td>\n",
       "      <td>1310050D0</td>\n",
       "      <td>1310050D0</td>\n",
       "      <td></td>\n",
       "      <td>NaN</td>\n",
       "    </tr>\n",
       "    <tr>\n",
       "      <th>64</th>\n",
       "      <td>Chloroxylenol</td>\n",
       "      <td>1</td>\n",
       "      <td>Q56</td>\n",
       "      <td>06H</td>\n",
       "      <td>D81070</td>\n",
       "      <td>1311050E0BBABAC</td>\n",
       "      <td>Dettol_Liq</td>\n",
       "      <td>1</td>\n",
       "      <td>1.51</td>\n",
       "      <td>1.41</td>\n",
       "      <td>250</td>\n",
       "      <td>201804</td>\n",
       "      <td></td>\n",
       "      <td>1311050E0</td>\n",
       "      <td>1311050E0</td>\n",
       "      <td></td>\n",
       "      <td>NaN</td>\n",
       "    </tr>\n",
       "    <tr>\n",
       "      <th>83</th>\n",
       "      <td>Potassium Permanganate</td>\n",
       "      <td>1</td>\n",
       "      <td>Q56</td>\n",
       "      <td>06H</td>\n",
       "      <td>Y00056</td>\n",
       "      <td>1311060Q0AAACAC</td>\n",
       "      <td>Pot Permanganate_Cutaneous Soln Tab400mg</td>\n",
       "      <td>1</td>\n",
       "      <td>19.25</td>\n",
       "      <td>17.86</td>\n",
       "      <td>30</td>\n",
       "      <td>201804</td>\n",
       "      <td></td>\n",
       "      <td>1311060Q0</td>\n",
       "      <td>1311060Q0</td>\n",
       "      <td></td>\n",
       "      <td>NaN</td>\n",
       "    </tr>\n",
       "    <tr>\n",
       "      <th>44</th>\n",
       "      <td>Human Papillomavirus (Type 6 11 16 18)</td>\n",
       "      <td>1</td>\n",
       "      <td>Q56</td>\n",
       "      <td>06H</td>\n",
       "      <td>D81002</td>\n",
       "      <td>1404000AHAAAAAA</td>\n",
       "      <td>HPV (Type 6 11 16 18)_Vac 0.5ml Pfs</td>\n",
       "      <td>1</td>\n",
       "      <td>86.50</td>\n",
       "      <td>80.22</td>\n",
       "      <td>1</td>\n",
       "      <td>201804</td>\n",
       "      <td></td>\n",
       "      <td>1404000AH</td>\n",
       "      <td>1404000AH</td>\n",
       "      <td></td>\n",
       "      <td>NaN</td>\n",
       "    </tr>\n",
       "    <tr>\n",
       "      <th>39</th>\n",
       "      <td>Meningococcal A + C + W135 + Y Vaccine</td>\n",
       "      <td>1</td>\n",
       "      <td>Q56</td>\n",
       "      <td>06H</td>\n",
       "      <td>D81056</td>\n",
       "      <td>1404000X0BJAAAG</td>\n",
       "      <td>Nimenrix_Vac 0.5ml Dil + Pfs</td>\n",
       "      <td>1</td>\n",
       "      <td>30.00</td>\n",
       "      <td>27.85</td>\n",
       "      <td>1</td>\n",
       "      <td>201804</td>\n",
       "      <td></td>\n",
       "      <td>1404000X0</td>\n",
       "      <td>1404000X0</td>\n",
       "      <td></td>\n",
       "      <td>NaN</td>\n",
       "    </tr>\n",
       "  </tbody>\n",
       "</table>\n",
       "<p>87 rows × 17 columns</p>\n",
       "</div>"
      ],
      "text/plain": [
       "                                        NAME  TOTAL_ITEMS  SHA  PCT PRACTICE  \\\n",
       "14  Aluminium & Magnesium & Act Simeticone    1            Q56  06H  D81037    \n",
       "57  Simeticone                                1            Q56  06H  D81013    \n",
       "63  Sucralfate                                1            Q56  06H  D81016    \n",
       "38  Loperamide Hydrochloride & Simeticone     1            Q56  06H  D81001    \n",
       "21  Olsalazine Sodium                         1            Q56  06H  D81037    \n",
       "3   Balsalazide Sodium                        1            Q56  06H  D81066    \n",
       "80  Prednisolone Sodium Metasulphobenzoate    1            Q56  06H  D81070    \n",
       "16  Lubiprostone                              1            Q56  06H  D81001    \n",
       "27  Fluocortolone                             1            Q56  06H  D81066    \n",
       "12  Xipamide                                  1            Q56  06H  D81012    \n",
       "11  Amiloride HCl With Loop Diuretics         1            Q56  06H  D81017    \n",
       "78  Disopyramide                              1            Q56  06H  D81012    \n",
       "49  Nadolol                                   1            Q56  06H  D81037    \n",
       "25  Oxprenolol Hydrochloride                  1            Q56  06H  D81002    \n",
       "55  Sildenafil(Vasodilator Antihypertensive)  1            Q56  06H  D81012    \n",
       "73  Ramipril with Calcium Channel Blocker     1            Q56  06H  D81017    \n",
       "32  Perindopril Arginine with Diuretic        1            Q56  06H  D81002    \n",
       "53  Eprosartan                                1            Q56  06H  D81002    \n",
       "8   Aliskiren                                 1            Q56  06H  D81012    \n",
       "6   Trimetazidine Hydrochloride               1            Q56  06H  D81017    \n",
       "13  Valsartan/Amlodipine                      1            Q56  06H  D81013    \n",
       "71  Rutosides                                 1            Q56  06H  D81054    \n",
       "60  Cilostazol                                1            Q56  06H  D81056    \n",
       "20  Fondaparinux Sodium                       1            Q56  06H  D81003    \n",
       "26  Heparin Flushes                           1            Q56  06H  D81066    \n",
       "5   Acenocoumarol                             1            Q56  06H  D81025    \n",
       "81  Prasugrel                                 1            Q56  06H  D81016    \n",
       "58  Simvastatin & Ezetimibe                   1            Q56  06H  D81066    \n",
       "15  Umeclidinium Brom                         1            Q56  06H  D81025    \n",
       "54  Ciclesonide                               1            Q56  06H  D81086    \n",
       "..          ...                              ..            ...  ...     ...    \n",
       "41  Mesterolone                               1            Q56  06H  D81002    \n",
       "23  Other Bisphosphonate & Other Preps        1            Q56  06H  D81002    \n",
       "51  Estradiol & Nomegestrol                   1            Q56  06H  D81012    \n",
       "72  Degarelix                                 1            Q56  06H  D81025    \n",
       "22  Flurbiprofen                              1            Q56  06H  D81066    \n",
       "29  Penicillamine                             1            Q56  06H  D81013    \n",
       "59  Sodium Aurothiomalate                     1            Q56  06H  D81086    \n",
       "79  Dronabinol/Cannabidiol                    1            Q56  06H  D81013    \n",
       "76  Diethylamine Salicylate                   1            Q56  06H  D81066    \n",
       "37  Loteprednol Etabonate                     1            Q56  06H  D81017    \n",
       "10  Tropicamide                               1            Q56  06H  D81025    \n",
       "66  Tafluprost & Timolol                      1            Q56  06H  D81012    \n",
       "42  Levobunolol Hydrochloride                 1            Q56  06H  D81070    \n",
       "62  Pilocarpine Nitrate                       1            Q56  06H  D81086    \n",
       "82  Povidone Iodine                           1            Q56  06H  D81013    \n",
       "48  Moxifloxacin Hydrochloride                1            Q56  06H  D81070    \n",
       "17  Carbomer                                  1            Q56  06H  D81012    \n",
       "19  Oils For The Ear                          1            Q56  06H  D81054    \n",
       "61  Choline Salicylate                        1            Q56  06H  D81044    \n",
       "65  Chlohexidine Gluconate (Emollient)        1            Q56  06H  D81013    \n",
       "86  Doxepin Hydrochloride                     1            Q56  06H  D81086    \n",
       "40  Mepyramine Maleate                        1            Q56  06H  D81054    \n",
       "34  Nicotinamide                              1            Q56  06H  D81056    \n",
       "56  Silver Nitrate                            1            Q56  06H  D81003    \n",
       "47  Ingenol Mebutate                          1            Q56  06H  D81037    \n",
       "67  Cetrimide                                 1            Q56  06H  D81044    \n",
       "64  Chloroxylenol                             1            Q56  06H  D81070    \n",
       "83  Potassium Permanganate                    1            Q56  06H  Y00056    \n",
       "44  Human Papillomavirus (Type 6 11 16 18)    1            Q56  06H  D81002    \n",
       "39  Meningococcal A + C + W135 + Y Vaccine    1            Q56  06H  D81056    \n",
       "\n",
       "           BNF CODE                                  BNF NAME  ITEMS     NIC  \\\n",
       "14  0101010L0BEAAAI  Maalox Plus_Susp                          1      2.10     \n",
       "57  0101010R0BCAAAB  Infacol_Susp 40mg/ml S/F                  1      2.71     \n",
       "63  0103030S0AAAAAA  Sucralfate_Tab 1g                         1      216.64   \n",
       "38  0104020P0AAAAAA  Loperamide HCl/Simeticone_Tab 2mg/125mg   1      7.84     \n",
       "21  0105010C0AAADAD  Olsalazine Sod_Tab 500mg                  1      322.00   \n",
       "3   0105010D0AAABAB  Balsalazide Sod_Cap 750mg                 1      30.42    \n",
       "80  0105020D0AAACAC  Prednisolone_20mg/Applic Foam Enema(14D)  1      187.00   \n",
       "16  0106070C0AAAAAA  Lubiprostone_Cap 24mcg                    1      53.48    \n",
       "27  0107020F0BBAAAA  Ultraproct_Oint                           1      8.27     \n",
       "12  0202010Y0AAAAAA  Xipamide_Tab 20mg                         1      7.78     \n",
       "11  0202040D0AAAAAA  Amiloride HCl/Bumetanide_Tab 5mg/1mg      1      112.00   \n",
       "78  0203020F0AAABAB  Disopyramide_Cap 100mg                    1      29.45    \n",
       "49  0204000M0AAABAB  Nadolol_Tab 80mg                          1      6.00     \n",
       "25  0204000N0AAACAC  Oxprenolol HCl_Tab 40mg                   1      7.22     \n",
       "55  0205010Y0AAABAB  Sildenafil_Susp 10mg/1ml S/F              1      560.25   \n",
       "73  0205051S0AAABAB  Felodipine/Ramipril_Tab 5mg/5mg M/R       1      16.13    \n",
       "32  0205051Z0AAAAAA  Perindopril Argin/Indapam_Tab 5mg/1.25mg  1      9.51     \n",
       "53  0205052W0AAACAC  Eprosartan_Tab 600mg                      1      12.05    \n",
       "8   0205053A0AAABAB  Aliskiren_Tab 300mg                       1      68.54    \n",
       "6   0206020B0AAABAB  Trimetazidine HCl_Tab 35mg M/R            1      273.06   \n",
       "13  0206020Z0AAACAC  Amlodipine/Valsartan_Tab 10mg/160mg       1      26.51    \n",
       "71  0206040AHAAAAAA  Oxerutins_Cap 250mg                       1      24.61    \n",
       "60  0206040X0AAAAAA  Cilostazol_Tab 100mg                      1      5.03     \n",
       "20  0208010ABAAABAB  Fondaparinux Sod_Inj 12.5mg/ml 0.4ml Pfs  1      332.10   \n",
       "26  0208010P0AAADAD  Heparin Sod_Soln 10u/ml 5ml Amp           1      1.50     \n",
       "5   0208020H0AAAAAA  Acenocoumarol_Tab 1mg                     1      4.62     \n",
       "81  0209000Y0AAAAAA  Prasugrel_Tab 5mg                         1      142.68   \n",
       "58  0212000ACAAABAB  Simvastatin/Ezetimibe_Tab 40mg/10mg       1      77.96    \n",
       "15  0301020T0BBAAAA  Incruse Ellipta_Inh 55mcg (30D)           1      27.50    \n",
       "54  0302000U0AAACAC  Ciclesonide_Inh 160mcg (60 D) CFF         1      19.31    \n",
       "..              ...                                ...        ..        ...    \n",
       "41  0604020F0AAAAAA  Mesterolone_Tab 25mg                      1      37.71    \n",
       "23  060602000BBAAA0  Actonel Combi_Tab 35mg/Gran Eff 1g/800u   1      19.12    \n",
       "51  0703010S0BBAAAA  Zoely_Tab 2.5mg/1.5mg                     1      19.80    \n",
       "72  0803042R0AAAAAA  Degarelix_Inj 80mg Vl + Dil               1      129.37   \n",
       "22  1001010I0AAABAB  Flurbiprofen_Tab 50mg                     1      20.14    \n",
       "29  1001030F0AAAFAF  Penicillamine_Tab 250mg                   1      133.16   \n",
       "59  1001030J0AAAEAE  Sod Aurothiomalate_Inj 100mg/ml .5ml Amp  1      134.80   \n",
       "79  1002020Y0BBABAB  Sativex_Oromucosal P/Spy 10ml (90D)       1      375.00   \n",
       "76  1003020I0AAAAAA  Diethylamine Sal_Crm 10% BP               1      2.98     \n",
       "37  1104010W0BBAAAA  Lotemax_Eye Dps 0.5%                      1      5.50     \n",
       "10  1105000S0AAABAB  Tropicamide_Eye Dps 1%                    1      1.60     \n",
       "66  1106000AMBBAAAA  Taptiqom_Eye Dps 15mcg/5mg/ml 0.3ml Ud    1      14.50    \n",
       "42  1106000T0AAAAAA  Levobunolol HCl_Eye Dps 0.5%              1      3.70     \n",
       "62  1106000Y0AAABAB  Piloc Nit_Eye Dps 2% Ud                   1      11.99    \n",
       "82  1108020AHAAABAB  Povidone-Iodine_Eye Dps 5% P/F 0.4ml Ud   1      48.00    \n",
       "48  1108020U0AAABAB  Moxifloxacin HCl_Eye Dps 0.5%             1      9.80     \n",
       "17  1108030AAAAABAB  Carbomer_Eye Gel 0.36% P/F                1      7.53     \n",
       "19  1201030H0BBAAAA  Cerumol_Ear Dps                           1      2.05     \n",
       "61  1203010K0AAABAB  Choline Sal_Dental Gel 8.7% S/F           1      2.58     \n",
       "65  1302010Z0AAAAAA  Chlorhex Glucon_Emollient/Crm 1%          1      3.70     \n",
       "86  1303000F0BCAAAA  Xepin_Crm 5%                              1      23.40    \n",
       "40  1303000M0BBAAAA  Anthisan_Crm 2%                           1      2.37     \n",
       "34  1306010N0AAAAAA  Nicotinamide_Gel 4%                       1      6.20     \n",
       "56  1307000Q0AAAAAA  Silver Nit Caustic_Pencil 95% BP 1980     1      3.00     \n",
       "47  1308010Z0AAAAAA  Ingenol Mebutate_Gel 150mcg/g             1      21.67    \n",
       "67  1310050D0BIAAAD  Savlon_Antis Crm                          1      1.80     \n",
       "64  1311050E0BBABAC  Dettol_Liq                                1      1.51     \n",
       "83  1311060Q0AAACAC  Pot Permanganate_Cutaneous Soln Tab400mg  1      19.25    \n",
       "44  1404000AHAAAAAA  HPV (Type 6 11 16 18)_Vac 0.5ml Pfs       1      86.50    \n",
       "39  1404000X0BJAAAG  Nimenrix_Vac 0.5ml Dil + Pfs              1      30.00    \n",
       "\n",
       "    ACT COST  QUANTITY  PERIOD _x BNF_CODE_9   CHEM SUB 201804  _y  \n",
       "14  2.06      180       201804     0101010L0  0101010L0        NaN  \n",
       "57  2.53      50        201804     0101010R0  0101010R0        NaN  \n",
       "63  200.92    50        201804     0103030S0  0103030S0        NaN  \n",
       "38  7.28      24        201804     0104020P0  0104020P0        NaN  \n",
       "21  298.63    120       201804     0105010C0  0105010C0        NaN  \n",
       "3   28.22     130       201804     0105010D0  0105010D0        NaN  \n",
       "80  173.43    1         201804     0105020D0  0105020D0        NaN  \n",
       "16  49.61     56        201804     0106070C0  0106070C0        NaN  \n",
       "27  7.68      30        201804     0107020F0  0107020F0        NaN  \n",
       "12  7.33      56        201804     0202010Y0  0202010Y0        NaN  \n",
       "11  103.88    56        201804     0202040D0  0202040D0        NaN  \n",
       "78  27.42     112       201804     0203020F0  0203020F0        NaN  \n",
       "49  5.58      28        201804     0204000M0  0204000M0        NaN  \n",
       "25  6.71      56        201804     0204000N0  0204000N0        NaN  \n",
       "55  519.58    336       201804     0205010Y0  0205010Y0        NaN  \n",
       "73  14.97     28        201804     0205051S0  0205051S0        NaN  \n",
       "32  8.83      30        201804     0205051Z0  0205051Z0        NaN  \n",
       "53  11.19     28        201804     0205052W0  0205052W0        NaN  \n",
       "8   63.58     56        201804     0205053A0  0205053A0        NaN  \n",
       "6   253.25    60        201804     0206020B0  0206020B0        NaN  \n",
       "13  24.60     28        201804     0206020Z0  0206020Z0        NaN  \n",
       "71  22.84     120       201804     0206040AH  0206040AH        NaN  \n",
       "60  4.68      56        201804     0206040X0  0206040X0        NaN  \n",
       "20  308.00    30        201804     0208010AB  0208010AB        NaN  \n",
       "26  1.50      1         201804     0208010P0  0208010P0        NaN  \n",
       "5   4.30      100       201804     0208020H0  0208020H0        NaN  \n",
       "81  132.33    84        201804     0209000Y0  0209000Y0        NaN  \n",
       "58  72.31     56        201804     0212000AC  0212000AC        NaN  \n",
       "15  25.52     1         201804     0301020T0  0301020T0        NaN  \n",
       "54  17.92     1         201804     0302000U0  0302000U0        NaN  \n",
       "..    ...    ..            ... ..        ...        ... ..      ..  \n",
       "41  34.98     270       201804     0604020F0  0604020F0        NaN  \n",
       "23  17.76     4         201804     060602000  060602000        NaN  \n",
       "51  18.37     84        201804     0703010S0  0703010S0        NaN  \n",
       "72  120.00    1         201804     0803042R0  0803042R0        NaN  \n",
       "22  18.79     56        201804     1001010I0  1001010I0        NaN  \n",
       "29  123.60    84        201804     1001030F0  1001030F0        NaN  \n",
       "59  125.02    10        201804     1001030J0  1001030J0        NaN  \n",
       "79  347.78    270       201804     1002020Y0  1002020Y0        NaN  \n",
       "76  2.78      100       201804     1003020I0  1003020I0        NaN  \n",
       "37  5.11      5         201804     1104010W0  1104010W0        NaN  \n",
       "10  1.50      5         201804     1105000S0  1105000S0        NaN  \n",
       "66  13.46     30        201804     1106000AM  1106000AM        NaN  \n",
       "42  3.44      10        201804     1106000T0  1106000T0        NaN  \n",
       "62  11.13     20        201804     1106000Y0  1106000Y0        NaN  \n",
       "82  44.53     60        201804     1108020AH  1108020AH        NaN  \n",
       "48  9.10      5         201804     1108020U0  1108020U0        NaN  \n",
       "17  7.00      30        201804     1108030AA  1108030AA        NaN  \n",
       "19  1.91      11        201804     1201030H0  1201030H0        NaN  \n",
       "61  2.41      15        201804     1203010K0  1203010K0        NaN  \n",
       "65  3.44      250       201804     1302010Z0  1302010Z0        NaN  \n",
       "86  21.71     60        201804     1303000F0  1303000F0        NaN  \n",
       "40  2.21      25        201804     1303000M0  1303000M0        NaN  \n",
       "34  5.76      20        201804     1306010N0  1306010N0        NaN  \n",
       "56  2.79      1         201804     1307000Q0  1307000Q0        NaN  \n",
       "47  20.21     0         201804     1308010Z0  1308010Z0        NaN  \n",
       "67  1.68      30        201804     1310050D0  1310050D0        NaN  \n",
       "64  1.41      250       201804     1311050E0  1311050E0        NaN  \n",
       "83  17.86     30        201804     1311060Q0  1311060Q0        NaN  \n",
       "44  80.22     1         201804     1404000AH  1404000AH        NaN  \n",
       "39  27.85     1         201804     1404000X0  1404000X0        NaN  \n",
       "\n",
       "[87 rows x 17 columns]"
      ]
     },
     "execution_count": 62,
     "metadata": {},
     "output_type": "execute_result"
    }
   ],
   "source": [
    "# to get all of the information related to the least presecribed drugs merge least df with BNF9 df\n",
    "cb_least_alldata = cb_least.merge(cb_BNF9, how='inner', on=['NAME'])\n",
    "\n",
    "# sort the data by BNF code in ascending order to get an idea of which chapters are represented in the least group\n",
    "cb_least_alldata.sort_values(['BNF_CODE_9'], ascending=True)"
   ]
  },
  {
   "cell_type": "markdown",
   "metadata": {},
   "source": [
    "# QUESTION 2: Descriptive Statistics of London vs Cambridge"
   ]
  },
  {
   "cell_type": "code",
   "execution_count": 63,
   "metadata": {},
   "outputs": [
    {
     "data": {
      "text/plain": [
       "7696.99"
      ]
     },
     "execution_count": 63,
     "metadata": {},
     "output_type": "execute_result"
    }
   ],
   "source": [
    "%precision 2\n",
    "# mean number of patients per pratice in London\n",
    "gp_prac_londontrue['NUMBER_OF_PATIENTS'].mean()"
   ]
  },
  {
   "cell_type": "code",
   "execution_count": 64,
   "metadata": {},
   "outputs": [
    {
     "data": {
      "text/plain": [
       "5079.25"
      ]
     },
     "execution_count": 64,
     "metadata": {},
     "output_type": "execute_result"
    }
   ],
   "source": [
    "# std dev of the number of patients per pratice in London\n",
    "gp_prac_londontrue['NUMBER_OF_PATIENTS'].std()"
   ]
  },
  {
   "cell_type": "code",
   "execution_count": 65,
   "metadata": {},
   "outputs": [
    {
     "data": {
      "text/plain": [
       "11290.06"
      ]
     },
     "execution_count": 65,
     "metadata": {},
     "output_type": "execute_result"
    }
   ],
   "source": [
    "# mean number of patients per pratice in Cambridge\n",
    "gp_prac_cbcity['NUMBER_OF_PATIENTS'].mean()"
   ]
  },
  {
   "cell_type": "code",
   "execution_count": 66,
   "metadata": {},
   "outputs": [
    {
     "data": {
      "text/plain": [
       "4782.13"
      ]
     },
     "execution_count": 66,
     "metadata": {},
     "output_type": "execute_result"
    }
   ],
   "source": [
    "# std dev of the number of patients per pratice in Cambridge\n",
    "gp_prac_cbcity['NUMBER_OF_PATIENTS'].std()"
   ]
  },
  {
   "cell_type": "markdown",
   "metadata": {},
   "source": [
    "<a id='Figure1'></a>\n",
    "##### Figure1"
   ]
  },
  {
   "cell_type": "code",
   "execution_count": 67,
   "metadata": {
    "scrolled": false
   },
   "outputs": [
    {
     "data": {
      "text/plain": [
       "<matplotlib.axes._subplots.AxesSubplot at 0x1a434eadd8>"
      ]
     },
     "execution_count": 67,
     "metadata": {},
     "output_type": "execute_result"
    },
    {
     "data": {
      "image/png": "[encoded data removed]",
      "text/plain": [
       "<Figure size 432x288 with 1 Axes>"
      ]
     },
     "metadata": {
      "needs_background": "light"
     },
     "output_type": "display_data"
    }
   ],
   "source": [
    "# Figure 1: bar graph of top 10 most prescribed drugs relative to number of patients\n",
    "top10_london = counts.nlargest(10, ['TOTAL_ITEMS'])\n",
    "top10_london['LONDON_PER_PATIENT'] = top10_london['TOTAL_ITEMS']/gp_prac_londontrue['NUMBER_OF_PATIENTS'].sum()\n",
    "\n",
    "top10_cambridge = cb_counts.nlargest(10, ['TOTAL_ITEMS'])\n",
    "top10_cambridge['CAMBRIDGE_PER_PATIENT'] = top10_cambridge['TOTAL_ITEMS']/gp_prac_cb['NUMBER_OF_PATIENTS'].sum()\n",
    "\n",
    "top10_merge = top10_london.merge(top10_cambridge, on='NAME')\n",
    "top10_merge.set_index('NAME')[['LONDON_PER_PATIENT', 'CAMBRIDGE_PER_PATIENT']].plot.bar()"
   ]
  },
  {
   "cell_type": "markdown",
   "metadata": {},
   "source": [
    "<a id='Figure2'></a>\n",
    "##### Figure2"
   ]
  },
  {
   "cell_type": "code",
   "execution_count": 68,
   "metadata": {
    "scrolled": false
   },
   "outputs": [
    {
     "data": {
      "text/plain": [
       "Text(0.5,1,'Chapters for least prescribed drugs for London')"
      ]
     },
     "execution_count": 68,
     "metadata": {},
     "output_type": "execute_result"
    },
    {
     "data": {
      "image/png": "[encoded data removed]",
      "text/plain": [
       "<Figure size 432x288 with 1 Axes>"
      ]
     },
     "metadata": {},
     "output_type": "display_data"
    }
   ],
   "source": [
    "# Figure 2: pie chart of the chapters related to the least prescribed drugs for Cambridge\n",
    "\n",
    "# create a column of with the least data set with the first two digits of BNf and group and plot them\n",
    "least_alldata['BNF2'] = least_alldata['BNF CODE'].str[:2]\n",
    "least_alldata_chapter_counts = least_alldata.groupby('BNF2').agg({'BNF2': 'count'})['BNF2']\n",
    "ax = plt.subplot(111) \n",
    "wedges, texts = ax.pie(least_alldata_chapter_counts.values, labels=least_alldata_chapter_counts.keys())\n",
    "\n",
    "for w in wedges:\n",
    "    w.set_linewidth(1)\n",
    "    w.set_edgecolor('black')\n",
    "    \n",
    "plt.title('Chapters for least prescribed drugs for London')"
   ]
  },
  {
   "cell_type": "markdown",
   "metadata": {},
   "source": [
    "<a id='Figure3'></a>\n",
    "##### Figure3"
   ]
  },
  {
   "cell_type": "code",
   "execution_count": 69,
   "metadata": {},
   "outputs": [
    {
     "data": {
      "text/plain": [
       "Text(0.5,1,'Chapters for least prescribed drugs for Cambridge')"
      ]
     },
     "execution_count": 69,
     "metadata": {},
     "output_type": "execute_result"
    },
    {
     "data": {
      "image/png": "[encoded data removed]",
      "text/plain": [
       "<Figure size 432x288 with 1 Axes>"
      ]
     },
     "metadata": {},
     "output_type": "display_data"
    }
   ],
   "source": [
    "# Figure 3: Pie chart of chapters related to least prescribed drugs in Cambridge\n",
    "\n",
    "#As above but for Cambridge data\n",
    "cb_least_alldata['BNF2'] = cb_least_alldata['BNF CODE'].str[:2]\n",
    "cb_least_chapter_counts = cb_least_alldata.groupby('BNF2').agg({'BNF2': 'count'})['BNF2']\n",
    "ax = plt.subplot(111) \n",
    "wedges, texts = ax.pie(cb_least_chapter_counts.values, labels=cb_least_chapter_counts.keys())\n",
    "\n",
    "for w in wedges:\n",
    "    w.set_linewidth(1)\n",
    "    w.set_edgecolor('black')\n",
    "    \n",
    "plt.title('Chapters for least prescribed drugs for Cambridge')"
   ]
  },
  {
   "cell_type": "code",
   "execution_count": 70,
   "metadata": {},
   "outputs": [
    {
     "data": {
      "text/plain": [
       "7.324411478432973"
      ]
     },
     "execution_count": 70,
     "metadata": {},
     "output_type": "execute_result"
    }
   ],
   "source": [
    "# Cost per patient for London\n",
    "prescribing_london['ACT COST'].sum()/gp_prac_londontrue['NUMBER_OF_PATIENTS'].sum()"
   ]
  },
  {
   "cell_type": "code",
   "execution_count": 71,
   "metadata": {},
   "outputs": [
    {
     "data": {
      "text/plain": [
       "6.393177548181379"
      ]
     },
     "execution_count": 71,
     "metadata": {},
     "output_type": "execute_result"
    }
   ],
   "source": [
    "# Cost per patient for Cambridge\n",
    "prescribing_cb['ACT COST'].sum()/gp_prac_cbcity['NUMBER_OF_PATIENTS'].sum()"
   ]
  },
  {
   "cell_type": "markdown",
   "metadata": {},
   "source": [
    "<a id='table6'></a>\n",
    "##### Table 6"
   ]
  },
  {
   "cell_type": "code",
   "execution_count": 72,
   "metadata": {},
   "outputs": [
    {
     "data": {
      "text/html": [
       "<div>\n",
       "<style scoped>\n",
       "    .dataframe tbody tr th:only-of-type {\n",
       "        vertical-align: middle;\n",
       "    }\n",
       "\n",
       "    .dataframe tbody tr th {\n",
       "        vertical-align: top;\n",
       "    }\n",
       "\n",
       "    .dataframe thead th {\n",
       "        text-align: right;\n",
       "    }\n",
       "</style>\n",
       "<table border=\"1\" class=\"dataframe\">\n",
       "  <thead>\n",
       "    <tr style=\"text-align: right;\">\n",
       "      <th></th>\n",
       "      <th>NAME</th>\n",
       "      <th>TOTAL_COST</th>\n",
       "    </tr>\n",
       "  </thead>\n",
       "  <tbody>\n",
       "    <tr>\n",
       "      <th>417</th>\n",
       "      <td>Fluticasone Propionate (Inh)</td>\n",
       "      <td>1127957.66</td>\n",
       "    </tr>\n",
       "    <tr>\n",
       "      <th>918</th>\n",
       "      <td>Sitagliptin</td>\n",
       "      <td>1085861.87</td>\n",
       "    </tr>\n",
       "    <tr>\n",
       "      <th>447</th>\n",
       "      <td>Glucose Blood Testing Reagents</td>\n",
       "      <td>954292.56</td>\n",
       "    </tr>\n",
       "    <tr>\n",
       "      <th>89</th>\n",
       "      <td>Beclometasone Dipropionate</td>\n",
       "      <td>898492.91</td>\n",
       "    </tr>\n",
       "    <tr>\n",
       "      <th>884</th>\n",
       "      <td>Rivaroxaban</td>\n",
       "      <td>788403.64</td>\n",
       "    </tr>\n",
       "    <tr>\n",
       "      <th>129</th>\n",
       "      <td>Budesonide</td>\n",
       "      <td>734729.18</td>\n",
       "    </tr>\n",
       "    <tr>\n",
       "      <th>991</th>\n",
       "      <td>Tiotropium</td>\n",
       "      <td>711898.31</td>\n",
       "    </tr>\n",
       "    <tr>\n",
       "      <th>63</th>\n",
       "      <td>Apixaban</td>\n",
       "      <td>707637.17</td>\n",
       "    </tr>\n",
       "    <tr>\n",
       "      <th>627</th>\n",
       "      <td>Metformin Hydrochloride</td>\n",
       "      <td>688632.97</td>\n",
       "    </tr>\n",
       "    <tr>\n",
       "      <th>625</th>\n",
       "      <td>Mesalazine (Systemic)</td>\n",
       "      <td>521519.27</td>\n",
       "    </tr>\n",
       "  </tbody>\n",
       "</table>\n",
       "</div>"
      ],
      "text/plain": [
       "                               NAME  TOTAL_COST\n",
       "417  Fluticasone Propionate (Inh)    1127957.66\n",
       "918  Sitagliptin                     1085861.87\n",
       "447  Glucose Blood Testing Reagents  954292.56 \n",
       "89   Beclometasone Dipropionate      898492.91 \n",
       "884  Rivaroxaban                     788403.64 \n",
       "129  Budesonide                      734729.18 \n",
       "991  Tiotropium                      711898.31 \n",
       "63   Apixaban                        707637.17 \n",
       "627  Metformin Hydrochloride         688632.97 \n",
       "625  Mesalazine (Systemic)           521519.27 "
      ]
     },
     "execution_count": 72,
     "metadata": {},
     "output_type": "execute_result"
    }
   ],
   "source": [
    "# London's top 10 most expensive drugs Table 6\n",
    "london_costs = BNF9_grouped[\"ACT COST\"].sum().reset_index(name=\"TOTAL_COST\").sort_values([\"TOTAL_COST\"], ascending=False)\n",
    "london_top10_costs = london_costs.head(10)\n",
    "london_top10_costs"
   ]
  },
  {
   "cell_type": "markdown",
   "metadata": {},
   "source": [
    "<a id='table7'></a>\n",
    "##### Table 7"
   ]
  },
  {
   "cell_type": "code",
   "execution_count": 73,
   "metadata": {},
   "outputs": [
    {
     "data": {
      "text/html": [
       "<div>\n",
       "<style scoped>\n",
       "    .dataframe tbody tr th:only-of-type {\n",
       "        vertical-align: middle;\n",
       "    }\n",
       "\n",
       "    .dataframe tbody tr th {\n",
       "        vertical-align: top;\n",
       "    }\n",
       "\n",
       "    .dataframe thead th {\n",
       "        text-align: right;\n",
       "    }\n",
       "</style>\n",
       "<table border=\"1\" class=\"dataframe\">\n",
       "  <thead>\n",
       "    <tr style=\"text-align: right;\">\n",
       "      <th></th>\n",
       "      <th>NAME</th>\n",
       "      <th>TOTAL_COST</th>\n",
       "    </tr>\n",
       "  </thead>\n",
       "  <tbody>\n",
       "    <tr>\n",
       "      <th>62</th>\n",
       "      <td>Beclometasone Dipropionate</td>\n",
       "      <td>45224.61</td>\n",
       "    </tr>\n",
       "    <tr>\n",
       "      <th>625</th>\n",
       "      <td>Rivaroxaban</td>\n",
       "      <td>36966.49</td>\n",
       "    </tr>\n",
       "    <tr>\n",
       "      <th>313</th>\n",
       "      <td>Glucose Blood Testing Reagents</td>\n",
       "      <td>30535.43</td>\n",
       "    </tr>\n",
       "    <tr>\n",
       "      <th>292</th>\n",
       "      <td>Fluticasone Propionate (Inh)</td>\n",
       "      <td>26933.44</td>\n",
       "    </tr>\n",
       "    <tr>\n",
       "      <th>704</th>\n",
       "      <td>Tiotropium</td>\n",
       "      <td>22832.36</td>\n",
       "    </tr>\n",
       "    <tr>\n",
       "      <th>43</th>\n",
       "      <td>Apixaban</td>\n",
       "      <td>21438.81</td>\n",
       "    </tr>\n",
       "    <tr>\n",
       "      <th>87</th>\n",
       "      <td>Budesonide</td>\n",
       "      <td>18764.81</td>\n",
       "    </tr>\n",
       "    <tr>\n",
       "      <th>356</th>\n",
       "      <td>Insulin Aspart</td>\n",
       "      <td>17329.73</td>\n",
       "    </tr>\n",
       "    <tr>\n",
       "      <th>606</th>\n",
       "      <td>Quetiapine</td>\n",
       "      <td>14894.52</td>\n",
       "    </tr>\n",
       "    <tr>\n",
       "      <th>663</th>\n",
       "      <td>Somatropin</td>\n",
       "      <td>12431.13</td>\n",
       "    </tr>\n",
       "  </tbody>\n",
       "</table>\n",
       "</div>"
      ],
      "text/plain": [
       "                               NAME  TOTAL_COST\n",
       "62   Beclometasone Dipropionate      45224.61  \n",
       "625  Rivaroxaban                     36966.49  \n",
       "313  Glucose Blood Testing Reagents  30535.43  \n",
       "292  Fluticasone Propionate (Inh)    26933.44  \n",
       "704  Tiotropium                      22832.36  \n",
       "43   Apixaban                        21438.81  \n",
       "87   Budesonide                      18764.81  \n",
       "356  Insulin Aspart                  17329.73  \n",
       "606  Quetiapine                      14894.52  \n",
       "663  Somatropin                      12431.13  "
      ]
     },
     "execution_count": 73,
     "metadata": {},
     "output_type": "execute_result"
    }
   ],
   "source": [
    "# Cambridge's top 10 most expensive drugs Table 7\n",
    "cb_costs = cb_BNF9_grouped[\"ACT COST\"].sum().reset_index(name=\"TOTAL_COST\").sort_values([\"TOTAL_COST\"], ascending=False)\n",
    "cb_top10_costs = cb_costs.head(10)\n",
    "cb_top10_costs"
   ]
  },
  {
   "cell_type": "markdown",
   "metadata": {},
   "source": [
    "<a id='table8'></a>\n",
    "##### Table 8"
   ]
  },
  {
   "cell_type": "code",
   "execution_count": 74,
   "metadata": {},
   "outputs": [
    {
     "data": {
      "text/html": [
       "<div>\n",
       "<style scoped>\n",
       "    .dataframe tbody tr th:only-of-type {\n",
       "        vertical-align: middle;\n",
       "    }\n",
       "\n",
       "    .dataframe tbody tr th {\n",
       "        vertical-align: top;\n",
       "    }\n",
       "\n",
       "    .dataframe thead th {\n",
       "        text-align: right;\n",
       "    }\n",
       "</style>\n",
       "<table border=\"1\" class=\"dataframe\">\n",
       "  <thead>\n",
       "    <tr style=\"text-align: right;\">\n",
       "      <th></th>\n",
       "      <th>NAME</th>\n",
       "      <th>CAMB_COST</th>\n",
       "      <th>LONDON_COST</th>\n",
       "    </tr>\n",
       "  </thead>\n",
       "  <tbody>\n",
       "    <tr>\n",
       "      <th>0</th>\n",
       "      <td>Beclometasone Dipropionate</td>\n",
       "      <td>45224.61</td>\n",
       "      <td>898492.91</td>\n",
       "    </tr>\n",
       "    <tr>\n",
       "      <th>1</th>\n",
       "      <td>Rivaroxaban</td>\n",
       "      <td>36966.49</td>\n",
       "      <td>788403.64</td>\n",
       "    </tr>\n",
       "    <tr>\n",
       "      <th>2</th>\n",
       "      <td>Glucose Blood Testing Reagents</td>\n",
       "      <td>30535.43</td>\n",
       "      <td>954292.56</td>\n",
       "    </tr>\n",
       "    <tr>\n",
       "      <th>3</th>\n",
       "      <td>Fluticasone Propionate (Inh)</td>\n",
       "      <td>26933.44</td>\n",
       "      <td>1127957.66</td>\n",
       "    </tr>\n",
       "    <tr>\n",
       "      <th>4</th>\n",
       "      <td>Tiotropium</td>\n",
       "      <td>22832.36</td>\n",
       "      <td>711898.31</td>\n",
       "    </tr>\n",
       "    <tr>\n",
       "      <th>5</th>\n",
       "      <td>Apixaban</td>\n",
       "      <td>21438.81</td>\n",
       "      <td>707637.17</td>\n",
       "    </tr>\n",
       "    <tr>\n",
       "      <th>6</th>\n",
       "      <td>Budesonide</td>\n",
       "      <td>18764.81</td>\n",
       "      <td>734729.18</td>\n",
       "    </tr>\n",
       "  </tbody>\n",
       "</table>\n",
       "</div>"
      ],
      "text/plain": [
       "                             NAME  CAMB_COST  LONDON_COST\n",
       "0  Beclometasone Dipropionate      45224.61   898492.91  \n",
       "1  Rivaroxaban                     36966.49   788403.64  \n",
       "2  Glucose Blood Testing Reagents  30535.43   954292.56  \n",
       "3  Fluticasone Propionate (Inh)    26933.44   1127957.66 \n",
       "4  Tiotropium                      22832.36   711898.31  \n",
       "5  Apixaban                        21438.81   707637.17  \n",
       "6  Budesonide                      18764.81   734729.18  "
      ]
     },
     "execution_count": 74,
     "metadata": {},
     "output_type": "execute_result"
    }
   ],
   "source": [
    "# 7 drugs are in common between the top Table 8\n",
    "shared_top10_drugs = pd.merge(cb_top10_costs, london_top10_costs, on='NAME')\n",
    "shared_top10_drugs.columns = ['NAME', 'CAMB_COST', 'LONDON_COST']\n",
    "shared_top10_drugs"
   ]
  },
  {
   "cell_type": "code",
   "execution_count": 75,
   "metadata": {},
   "outputs": [
    {
     "data": {
      "text/html": [
       "<div>\n",
       "<style scoped>\n",
       "    .dataframe tbody tr th:only-of-type {\n",
       "        vertical-align: middle;\n",
       "    }\n",
       "\n",
       "    .dataframe tbody tr th {\n",
       "        vertical-align: top;\n",
       "    }\n",
       "\n",
       "    .dataframe thead th {\n",
       "        text-align: right;\n",
       "    }\n",
       "</style>\n",
       "<table border=\"1\" class=\"dataframe\">\n",
       "  <thead>\n",
       "    <tr style=\"text-align: right;\">\n",
       "      <th></th>\n",
       "      <th>NAME</th>\n",
       "      <th>TOTAL_COST</th>\n",
       "    </tr>\n",
       "  </thead>\n",
       "  <tbody>\n",
       "    <tr>\n",
       "      <th>918</th>\n",
       "      <td>Sitagliptin</td>\n",
       "      <td>1085861.87</td>\n",
       "    </tr>\n",
       "    <tr>\n",
       "      <th>627</th>\n",
       "      <td>Metformin Hydrochloride</td>\n",
       "      <td>688632.97</td>\n",
       "    </tr>\n",
       "    <tr>\n",
       "      <th>625</th>\n",
       "      <td>Mesalazine (Systemic)</td>\n",
       "      <td>521519.27</td>\n",
       "    </tr>\n",
       "  </tbody>\n",
       "</table>\n",
       "</div>"
      ],
      "text/plain": [
       "                        NAME  TOTAL_COST\n",
       "918  Sitagliptin              1085861.87\n",
       "627  Metformin Hydrochloride  688632.97 \n",
       "625  Mesalazine (Systemic)    521519.27 "
      ]
     },
     "execution_count": 75,
     "metadata": {},
     "output_type": "execute_result"
    }
   ],
   "source": [
    "# London has 3 drugs in it's top 10 not in Cambridge's top 10. Sitagliptin is expensive\n",
    "london_top10_costs[~(london_top10_costs.NAME.isin(cb_top10_costs.NAME))]"
   ]
  },
  {
   "cell_type": "markdown",
   "metadata": {},
   "source": [
    "# Question 3 "
   ]
  },
  {
   "cell_type": "markdown",
   "metadata": {},
   "source": [
    "3. Describe total number of prescriptions and their total actual cost (using the ACT COST column) across all practices for drugs related to:\n",
    "> - cardiovascular disease (British National Formulary chapter 2)\n",
    "> - antidepressants (British National Formulary chapter 4.3)"
   ]
  },
  {
   "cell_type": "code",
   "execution_count": 76,
   "metadata": {
    "scrolled": true
   },
   "outputs": [],
   "source": [
    "# First select the presecriptions from the relevant chapter\n",
    "\n",
    "cv_prescrip = prescribing[prescribing['BNF CODE'].str.startswith('02')]\n",
    "ad_prescrip = prescribing[prescribing['BNF CODE'].str.startswith('0403')]"
   ]
  },
  {
   "cell_type": "code",
   "execution_count": 77,
   "metadata": {
    "scrolled": false
   },
   "outputs": [
    {
     "name": "stderr",
     "output_type": "stream",
     "text": [
      "/Users/clairemooney/anaconda3/lib/python3.7/site-packages/ipykernel_launcher.py:3: SettingWithCopyWarning: \n",
      "A value is trying to be set on a copy of a slice from a DataFrame.\n",
      "Try using .loc[row_indexer,col_indexer] = value instead\n",
      "\n",
      "See the caveats in the documentation: http://pandas.pydata.org/pandas-docs/stable/indexing.html#indexing-view-versus-copy\n",
      "  This is separate from the ipykernel package so we can avoid doing imports until\n"
     ]
    },
    {
     "data": {
      "text/plain": [
       "1"
      ]
     },
     "execution_count": 77,
     "metadata": {},
     "output_type": "execute_result"
    }
   ],
   "source": [
    "# Duplicate the prescribing df and add a column which contains the first 2 letter of the BNF code\n",
    "# Grouping the data by the BNF2 column allows us to check that there is only one group\n",
    "cv_prescrip['BNF2'] = cv_prescrip['BNF CODE'].str[:2]\n",
    "cv_prescrip_grouped = cv_prescrip.groupby(['BNF2'])\n",
    "len(cv_prescrip_grouped)\n"
   ]
  },
  {
   "cell_type": "code",
   "execution_count": 78,
   "metadata": {
    "scrolled": true
   },
   "outputs": [
    {
     "name": "stderr",
     "output_type": "stream",
     "text": [
      "/Users/clairemooney/anaconda3/lib/python3.7/site-packages/ipykernel_launcher.py:3: SettingWithCopyWarning: \n",
      "A value is trying to be set on a copy of a slice from a DataFrame.\n",
      "Try using .loc[row_indexer,col_indexer] = value instead\n",
      "\n",
      "See the caveats in the documentation: http://pandas.pydata.org/pandas-docs/stable/indexing.html#indexing-view-versus-copy\n",
      "  This is separate from the ipykernel package so we can avoid doing imports until\n"
     ]
    },
    {
     "data": {
      "text/plain": [
       "1"
      ]
     },
     "execution_count": 78,
     "metadata": {},
     "output_type": "execute_result"
    }
   ],
   "source": [
    "#Duplicate the prescribing df and add a column which contains the first 4 letters of the BNF code\n",
    "# Grouping the data by the BNF4 column allows us to check that there is only one group\n",
    "ad_prescrip['BNF4'] = ad_prescrip['BNF CODE'].str[:4]\n",
    "ad_prescrip_grouped = ad_prescrip.groupby(['BNF4'])\n",
    "len(cv_prescrip_grouped)"
   ]
  },
  {
   "cell_type": "code",
   "execution_count": 79,
   "metadata": {
    "scrolled": false
   },
   "outputs": [
    {
     "data": {
      "text/plain": [
       "26449832"
      ]
     },
     "execution_count": 79,
     "metadata": {},
     "output_type": "execute_result"
    }
   ],
   "source": [
    "# calcuate the number of prescriptions for cardiovascular medicines\n",
    "cv_prescrip.ITEMS.sum()"
   ]
  },
  {
   "cell_type": "code",
   "execution_count": 80,
   "metadata": {
    "scrolled": true
   },
   "outputs": [
    {
     "data": {
      "text/plain": [
       "90193834.01999994"
      ]
     },
     "execution_count": 80,
     "metadata": {},
     "output_type": "execute_result"
    }
   ],
   "source": [
    "# calculate the cost of these prescriptions\n",
    "cv_prescrip['ACT COST'].sum()"
   ]
  },
  {
   "cell_type": "code",
   "execution_count": 81,
   "metadata": {
    "scrolled": true
   },
   "outputs": [
    {
     "data": {
      "text/plain": [
       "5715873"
      ]
     },
     "execution_count": 81,
     "metadata": {},
     "output_type": "execute_result"
    }
   ],
   "source": [
    "# calculate the number of prescriptons related to Antidepressants\n",
    "ad_prescrip.ITEMS.sum()"
   ]
  },
  {
   "cell_type": "code",
   "execution_count": 82,
   "metadata": {
    "scrolled": true
   },
   "outputs": [
    {
     "data": {
      "text/plain": [
       "16853470.86"
      ]
     },
     "execution_count": 82,
     "metadata": {},
     "output_type": "execute_result"
    }
   ],
   "source": [
    "# calculate the cost of antidepressants \n",
    "ad_prescrip['ACT COST'].sum()"
   ]
  },
  {
   "cell_type": "code",
   "execution_count": 83,
   "metadata": {},
   "outputs": [
    {
     "data": {
      "text/plain": [
       "21.05"
      ]
     },
     "execution_count": 83,
     "metadata": {},
     "output_type": "execute_result"
    }
   ],
   "source": [
    "# calculate the average presecription cost for a given treatment item\n",
    "avg_medicine_cost = (prescribing['ACT COST'] / prescribing['ITEMS']).mean()\n",
    "avg_medicine_cost"
   ]
  },
  {
   "cell_type": "code",
   "execution_count": 84,
   "metadata": {},
   "outputs": [
    {
     "data": {
      "text/plain": [
       "11.45"
      ]
     },
     "execution_count": 84,
     "metadata": {},
     "output_type": "execute_result"
    }
   ],
   "source": [
    "# calculate the average cost of prescriptions related to cv medicines\n",
    "avg_cv_prescript = (cv_prescrip['ACT COST'] / cv_prescrip['ITEMS']).mean()\n",
    "avg_cv_prescript"
   ]
  },
  {
   "cell_type": "code",
   "execution_count": 85,
   "metadata": {},
   "outputs": [
    {
     "data": {
      "text/plain": [
       "12.33"
      ]
     },
     "execution_count": 85,
     "metadata": {},
     "output_type": "execute_result"
    }
   ],
   "source": [
    "# calculate the average cost of prescriptions related to ad medicines\n",
    "avg_ad_prescript = (ad_prescrip['ACT COST'] / ad_prescrip['ITEMS']).mean()\n",
    "avg_ad_prescript"
   ]
  },
  {
   "cell_type": "markdown",
   "metadata": {},
   "source": [
    "# Question 4\n",
    "4. Describe the total spending and the relative costs per patient across all practices for the month of April 2018:\n",
    "> - visualize the monthly total spending per registered patients using a scatterplot and provide a trend line\n",
    "> - generate a histogram for relative spending for all practices and fit a Gaussian (normal) curve"
   ]
  },
  {
   "cell_type": "markdown",
   "metadata": {},
   "source": [
    "#### Step 1. Combine prescribing data with GP prac demographic data to get the number of patients within the same df"
   ]
  },
  {
   "cell_type": "code",
   "execution_count": 86,
   "metadata": {
    "scrolled": true
   },
   "outputs": [
    {
     "data": {
      "text/html": [
       "<div>\n",
       "<style scoped>\n",
       "    .dataframe tbody tr th:only-of-type {\n",
       "        vertical-align: middle;\n",
       "    }\n",
       "\n",
       "    .dataframe tbody tr th {\n",
       "        vertical-align: top;\n",
       "    }\n",
       "\n",
       "    .dataframe thead th {\n",
       "        text-align: right;\n",
       "    }\n",
       "</style>\n",
       "<table border=\"1\" class=\"dataframe\">\n",
       "  <thead>\n",
       "    <tr style=\"text-align: right;\">\n",
       "      <th></th>\n",
       "      <th>SHA</th>\n",
       "      <th>PCT</th>\n",
       "      <th>PRACTICE</th>\n",
       "      <th>BNF CODE</th>\n",
       "      <th>BNF NAME</th>\n",
       "      <th>ITEMS</th>\n",
       "      <th>NIC</th>\n",
       "      <th>ACT COST</th>\n",
       "      <th>QUANTITY</th>\n",
       "      <th>PERIOD</th>\n",
       "      <th>...</th>\n",
       "      <th>PUBLICATION</th>\n",
       "      <th>EXTRACT_DATE</th>\n",
       "      <th>TYPE</th>\n",
       "      <th>CCG_CODE</th>\n",
       "      <th>ONS_CCG_CODE</th>\n",
       "      <th>CODE</th>\n",
       "      <th>POSTCODE</th>\n",
       "      <th>SEX</th>\n",
       "      <th>AGE</th>\n",
       "      <th>NUMBER_OF_PATIENTS</th>\n",
       "    </tr>\n",
       "  </thead>\n",
       "  <tbody>\n",
       "    <tr>\n",
       "      <th>0</th>\n",
       "      <td>Q44</td>\n",
       "      <td>RXA</td>\n",
       "      <td>Y04664</td>\n",
       "      <td>0101021B0BEAIAL</td>\n",
       "      <td>Gaviscon Advance_Liq (Aniseed) (Reckitt)</td>\n",
       "      <td>9</td>\n",
       "      <td>61.44</td>\n",
       "      <td>57.09</td>\n",
       "      <td>6000</td>\n",
       "      <td>201804</td>\n",
       "      <td>...</td>\n",
       "      <td>GP_PRAC_PAT_LIST</td>\n",
       "      <td>01APR2018</td>\n",
       "      <td>GP</td>\n",
       "      <td>02F</td>\n",
       "      <td>E38000196</td>\n",
       "      <td>Y04664</td>\n",
       "      <td>CH64 2TN</td>\n",
       "      <td>ALL</td>\n",
       "      <td>ALL</td>\n",
       "      <td>4351</td>\n",
       "    </tr>\n",
       "    <tr>\n",
       "      <th>1</th>\n",
       "      <td>Q44</td>\n",
       "      <td>RXA</td>\n",
       "      <td>Y04664</td>\n",
       "      <td>0101021B0BEAQAP</td>\n",
       "      <td>Gaviscon Advance_Tab Chble Mint(Reckitt)</td>\n",
       "      <td>2</td>\n",
       "      <td>15.35</td>\n",
       "      <td>14.26</td>\n",
       "      <td>300</td>\n",
       "      <td>201804</td>\n",
       "      <td>...</td>\n",
       "      <td>GP_PRAC_PAT_LIST</td>\n",
       "      <td>01APR2018</td>\n",
       "      <td>GP</td>\n",
       "      <td>02F</td>\n",
       "      <td>E38000196</td>\n",
       "      <td>Y04664</td>\n",
       "      <td>CH64 2TN</td>\n",
       "      <td>ALL</td>\n",
       "      <td>ALL</td>\n",
       "      <td>4351</td>\n",
       "    </tr>\n",
       "    <tr>\n",
       "      <th>2</th>\n",
       "      <td>Q44</td>\n",
       "      <td>RXA</td>\n",
       "      <td>Y04664</td>\n",
       "      <td>0101021B0BEBEAL</td>\n",
       "      <td>Gaviscon Advance_Liq (Peppermint) S/F</td>\n",
       "      <td>7</td>\n",
       "      <td>33.98</td>\n",
       "      <td>31.60</td>\n",
       "      <td>3050</td>\n",
       "      <td>201804</td>\n",
       "      <td>...</td>\n",
       "      <td>GP_PRAC_PAT_LIST</td>\n",
       "      <td>01APR2018</td>\n",
       "      <td>GP</td>\n",
       "      <td>02F</td>\n",
       "      <td>E38000196</td>\n",
       "      <td>Y04664</td>\n",
       "      <td>CH64 2TN</td>\n",
       "      <td>ALL</td>\n",
       "      <td>ALL</td>\n",
       "      <td>4351</td>\n",
       "    </tr>\n",
       "    <tr>\n",
       "      <th>3</th>\n",
       "      <td>Q44</td>\n",
       "      <td>RXA</td>\n",
       "      <td>Y04664</td>\n",
       "      <td>0102000A0AAAAAA</td>\n",
       "      <td>Alverine Cit_Cap 60mg</td>\n",
       "      <td>4</td>\n",
       "      <td>4.00</td>\n",
       "      <td>4.16</td>\n",
       "      <td>84</td>\n",
       "      <td>201804</td>\n",
       "      <td>...</td>\n",
       "      <td>GP_PRAC_PAT_LIST</td>\n",
       "      <td>01APR2018</td>\n",
       "      <td>GP</td>\n",
       "      <td>02F</td>\n",
       "      <td>E38000196</td>\n",
       "      <td>Y04664</td>\n",
       "      <td>CH64 2TN</td>\n",
       "      <td>ALL</td>\n",
       "      <td>ALL</td>\n",
       "      <td>4351</td>\n",
       "    </tr>\n",
       "    <tr>\n",
       "      <th>4</th>\n",
       "      <td>Q44</td>\n",
       "      <td>RXA</td>\n",
       "      <td>Y04664</td>\n",
       "      <td>0102000A0BBABAB</td>\n",
       "      <td>Spasmonal Fte_Cap 120mg</td>\n",
       "      <td>1</td>\n",
       "      <td>29.13</td>\n",
       "      <td>27.13</td>\n",
       "      <td>90</td>\n",
       "      <td>201804</td>\n",
       "      <td>...</td>\n",
       "      <td>GP_PRAC_PAT_LIST</td>\n",
       "      <td>01APR2018</td>\n",
       "      <td>GP</td>\n",
       "      <td>02F</td>\n",
       "      <td>E38000196</td>\n",
       "      <td>Y04664</td>\n",
       "      <td>CH64 2TN</td>\n",
       "      <td>ALL</td>\n",
       "      <td>ALL</td>\n",
       "      <td>4351</td>\n",
       "    </tr>\n",
       "  </tbody>\n",
       "</table>\n",
       "<p>5 rows × 21 columns</p>\n",
       "</div>"
      ],
      "text/plain": [
       "   SHA  PCT PRACTICE         BNF CODE  \\\n",
       "0  Q44  RXA  Y04664   0101021B0BEAIAL   \n",
       "1  Q44  RXA  Y04664   0101021B0BEAQAP   \n",
       "2  Q44  RXA  Y04664   0101021B0BEBEAL   \n",
       "3  Q44  RXA  Y04664   0102000A0AAAAAA   \n",
       "4  Q44  RXA  Y04664   0102000A0BBABAB   \n",
       "\n",
       "                                   BNF NAME  ITEMS    NIC  ACT COST  QUANTITY  \\\n",
       "0  Gaviscon Advance_Liq (Aniseed) (Reckitt)  9      61.44  57.09     6000       \n",
       "1  Gaviscon Advance_Tab Chble Mint(Reckitt)  2      15.35  14.26     300        \n",
       "2  Gaviscon Advance_Liq (Peppermint) S/F     7      33.98  31.60     3050       \n",
       "3  Alverine Cit_Cap 60mg                     4      4.00   4.16      84         \n",
       "4  Spasmonal Fte_Cap 120mg                   1      29.13  27.13     90         \n",
       "\n",
       "   PERIOD        ...               PUBLICATION EXTRACT_DATE TYPE CCG_CODE  \\\n",
       "0  201804        ...          GP_PRAC_PAT_LIST  01APR2018    GP   02F       \n",
       "1  201804        ...          GP_PRAC_PAT_LIST  01APR2018    GP   02F       \n",
       "2  201804        ...          GP_PRAC_PAT_LIST  01APR2018    GP   02F       \n",
       "3  201804        ...          GP_PRAC_PAT_LIST  01APR2018    GP   02F       \n",
       "4  201804        ...          GP_PRAC_PAT_LIST  01APR2018    GP   02F       \n",
       "\n",
       "  ONS_CCG_CODE    CODE  POSTCODE  SEX  AGE NUMBER_OF_PATIENTS  \n",
       "0  E38000196    Y04664  CH64 2TN  ALL  ALL  4351               \n",
       "1  E38000196    Y04664  CH64 2TN  ALL  ALL  4351               \n",
       "2  E38000196    Y04664  CH64 2TN  ALL  ALL  4351               \n",
       "3  E38000196    Y04664  CH64 2TN  ALL  ALL  4351               \n",
       "4  E38000196    Y04664  CH64 2TN  ALL  ALL  4351               \n",
       "\n",
       "[5 rows x 21 columns]"
      ]
     },
     "execution_count": 86,
     "metadata": {},
     "output_type": "execute_result"
    }
   ],
   "source": [
    "# create new df of combining prescrribing and gp prac demographics \n",
    "prescribing_pat_num = prescribing.merge(gp_prac, how='inner', left_on=['PRACTICE'], right_on=['CODE'])\n",
    "\n",
    "# check the new dataframe that is created\n",
    "prescribing_pat_num.head()"
   ]
  },
  {
   "cell_type": "markdown",
   "metadata": {},
   "source": [
    "#### Step . Get total spend per practice\n",
    "Group the merged df by CODE and get the total within each group"
   ]
  },
  {
   "cell_type": "code",
   "execution_count": 87,
   "metadata": {
    "scrolled": true
   },
   "outputs": [
    {
     "data": {
      "text/plain": [
       "7191"
      ]
     },
     "execution_count": 87,
     "metadata": {},
     "output_type": "execute_result"
    }
   ],
   "source": [
    "# group the new df by CODE column\n",
    "prescribing_grouped = prescribing_pat_num.groupby(['CODE'])\n",
    "len(prescribing_grouped)\n",
    "\n",
    "# See Appendix 1 for information on practices omitted during the selection process"
   ]
  },
  {
   "cell_type": "code",
   "execution_count": 88,
   "metadata": {
    "scrolled": true
   },
   "outputs": [
    {
     "data": {
      "text/html": [
       "<div>\n",
       "<style scoped>\n",
       "    .dataframe tbody tr th:only-of-type {\n",
       "        vertical-align: middle;\n",
       "    }\n",
       "\n",
       "    .dataframe tbody tr th {\n",
       "        vertical-align: top;\n",
       "    }\n",
       "\n",
       "    .dataframe thead th {\n",
       "        text-align: right;\n",
       "    }\n",
       "</style>\n",
       "<table border=\"1\" class=\"dataframe\">\n",
       "  <thead>\n",
       "    <tr style=\"text-align: right;\">\n",
       "      <th></th>\n",
       "      <th>CODE</th>\n",
       "      <th>TOTAL SPEND</th>\n",
       "    </tr>\n",
       "  </thead>\n",
       "  <tbody>\n",
       "    <tr>\n",
       "      <th>0</th>\n",
       "      <td>A81001</td>\n",
       "      <td>52194.63</td>\n",
       "    </tr>\n",
       "    <tr>\n",
       "      <th>1</th>\n",
       "      <td>A81002</td>\n",
       "      <td>268607.26</td>\n",
       "    </tr>\n",
       "    <tr>\n",
       "      <th>2</th>\n",
       "      <td>A81004</td>\n",
       "      <td>139115.40</td>\n",
       "    </tr>\n",
       "    <tr>\n",
       "      <th>3</th>\n",
       "      <td>A81005</td>\n",
       "      <td>102914.06</td>\n",
       "    </tr>\n",
       "    <tr>\n",
       "      <th>4</th>\n",
       "      <td>A81006</td>\n",
       "      <td>183226.79</td>\n",
       "    </tr>\n",
       "  </tbody>\n",
       "</table>\n",
       "</div>"
      ],
      "text/plain": [
       "     CODE  TOTAL SPEND\n",
       "0  A81001  52194.63   \n",
       "1  A81002  268607.26  \n",
       "2  A81004  139115.40  \n",
       "3  A81005  102914.06  \n",
       "4  A81006  183226.79  "
      ]
     },
     "execution_count": 88,
     "metadata": {},
     "output_type": "execute_result"
    }
   ],
   "source": [
    "# sum number of prescriptions in the \"ITEMS\" in each group, rename the \"sum\" column \"TOTAL_ITEMS\" and sort the values\n",
    "practice_spend = prescribing_grouped['ACT COST'].sum().reset_index(name='TOTAL SPEND')\n",
    "\n",
    "# check output\n",
    "practice_spend.head(5)"
   ]
  },
  {
   "cell_type": "markdown",
   "metadata": {},
   "source": [
    "#### Step 3. Get total spend per patient for each practice\n",
    "Merge the total spend per practice df with the gp_prac data and calculate necessary outputs "
   ]
  },
  {
   "cell_type": "code",
   "execution_count": 89,
   "metadata": {
    "scrolled": true
   },
   "outputs": [
    {
     "data": {
      "text/html": [
       "<div>\n",
       "<style scoped>\n",
       "    .dataframe tbody tr th:only-of-type {\n",
       "        vertical-align: middle;\n",
       "    }\n",
       "\n",
       "    .dataframe tbody tr th {\n",
       "        vertical-align: top;\n",
       "    }\n",
       "\n",
       "    .dataframe thead th {\n",
       "        text-align: right;\n",
       "    }\n",
       "</style>\n",
       "<table border=\"1\" class=\"dataframe\">\n",
       "  <thead>\n",
       "    <tr style=\"text-align: right;\">\n",
       "      <th></th>\n",
       "      <th>CODE</th>\n",
       "      <th>TOTAL SPEND</th>\n",
       "      <th>PUBLICATION</th>\n",
       "      <th>EXTRACT_DATE</th>\n",
       "      <th>TYPE</th>\n",
       "      <th>CCG_CODE</th>\n",
       "      <th>ONS_CCG_CODE</th>\n",
       "      <th>POSTCODE</th>\n",
       "      <th>SEX</th>\n",
       "      <th>AGE</th>\n",
       "      <th>NUMBER_OF_PATIENTS</th>\n",
       "    </tr>\n",
       "  </thead>\n",
       "  <tbody>\n",
       "    <tr>\n",
       "      <th>0</th>\n",
       "      <td>A81001</td>\n",
       "      <td>52194.63</td>\n",
       "      <td>GP_PRAC_PAT_LIST</td>\n",
       "      <td>01APR2018</td>\n",
       "      <td>GP</td>\n",
       "      <td>00K</td>\n",
       "      <td>E38000075</td>\n",
       "      <td>TS18 1HU</td>\n",
       "      <td>ALL</td>\n",
       "      <td>ALL</td>\n",
       "      <td>4086</td>\n",
       "    </tr>\n",
       "    <tr>\n",
       "      <th>1</th>\n",
       "      <td>A81002</td>\n",
       "      <td>268607.26</td>\n",
       "      <td>GP_PRAC_PAT_LIST</td>\n",
       "      <td>01APR2018</td>\n",
       "      <td>GP</td>\n",
       "      <td>00K</td>\n",
       "      <td>E38000075</td>\n",
       "      <td>TS18 2AW</td>\n",
       "      <td>ALL</td>\n",
       "      <td>ALL</td>\n",
       "      <td>19906</td>\n",
       "    </tr>\n",
       "    <tr>\n",
       "      <th>2</th>\n",
       "      <td>A81004</td>\n",
       "      <td>139115.40</td>\n",
       "      <td>GP_PRAC_PAT_LIST</td>\n",
       "      <td>01APR2018</td>\n",
       "      <td>GP</td>\n",
       "      <td>00M</td>\n",
       "      <td>E38000162</td>\n",
       "      <td>TS5 8SB</td>\n",
       "      <td>ALL</td>\n",
       "      <td>ALL</td>\n",
       "      <td>10165</td>\n",
       "    </tr>\n",
       "    <tr>\n",
       "      <th>3</th>\n",
       "      <td>A81005</td>\n",
       "      <td>102914.06</td>\n",
       "      <td>GP_PRAC_PAT_LIST</td>\n",
       "      <td>01APR2018</td>\n",
       "      <td>GP</td>\n",
       "      <td>00M</td>\n",
       "      <td>E38000162</td>\n",
       "      <td>TS14 7DJ</td>\n",
       "      <td>ALL</td>\n",
       "      <td>ALL</td>\n",
       "      <td>8016</td>\n",
       "    </tr>\n",
       "    <tr>\n",
       "      <th>4</th>\n",
       "      <td>A81006</td>\n",
       "      <td>183226.79</td>\n",
       "      <td>GP_PRAC_PAT_LIST</td>\n",
       "      <td>01APR2018</td>\n",
       "      <td>GP</td>\n",
       "      <td>00K</td>\n",
       "      <td>E38000075</td>\n",
       "      <td>TS18 2AT</td>\n",
       "      <td>ALL</td>\n",
       "      <td>ALL</td>\n",
       "      <td>14497</td>\n",
       "    </tr>\n",
       "  </tbody>\n",
       "</table>\n",
       "</div>"
      ],
      "text/plain": [
       "     CODE  TOTAL SPEND       PUBLICATION EXTRACT_DATE TYPE CCG_CODE  \\\n",
       "0  A81001  52194.63     GP_PRAC_PAT_LIST  01APR2018    GP   00K       \n",
       "1  A81002  268607.26    GP_PRAC_PAT_LIST  01APR2018    GP   00K       \n",
       "2  A81004  139115.40    GP_PRAC_PAT_LIST  01APR2018    GP   00M       \n",
       "3  A81005  102914.06    GP_PRAC_PAT_LIST  01APR2018    GP   00M       \n",
       "4  A81006  183226.79    GP_PRAC_PAT_LIST  01APR2018    GP   00K       \n",
       "\n",
       "  ONS_CCG_CODE  POSTCODE  SEX  AGE  NUMBER_OF_PATIENTS  \n",
       "0  E38000075    TS18 1HU  ALL  ALL  4086                \n",
       "1  E38000075    TS18 2AW  ALL  ALL  19906               \n",
       "2  E38000162    TS5 8SB   ALL  ALL  10165               \n",
       "3  E38000162    TS14 7DJ  ALL  ALL  8016                \n",
       "4  E38000075    TS18 2AT  ALL  ALL  14497               "
      ]
     },
     "execution_count": 89,
     "metadata": {},
     "output_type": "execute_result"
    }
   ],
   "source": [
    "# merge the practice spend file with the gp_prac file in order to calculate the spend per patient\n",
    "spend_vs_numPat = practice_spend.merge(gp_prac, how='inner', on=['CODE'])\n",
    "\n",
    "#check output\n",
    "spend_vs_numPat.head(5)\n"
   ]
  },
  {
   "cell_type": "code",
   "execution_count": 90,
   "metadata": {},
   "outputs": [
    {
     "data": {
      "text/plain": [
       "87842.77"
      ]
     },
     "execution_count": 90,
     "metadata": {},
     "output_type": "execute_result"
    }
   ],
   "source": [
    "# mean total spend per practice\n",
    "spend_vs_numPat['TOTAL SPEND'].mean()"
   ]
  },
  {
   "cell_type": "code",
   "execution_count": 91,
   "metadata": {
    "scrolled": true
   },
   "outputs": [
    {
     "data": {
      "text/plain": [
       "842838.1799999974"
      ]
     },
     "execution_count": 91,
     "metadata": {},
     "output_type": "execute_result"
    }
   ],
   "source": [
    "# maximum spend\n",
    "spend_vs_numPat['TOTAL SPEND'].max()"
   ]
  },
  {
   "cell_type": "code",
   "execution_count": 92,
   "metadata": {
    "scrolled": true
   },
   "outputs": [
    {
     "data": {
      "text/plain": [
       "3.25"
      ]
     },
     "execution_count": 92,
     "metadata": {},
     "output_type": "execute_result"
    }
   ],
   "source": [
    "## minimum spend\n",
    "spend_vs_numPat['TOTAL SPEND'].min()"
   ]
  },
  {
   "cell_type": "code",
   "execution_count": 93,
   "metadata": {},
   "outputs": [
    {
     "data": {
      "text/plain": [
       "59133.29"
      ]
     },
     "execution_count": 93,
     "metadata": {},
     "output_type": "execute_result"
    }
   ],
   "source": [
    "spend_vs_numPat['TOTAL SPEND'].std()"
   ]
  },
  {
   "cell_type": "code",
   "execution_count": 94,
   "metadata": {},
   "outputs": [
    {
     "data": {
      "text/plain": [
       "631677358.4000001"
      ]
     },
     "execution_count": 94,
     "metadata": {},
     "output_type": "execute_result"
    }
   ],
   "source": [
    "spend_vs_numPat['TOTAL SPEND'].sum()"
   ]
  },
  {
   "cell_type": "code",
   "execution_count": 95,
   "metadata": {
    "scrolled": true
   },
   "outputs": [
    {
     "data": {
      "text/plain": [
       "72227"
      ]
     },
     "execution_count": 95,
     "metadata": {},
     "output_type": "execute_result"
    }
   ],
   "source": [
    "spend_vs_numPat['NUMBER_OF_PATIENTS'].max()"
   ]
  },
  {
   "cell_type": "code",
   "execution_count": 96,
   "metadata": {
    "scrolled": true
   },
   "outputs": [
    {
     "data": {
      "text/plain": [
       "3"
      ]
     },
     "execution_count": 96,
     "metadata": {},
     "output_type": "execute_result"
    }
   ],
   "source": [
    "spend_vs_numPat['NUMBER_OF_PATIENTS'].min()"
   ]
  },
  {
   "cell_type": "code",
   "execution_count": 97,
   "metadata": {
    "scrolled": false
   },
   "outputs": [
    {
     "data": {
      "text/html": [
       "<div>\n",
       "<style scoped>\n",
       "    .dataframe tbody tr th:only-of-type {\n",
       "        vertical-align: middle;\n",
       "    }\n",
       "\n",
       "    .dataframe tbody tr th {\n",
       "        vertical-align: top;\n",
       "    }\n",
       "\n",
       "    .dataframe thead th {\n",
       "        text-align: right;\n",
       "    }\n",
       "</style>\n",
       "<table border=\"1\" class=\"dataframe\">\n",
       "  <thead>\n",
       "    <tr style=\"text-align: right;\">\n",
       "      <th></th>\n",
       "      <th>CODE</th>\n",
       "      <th>TOTAL SPEND</th>\n",
       "      <th>PUBLICATION</th>\n",
       "      <th>EXTRACT_DATE</th>\n",
       "      <th>TYPE</th>\n",
       "      <th>CCG_CODE</th>\n",
       "      <th>ONS_CCG_CODE</th>\n",
       "      <th>POSTCODE</th>\n",
       "      <th>SEX</th>\n",
       "      <th>AGE</th>\n",
       "      <th>NUMBER_OF_PATIENTS</th>\n",
       "    </tr>\n",
       "  </thead>\n",
       "  <tbody>\n",
       "    <tr>\n",
       "      <th>5491</th>\n",
       "      <td>M85063</td>\n",
       "      <td>842838.18</td>\n",
       "      <td>GP_PRAC_PAT_LIST</td>\n",
       "      <td>01APR2018</td>\n",
       "      <td>GP</td>\n",
       "      <td>15E</td>\n",
       "      <td>E38000220</td>\n",
       "      <td>B24 0SY</td>\n",
       "      <td>ALL</td>\n",
       "      <td>ALL</td>\n",
       "      <td>66502</td>\n",
       "    </tr>\n",
       "  </tbody>\n",
       "</table>\n",
       "</div>"
      ],
      "text/plain": [
       "        CODE  TOTAL SPEND       PUBLICATION EXTRACT_DATE TYPE CCG_CODE  \\\n",
       "5491  M85063  842838.18    GP_PRAC_PAT_LIST  01APR2018    GP   15E       \n",
       "\n",
       "     ONS_CCG_CODE POSTCODE  SEX  AGE  NUMBER_OF_PATIENTS  \n",
       "5491  E38000220    B24 0SY  ALL  ALL  66502               "
      ]
     },
     "execution_count": 97,
     "metadata": {},
     "output_type": "execute_result"
    }
   ],
   "source": [
    "# to find out where the location of practice with the highest spend\n",
    "spend_vs_numPat[spend_vs_numPat['TOTAL SPEND'] == 842838.1799999974]"
   ]
  },
  {
   "cell_type": "markdown",
   "metadata": {},
   "source": [
    "<a id='Figure4'></a>\n",
    "###### Figure 4"
   ]
  },
  {
   "cell_type": "code",
   "execution_count": 98,
   "metadata": {
    "scrolled": false
   },
   "outputs": [
    {
     "data": {
      "image/png": "[encoded data removed]",
      "text/plain": [
       "<Figure size 432x288 with 1 Axes>"
      ]
     },
     "metadata": {
      "needs_background": "light"
     },
     "output_type": "display_data"
    },
    {
     "data": {
      "text/plain": [
       "<Figure size 2160x1440 with 0 Axes>"
      ]
     },
     "metadata": {},
     "output_type": "display_data"
    }
   ],
   "source": [
    "# Create scatter plot. FIGURE 4\n",
    "plt.scatter(spend_vs_numPat['NUMBER_OF_PATIENTS'], spend_vs_numPat['TOTAL SPEND'])\n",
    "\n",
    "# Add trendline\n",
    "x = spend_vs_numPat['NUMBER_OF_PATIENTS'].values\n",
    "y = spend_vs_numPat['TOTAL SPEND'].values\n",
    "\n",
    "z = np.polyfit(x, y, 1)\n",
    "p = np.poly1d(z)\n",
    "\n",
    "plt.plot(x, p(x), 'm-')\n",
    "\n",
    "plt.xlabel('Number of patients')\n",
    "plt.ylabel('Total Spend (£)')\n",
    "plt.title('Total spend per patient')\n",
    "plt.figure(figsize=(30,20))\n",
    "plt.show()\n"
   ]
  },
  {
   "cell_type": "markdown",
   "metadata": {},
   "source": [
    "<a id='Figure5'></a>\n",
    "##### Figure 5"
   ]
  },
  {
   "cell_type": "code",
   "execution_count": 99,
   "metadata": {},
   "outputs": [
    {
     "data": {
      "text/plain": [
       "<matplotlib.axes._subplots.AxesSubplot at 0x1a1f083780>"
      ]
     },
     "execution_count": 99,
     "metadata": {},
     "output_type": "execute_result"
    },
    {
     "data": {
      "image/png": "[encoded data removed]",
      "text/plain": [
       "<Figure size 432x288 with 1 Axes>"
      ]
     },
     "metadata": {
      "needs_background": "light"
     },
     "output_type": "display_data"
    }
   ],
   "source": [
    "# Create histogram Figure 5\n",
    "\n",
    "from scipy.stats import norm\n",
    "\n",
    "x = spend_vs_numPat['TOTAL SPEND']/spend_vs_numPat['NUMBER_OF_PATIENTS']\n",
    "\n",
    "plt.xlabel('Total Spend per patient')\n",
    "plt.ylabel('Proportion of GP practices')\n",
    "plt.title('Total spend per GP practice per patient')\n",
    "\n",
    "sns.distplot(x.clip(0,25), bins=200, fit=norm, kde=False, axlabel='Total spend', norm_hist=True)"
   ]
  },
  {
   "cell_type": "markdown",
   "metadata": {},
   "source": [
    "# ASSIGNMENT B"
   ]
  },
  {
   "cell_type": "markdown",
   "metadata": {},
   "source": [
    "## WHO Mortality Database\n",
    "The WHO Mortality Database is a database of registered deaths compiled by WHO from data given by national authorities around the world. The cause of each death is classified by the circumstances that led to death. For this exercise, you will use data which report the cause of death using the 10th revision of the International Classification of Diseases (ICD-10). All of this information is collated into a number of Comma Separated Value (CSV) files, which can be found on the WHO Mortality Database website. The year of interest is 2010.  \n",
    "Each country in the database is uniquely identified all WHO datasets by a four digit numeric code. The mapping between countries and identifier codes is located in the \"Country codes\" lookup file. Information on the population of each country is found in the \"Population and live births\" file."
   ]
  },
  {
   "cell_type": "code",
   "execution_count": 100,
   "metadata": {},
   "outputs": [
    {
     "name": "stderr",
     "output_type": "stream",
     "text": [
      "/Users/clairemooney/anaconda3/lib/python3.7/site-packages/IPython/core/interactiveshell.py:2785: DtypeWarning: Columns (4) have mixed types. Specify dtype option on import or set low_memory=False.\n",
      "  interactivity=interactivity, compiler=compiler, result=result)\n",
      "/Users/clairemooney/anaconda3/lib/python3.7/site-packages/IPython/core/interactiveshell.py:2785: DtypeWarning: Columns (2,4) have mixed types. Specify dtype option on import or set low_memory=False.\n",
      "  interactivity=interactivity, compiler=compiler, result=result)\n"
     ]
    }
   ],
   "source": [
    "import urllib\n",
    "import zipfile\n",
    "urls = ['https://www.who.int/healthinfo/statistics/Morticd10_part1.zip', 'https://www.who.int/healthinfo/statistics/Morticd10_part2.zip', \n",
    "        'https://www.who.int/healthinfo/statistics/country_codes.zip', 'https://www.who.int/healthinfo/Pop.zip']\n",
    "for url in urls:\n",
    "  urllib.request.urlretrieve(url, url.split('/')[-1])\n",
    "\n",
    "for filepath in ['country_codes.zip', 'Morticd10_part1.zip', 'Morticd10_part2.zip', 'Pop.zip']:\n",
    "  zip_ref = zipfile.ZipFile(filepath, 'r')\n",
    "  zip_ref.extractall()\n",
    "  zip_ref.close()\n",
    "  \n",
    "mortality1 = pd.read_csv('Morticd10_part1')\n",
    "mortality2 = pd.read_csv('Morticd10_part2')\n",
    "country_codes = pd.read_csv('country_codes')\n",
    "pop = pd.read_csv('pop')"
   ]
  },
  {
   "cell_type": "markdown",
   "metadata": {},
   "source": [
    "## Question 1. \n",
    "\n",
    "What was the population and the total number of deaths (from all causes, all ages) in 2010 for:\n",
    "- Iceland\n",
    "- Italy\n",
    "- New Zealand"
   ]
  },
  {
   "cell_type": "markdown",
   "metadata": {},
   "source": [
    "#### Step 1. Set up data "
   ]
  },
  {
   "cell_type": "code",
   "execution_count": 101,
   "metadata": {
    "scrolled": true
   },
   "outputs": [],
   "source": [
    "# combine mortality data files make files headers more more readable by changing the headers\n",
    "\n",
    "all_deaths = pd.concat((mortality1, mortality2))\n",
    "\n",
    "age_dict = {'Deaths1':'Total', 'Deaths2':'0', 'Deaths3':'1', 'Deaths4':'2', 'Deaths5':'3', 'Deaths6':'4', \n",
    "            'Deaths7':'5-9', 'Deaths8':'10-14', 'Deaths9':'15-19', 'Deaths10':'20-24', 'Deaths11':'25-29', \n",
    "            'Deaths12':'30-34', 'Deaths13':'35-39', 'Deaths14':'40-44', 'Deaths15':'45-49', 'Deaths16':'50-54', \n",
    "            'Deaths17':'55-59', 'Deaths18':'60-64', 'Deaths19':'65-69', 'Deaths20':'70-74', 'Deaths21':'75-79', \n",
    "            'Deaths22':'80-84', 'Deaths23':'85-89', 'Deaths24':'90-94', 'Deaths25':'95+', 'Deaths26':'Unspecified'}\n",
    "\n",
    "pop_dict = {'Pop1':'Total', 'Pop2':'0', 'Pop3':'1', 'Pop4':'2', 'Pop5':'3', 'Pop6':'4', \n",
    "            'Pop7':'5-9', 'Pop8':'10-14', 'Pop9':'15-19', 'Pop10':'20-24', 'Pop11':'25-29', \n",
    "            'Pop12':'30-34', 'Pop13':'35-39', 'Pop14':'40-44', 'Pop15':'45-49', 'Pop16':'50-54', \n",
    "            'Pop17':'55-59', 'Pop18':'60-64', 'Pop19':'65-69', 'Pop20':'70-74', 'Pop21':'75-79', \n",
    "            'Pop22':'80-84', 'Pop23':'85-89', 'Pop24':'90-94', 'Pop25':'95+', 'Pop26':'Unspecified'}\n",
    "\n",
    "specified_age_groups = ['0-4','5-9','10-14','15-19','20-24','25-29','30-34','35-39','40-44','45-49',\n",
    "                        '50-54','55-59','60-64','65-69','70-74','75-79','80-84','85-89','90-94','95+']"
   ]
  },
  {
   "cell_type": "code",
   "execution_count": 102,
   "metadata": {
    "scrolled": false
   },
   "outputs": [],
   "source": [
    "all_deaths = all_deaths.rename(index=str, columns=age_dict)\n",
    "pop = pop.rename(index=str, columns=pop_dict)\n",
    "all_deaths['0-4'] = all_deaths[['0', '1', '2', '3', '4']].sum(axis=1)\n",
    "pop['0-4'] = pop[['0', '1', '2', '3', '4']].sum(axis=1)"
   ]
  },
  {
   "cell_type": "code",
   "execution_count": 103,
   "metadata": {
    "scrolled": true
   },
   "outputs": [
    {
     "data": {
      "text/html": [
       "<div>\n",
       "<style scoped>\n",
       "    .dataframe tbody tr th:only-of-type {\n",
       "        vertical-align: middle;\n",
       "    }\n",
       "\n",
       "    .dataframe tbody tr th {\n",
       "        vertical-align: top;\n",
       "    }\n",
       "\n",
       "    .dataframe thead th {\n",
       "        text-align: right;\n",
       "    }\n",
       "</style>\n",
       "<table border=\"1\" class=\"dataframe\">\n",
       "  <thead>\n",
       "    <tr style=\"text-align: right;\">\n",
       "      <th></th>\n",
       "      <th>Country</th>\n",
       "      <th>Admin1</th>\n",
       "      <th>SubDiv</th>\n",
       "      <th>Year</th>\n",
       "      <th>Sex</th>\n",
       "      <th>Frmat</th>\n",
       "      <th>Total</th>\n",
       "      <th>0</th>\n",
       "      <th>1</th>\n",
       "      <th>2</th>\n",
       "      <th>...</th>\n",
       "      <th>65-69</th>\n",
       "      <th>70-74</th>\n",
       "      <th>75-79</th>\n",
       "      <th>80-84</th>\n",
       "      <th>85-89</th>\n",
       "      <th>90-94</th>\n",
       "      <th>95+</th>\n",
       "      <th>Unspecified</th>\n",
       "      <th>Lb</th>\n",
       "      <th>0-4</th>\n",
       "    </tr>\n",
       "  </thead>\n",
       "  <tbody>\n",
       "    <tr>\n",
       "      <th>0</th>\n",
       "      <td>1060</td>\n",
       "      <td>NaN</td>\n",
       "      <td>NaN</td>\n",
       "      <td>1980</td>\n",
       "      <td>1</td>\n",
       "      <td>7</td>\n",
       "      <td>137100.0</td>\n",
       "      <td>3400.0</td>\n",
       "      <td>15800.0</td>\n",
       "      <td>NaN</td>\n",
       "      <td>...</td>\n",
       "      <td>5300.0</td>\n",
       "      <td>NaN</td>\n",
       "      <td>2900.0</td>\n",
       "      <td>NaN</td>\n",
       "      <td>NaN</td>\n",
       "      <td>NaN</td>\n",
       "      <td>NaN</td>\n",
       "      <td>6500.0</td>\n",
       "      <td>5000.0</td>\n",
       "      <td>19200.0</td>\n",
       "    </tr>\n",
       "    <tr>\n",
       "      <th>1</th>\n",
       "      <td>1060</td>\n",
       "      <td>NaN</td>\n",
       "      <td>NaN</td>\n",
       "      <td>1980</td>\n",
       "      <td>2</td>\n",
       "      <td>7</td>\n",
       "      <td>159000.0</td>\n",
       "      <td>4000.0</td>\n",
       "      <td>18400.0</td>\n",
       "      <td>NaN</td>\n",
       "      <td>...</td>\n",
       "      <td>6200.0</td>\n",
       "      <td>NaN</td>\n",
       "      <td>3400.0</td>\n",
       "      <td>NaN</td>\n",
       "      <td>NaN</td>\n",
       "      <td>NaN</td>\n",
       "      <td>NaN</td>\n",
       "      <td>7500.0</td>\n",
       "      <td>6000.0</td>\n",
       "      <td>22400.0</td>\n",
       "    </tr>\n",
       "    <tr>\n",
       "      <th>2</th>\n",
       "      <td>1125</td>\n",
       "      <td>NaN</td>\n",
       "      <td>NaN</td>\n",
       "      <td>1955</td>\n",
       "      <td>1</td>\n",
       "      <td>2</td>\n",
       "      <td>5051500.0</td>\n",
       "      <td>150300.0</td>\n",
       "      <td>543400.0</td>\n",
       "      <td>NaN</td>\n",
       "      <td>...</td>\n",
       "      <td>51100.0</td>\n",
       "      <td>41600.0</td>\n",
       "      <td>14300.0</td>\n",
       "      <td>11800.0</td>\n",
       "      <td>25300.0</td>\n",
       "      <td>NaN</td>\n",
       "      <td>NaN</td>\n",
       "      <td>0.0</td>\n",
       "      <td>253329.0</td>\n",
       "      <td>693700.0</td>\n",
       "    </tr>\n",
       "    <tr>\n",
       "      <th>3</th>\n",
       "      <td>1125</td>\n",
       "      <td>NaN</td>\n",
       "      <td>NaN</td>\n",
       "      <td>1955</td>\n",
       "      <td>2</td>\n",
       "      <td>2</td>\n",
       "      <td>5049400.0</td>\n",
       "      <td>145200.0</td>\n",
       "      <td>551000.0</td>\n",
       "      <td>NaN</td>\n",
       "      <td>...</td>\n",
       "      <td>51100.0</td>\n",
       "      <td>50700.0</td>\n",
       "      <td>15800.0</td>\n",
       "      <td>18000.0</td>\n",
       "      <td>28500.0</td>\n",
       "      <td>NaN</td>\n",
       "      <td>NaN</td>\n",
       "      <td>0.0</td>\n",
       "      <td>237901.0</td>\n",
       "      <td>696200.0</td>\n",
       "    </tr>\n",
       "    <tr>\n",
       "      <th>4</th>\n",
       "      <td>1125</td>\n",
       "      <td>NaN</td>\n",
       "      <td>NaN</td>\n",
       "      <td>1956</td>\n",
       "      <td>1</td>\n",
       "      <td>2</td>\n",
       "      <td>5353700.0</td>\n",
       "      <td>158700.0</td>\n",
       "      <td>576600.0</td>\n",
       "      <td>NaN</td>\n",
       "      <td>...</td>\n",
       "      <td>54100.0</td>\n",
       "      <td>44000.0</td>\n",
       "      <td>14900.0</td>\n",
       "      <td>12400.0</td>\n",
       "      <td>26600.0</td>\n",
       "      <td>NaN</td>\n",
       "      <td>NaN</td>\n",
       "      <td>0.0</td>\n",
       "      <td>250022.0</td>\n",
       "      <td>735300.0</td>\n",
       "    </tr>\n",
       "  </tbody>\n",
       "</table>\n",
       "<p>5 rows × 34 columns</p>\n",
       "</div>"
      ],
      "text/plain": [
       "   Country  Admin1 SubDiv  Year  Sex  Frmat      Total         0         1  \\\n",
       "0  1060    NaN      NaN    1980  1    7      137100.0   3400.0    15800.0    \n",
       "1  1060    NaN      NaN    1980  2    7      159000.0   4000.0    18400.0    \n",
       "2  1125    NaN      NaN    1955  1    2      5051500.0  150300.0  543400.0   \n",
       "3  1125    NaN      NaN    1955  2    2      5049400.0  145200.0  551000.0   \n",
       "4  1125    NaN      NaN    1956  1    2      5353700.0  158700.0  576600.0   \n",
       "\n",
       "    2    ...       65-69    70-74    75-79    80-84    85-89  90-94  95+  \\\n",
       "0 NaN    ...     5300.0  NaN       2900.0  NaN      NaN      NaN    NaN    \n",
       "1 NaN    ...     6200.0  NaN       3400.0  NaN      NaN      NaN    NaN    \n",
       "2 NaN    ...     51100.0  41600.0  14300.0  11800.0  25300.0 NaN    NaN    \n",
       "3 NaN    ...     51100.0  50700.0  15800.0  18000.0  28500.0 NaN    NaN    \n",
       "4 NaN    ...     54100.0  44000.0  14900.0  12400.0  26600.0 NaN    NaN    \n",
       "\n",
       "   Unspecified        Lb       0-4  \n",
       "0  6500.0       5000.0    19200.0   \n",
       "1  7500.0       6000.0    22400.0   \n",
       "2  0.0          253329.0  693700.0  \n",
       "3  0.0          237901.0  696200.0  \n",
       "4  0.0          250022.0  735300.0  \n",
       "\n",
       "[5 rows x 34 columns]"
      ]
     },
     "execution_count": 103,
     "metadata": {},
     "output_type": "execute_result"
    }
   ],
   "source": [
    "# Check new keys for pop\n",
    "pop.head(5)"
   ]
  },
  {
   "cell_type": "code",
   "execution_count": 104,
   "metadata": {
    "scrolled": true
   },
   "outputs": [
    {
     "data": {
      "text/html": [
       "<div>\n",
       "<style scoped>\n",
       "    .dataframe tbody tr th:only-of-type {\n",
       "        vertical-align: middle;\n",
       "    }\n",
       "\n",
       "    .dataframe tbody tr th {\n",
       "        vertical-align: top;\n",
       "    }\n",
       "\n",
       "    .dataframe thead th {\n",
       "        text-align: right;\n",
       "    }\n",
       "</style>\n",
       "<table border=\"1\" class=\"dataframe\">\n",
       "  <thead>\n",
       "    <tr style=\"text-align: right;\">\n",
       "      <th></th>\n",
       "      <th>Country</th>\n",
       "      <th>Admin1</th>\n",
       "      <th>SubDiv</th>\n",
       "      <th>Year</th>\n",
       "      <th>List</th>\n",
       "      <th>Cause</th>\n",
       "      <th>Sex</th>\n",
       "      <th>Frmat</th>\n",
       "      <th>IM_Frmat</th>\n",
       "      <th>Total</th>\n",
       "      <th>...</th>\n",
       "      <th>80-84</th>\n",
       "      <th>85-89</th>\n",
       "      <th>90-94</th>\n",
       "      <th>95+</th>\n",
       "      <th>Unspecified</th>\n",
       "      <th>IM_Deaths1</th>\n",
       "      <th>IM_Deaths2</th>\n",
       "      <th>IM_Deaths3</th>\n",
       "      <th>IM_Deaths4</th>\n",
       "      <th>0-4</th>\n",
       "    </tr>\n",
       "  </thead>\n",
       "  <tbody>\n",
       "    <tr>\n",
       "      <th>0</th>\n",
       "      <td>1400</td>\n",
       "      <td>NaN</td>\n",
       "      <td>NaN</td>\n",
       "      <td>2001</td>\n",
       "      <td>101</td>\n",
       "      <td>1000</td>\n",
       "      <td>1</td>\n",
       "      <td>7</td>\n",
       "      <td>8</td>\n",
       "      <td>332</td>\n",
       "      <td>...</td>\n",
       "      <td>NaN</td>\n",
       "      <td>NaN</td>\n",
       "      <td>NaN</td>\n",
       "      <td>NaN</td>\n",
       "      <td>0.0</td>\n",
       "      <td>8.0</td>\n",
       "      <td>NaN</td>\n",
       "      <td>NaN</td>\n",
       "      <td>NaN</td>\n",
       "      <td>10.0</td>\n",
       "    </tr>\n",
       "    <tr>\n",
       "      <th>1</th>\n",
       "      <td>1400</td>\n",
       "      <td>NaN</td>\n",
       "      <td>NaN</td>\n",
       "      <td>2001</td>\n",
       "      <td>101</td>\n",
       "      <td>1000</td>\n",
       "      <td>2</td>\n",
       "      <td>7</td>\n",
       "      <td>8</td>\n",
       "      <td>222</td>\n",
       "      <td>...</td>\n",
       "      <td>NaN</td>\n",
       "      <td>NaN</td>\n",
       "      <td>NaN</td>\n",
       "      <td>NaN</td>\n",
       "      <td>0.0</td>\n",
       "      <td>11.0</td>\n",
       "      <td>NaN</td>\n",
       "      <td>NaN</td>\n",
       "      <td>NaN</td>\n",
       "      <td>12.0</td>\n",
       "    </tr>\n",
       "    <tr>\n",
       "      <th>2</th>\n",
       "      <td>1400</td>\n",
       "      <td>NaN</td>\n",
       "      <td>NaN</td>\n",
       "      <td>2001</td>\n",
       "      <td>101</td>\n",
       "      <td>1001</td>\n",
       "      <td>1</td>\n",
       "      <td>7</td>\n",
       "      <td>8</td>\n",
       "      <td>24</td>\n",
       "      <td>...</td>\n",
       "      <td>NaN</td>\n",
       "      <td>NaN</td>\n",
       "      <td>NaN</td>\n",
       "      <td>NaN</td>\n",
       "      <td>0.0</td>\n",
       "      <td>0.0</td>\n",
       "      <td>NaN</td>\n",
       "      <td>NaN</td>\n",
       "      <td>NaN</td>\n",
       "      <td>0.0</td>\n",
       "    </tr>\n",
       "    <tr>\n",
       "      <th>3</th>\n",
       "      <td>1400</td>\n",
       "      <td>NaN</td>\n",
       "      <td>NaN</td>\n",
       "      <td>2001</td>\n",
       "      <td>101</td>\n",
       "      <td>1001</td>\n",
       "      <td>2</td>\n",
       "      <td>7</td>\n",
       "      <td>8</td>\n",
       "      <td>14</td>\n",
       "      <td>...</td>\n",
       "      <td>NaN</td>\n",
       "      <td>NaN</td>\n",
       "      <td>NaN</td>\n",
       "      <td>NaN</td>\n",
       "      <td>0.0</td>\n",
       "      <td>0.0</td>\n",
       "      <td>NaN</td>\n",
       "      <td>NaN</td>\n",
       "      <td>NaN</td>\n",
       "      <td>0.0</td>\n",
       "    </tr>\n",
       "    <tr>\n",
       "      <th>4</th>\n",
       "      <td>1400</td>\n",
       "      <td>NaN</td>\n",
       "      <td>NaN</td>\n",
       "      <td>2001</td>\n",
       "      <td>101</td>\n",
       "      <td>1002</td>\n",
       "      <td>1</td>\n",
       "      <td>7</td>\n",
       "      <td>8</td>\n",
       "      <td>0</td>\n",
       "      <td>...</td>\n",
       "      <td>NaN</td>\n",
       "      <td>NaN</td>\n",
       "      <td>NaN</td>\n",
       "      <td>NaN</td>\n",
       "      <td>0.0</td>\n",
       "      <td>0.0</td>\n",
       "      <td>NaN</td>\n",
       "      <td>NaN</td>\n",
       "      <td>NaN</td>\n",
       "      <td>0.0</td>\n",
       "    </tr>\n",
       "  </tbody>\n",
       "</table>\n",
       "<p>5 rows × 40 columns</p>\n",
       "</div>"
      ],
      "text/plain": [
       "   Country  Admin1 SubDiv  Year List Cause  Sex  Frmat  IM_Frmat  Total  ...   \\\n",
       "0  1400    NaN      NaN    2001  101  1000  1    7      8         332    ...    \n",
       "1  1400    NaN      NaN    2001  101  1000  2    7      8         222    ...    \n",
       "2  1400    NaN      NaN    2001  101  1001  1    7      8         24     ...    \n",
       "3  1400    NaN      NaN    2001  101  1001  2    7      8         14     ...    \n",
       "4  1400    NaN      NaN    2001  101  1002  1    7      8         0      ...    \n",
       "\n",
       "   80-84  85-89  90-94  95+  Unspecified  IM_Deaths1  IM_Deaths2  IM_Deaths3  \\\n",
       "0 NaN    NaN    NaN    NaN   0.0          8.0        NaN         NaN           \n",
       "1 NaN    NaN    NaN    NaN   0.0          11.0       NaN         NaN           \n",
       "2 NaN    NaN    NaN    NaN   0.0          0.0        NaN         NaN           \n",
       "3 NaN    NaN    NaN    NaN   0.0          0.0        NaN         NaN           \n",
       "4 NaN    NaN    NaN    NaN   0.0          0.0        NaN         NaN           \n",
       "\n",
       "   IM_Deaths4   0-4  \n",
       "0 NaN          10.0  \n",
       "1 NaN          12.0  \n",
       "2 NaN          0.0   \n",
       "3 NaN          0.0   \n",
       "4 NaN          0.0   \n",
       "\n",
       "[5 rows x 40 columns]"
      ]
     },
     "execution_count": 104,
     "metadata": {},
     "output_type": "execute_result"
    }
   ],
   "source": [
    "# Optional Check new keys for all_deaths\n",
    "all_deaths.head(5)"
   ]
  },
  {
   "cell_type": "markdown",
   "metadata": {},
   "source": [
    "#### Calculate the population and total number deaths for iceland "
   ]
  },
  {
   "cell_type": "code",
   "execution_count": 105,
   "metadata": {
    "scrolled": true
   },
   "outputs": [
    {
     "data": {
      "text/plain": [
       "array([[4160, 'Iceland']], dtype=object)"
      ]
     },
     "execution_count": 105,
     "metadata": {},
     "output_type": "execute_result"
    }
   ],
   "source": [
    "# first find the country code for Iceland\n",
    "country_codes[country_codes['name'] == 'Iceland'].values"
   ]
  },
  {
   "cell_type": "code",
   "execution_count": 106,
   "metadata": {
    "scrolled": true
   },
   "outputs": [],
   "source": [
    "# find population data for 2010 in Iceland\n",
    "\n",
    "# this give 2 rows - one for male and one for female\n",
    "iceland_pop = pop[(pop['Year'] == 2010) & (pop['Country'] == 4160)]\n",
    "iceland_deaths = all_deaths[(all_deaths['Year'] == 2010) & (all_deaths['Country'] == 4160)]\n"
   ]
  },
  {
   "cell_type": "code",
   "execution_count": 107,
   "metadata": {
    "scrolled": false
   },
   "outputs": [
    {
     "data": {
      "text/plain": [
       "318041.0"
      ]
     },
     "execution_count": 107,
     "metadata": {},
     "output_type": "execute_result"
    }
   ],
   "source": [
    "iceland_pop['Total'].sum()"
   ]
  },
  {
   "cell_type": "code",
   "execution_count": 108,
   "metadata": {
    "scrolled": true
   },
   "outputs": [
    {
     "data": {
      "text/plain": [
       "4038"
      ]
     },
     "execution_count": 108,
     "metadata": {},
     "output_type": "execute_result"
    }
   ],
   "source": [
    "iceland_deaths['Total'].sum()"
   ]
  },
  {
   "cell_type": "markdown",
   "metadata": {},
   "source": [
    "#### Calculate the population and total number deaths for Italy"
   ]
  },
  {
   "cell_type": "code",
   "execution_count": 109,
   "metadata": {
    "scrolled": true
   },
   "outputs": [
    {
     "data": {
      "text/plain": [
       "array([[4180, 'Italy']], dtype=object)"
      ]
     },
     "execution_count": 109,
     "metadata": {},
     "output_type": "execute_result"
    }
   ],
   "source": [
    "# find country code for Italy\n",
    "country_codes[country_codes.name == 'Italy'].values"
   ]
  },
  {
   "cell_type": "code",
   "execution_count": 110,
   "metadata": {
    "scrolled": true
   },
   "outputs": [],
   "source": [
    "# find population data for 2010 in Italy\n",
    "\n",
    "# this give 2 rows - one for male and one for female\n",
    "italy_pop_2010 = pop[(pop['Year'] == 2010) & (pop['Country'] == 4180)]\n",
    "italy_deaths_2010 = all_deaths[(all_deaths['Year'] == 2010) & (all_deaths['Country'] == 4180)]\n"
   ]
  },
  {
   "cell_type": "code",
   "execution_count": 111,
   "metadata": {
    "scrolled": true
   },
   "outputs": [
    {
     "data": {
      "text/plain": [
       "60483386.0"
      ]
     },
     "execution_count": 111,
     "metadata": {},
     "output_type": "execute_result"
    }
   ],
   "source": [
    "# Total population in 2010\n",
    "italy_pop_2010['Total'].sum()"
   ]
  },
  {
   "cell_type": "code",
   "execution_count": 112,
   "metadata": {
    "scrolled": true
   },
   "outputs": [
    {
     "data": {
      "text/plain": [
       "1169230"
      ]
     },
     "execution_count": 112,
     "metadata": {},
     "output_type": "execute_result"
    }
   ],
   "source": [
    "# Total number deaths in 2010\n",
    "italy_deaths_2010['Total'].sum()"
   ]
  },
  {
   "cell_type": "markdown",
   "metadata": {},
   "source": [
    "#### Calculate the population and total number deaths for New Zealand "
   ]
  },
  {
   "cell_type": "code",
   "execution_count": 113,
   "metadata": {
    "scrolled": false
   },
   "outputs": [
    {
     "data": {
      "text/plain": [
       "array([[5150, 'New Zealand']], dtype=object)"
      ]
     },
     "execution_count": 113,
     "metadata": {},
     "output_type": "execute_result"
    }
   ],
   "source": [
    "country_codes[country_codes['name'] == 'New Zealand'].values"
   ]
  },
  {
   "cell_type": "code",
   "execution_count": 114,
   "metadata": {
    "scrolled": true
   },
   "outputs": [],
   "source": [
    "# find population data for 2010 in Italy\n",
    "\n",
    "# this give 2 rows - one for male and one for female\n",
    "nz_pop = pop[(pop['Year'] == 2010) & (pop['Country'] == 5150)]\n",
    "nz_deaths = all_deaths[(all_deaths['Year'] == 2010) & (all_deaths['Country'] == 5150)]"
   ]
  },
  {
   "cell_type": "code",
   "execution_count": 115,
   "metadata": {},
   "outputs": [
    {
     "data": {
      "text/plain": [
       "4367360.0"
      ]
     },
     "execution_count": 115,
     "metadata": {},
     "output_type": "execute_result"
    }
   ],
   "source": [
    "# Population of New Zealand \n",
    "nz_pop['Total'].sum()"
   ]
  },
  {
   "cell_type": "code",
   "execution_count": 116,
   "metadata": {},
   "outputs": [
    {
     "data": {
      "text/plain": [
       "57298"
      ]
     },
     "execution_count": 116,
     "metadata": {},
     "output_type": "execute_result"
    }
   ],
   "source": [
    "# Total number deaths \n",
    "nz_deaths['Total'].sum()"
   ]
  },
  {
   "cell_type": "markdown",
   "metadata": {},
   "source": [
    "# Question 2\n",
    "What was the distribution of deaths (all causes, all years) by age group in Italy?\n",
    "- Visualise the results using a histogram."
   ]
  },
  {
   "cell_type": "code",
   "execution_count": 117,
   "metadata": {
    "scrolled": true
   },
   "outputs": [],
   "source": [
    "# First select all of the deaths for Italy \n",
    "italy_all_deaths = all_deaths[all_deaths['Country'] == 4180]\n",
    "\n",
    "# Now sum the totals for the specified age groups (dictionary created previously) and divide by the total of each column\n",
    "italy_all_deaths_hist = italy_all_deaths[specified_age_groups].sum() / italy_all_deaths[specified_age_groups].sum().sum()\n"
   ]
  },
  {
   "cell_type": "markdown",
   "metadata": {},
   "source": [
    "<a id='Figure6'></a>\n",
    "##### Figure 6"
   ]
  },
  {
   "cell_type": "code",
   "execution_count": 118,
   "metadata": {},
   "outputs": [
    {
     "data": {
      "image/png": "[encoded data removed]",
      "text/plain": [
       "<Figure size 432x288 with 1 Axes>"
      ]
     },
     "metadata": {
      "needs_background": "light"
     },
     "output_type": "display_data"
    }
   ],
   "source": [
    "# Figure 6\n",
    "# Create a plot of the summed data and modify aspects of the graph\n",
    "italy_all_deaths_hist.plot.bar(x=[0], y=[1], color = 'r')\n",
    "plt.title('Deaths in Italy for all years for all ages')\n",
    "plt.ylabel('Proportion of total deaths')\n",
    "plt.xlabel('Group (years)')\n",
    "plt.show()"
   ]
  },
  {
   "cell_type": "markdown",
   "metadata": {},
   "source": [
    "## Questions 3\n",
    "What were the top five causes of death (top five ICD-10 terms) in Italy across all\n",
    "years for the Neoplasm ICD10-category (C00-D48)?\n",
    " - Generate a table with the cause of death, the number of deaths, and the\n",
    "proportion of overall deaths.\n",
    " - Generate a pie chart to visualize the proportion of deaths."
   ]
  },
  {
   "cell_type": "markdown",
   "metadata": {},
   "source": [
    "#### Step 1. Generate table for top 5 neoplasm causes of death"
   ]
  },
  {
   "cell_type": "code",
   "execution_count": 119,
   "metadata": {
    "scrolled": false
   },
   "outputs": [],
   "source": [
    "# Extract the data for C00-D48 codes first\n",
    "italy_neoplasms = italy_all_deaths[italy_all_deaths['Cause'].str.startswith(('C', 'D0', 'D1', 'D2', 'D3', 'D4'))]\n",
    "\n",
    "# group them by cause and sum the values in each group\n",
    "italy_neoplasms_grouped = italy_neoplasms.groupby('Cause').agg({'Total' : 'sum'}).reset_index()\n",
    "\n",
    "# create a new column in the grouped df with the percentage that each cause accounts for\n",
    "italy_neoplasms_grouped['Percentage'] = italy_neoplasms_grouped['Total']/ italy_neoplasms_grouped['Total'].sum()*100\n",
    "\n"
   ]
  },
  {
   "cell_type": "markdown",
   "metadata": {},
   "source": [
    "<a id='table9'></a>\n",
    "##### Table 9"
   ]
  },
  {
   "cell_type": "code",
   "execution_count": 120,
   "metadata": {},
   "outputs": [
    {
     "data": {
      "text/html": [
       "<div>\n",
       "<style scoped>\n",
       "    .dataframe tbody tr th:only-of-type {\n",
       "        vertical-align: middle;\n",
       "    }\n",
       "\n",
       "    .dataframe tbody tr th {\n",
       "        vertical-align: top;\n",
       "    }\n",
       "\n",
       "    .dataframe thead th {\n",
       "        text-align: right;\n",
       "    }\n",
       "</style>\n",
       "<table border=\"1\" class=\"dataframe\">\n",
       "  <thead>\n",
       "    <tr style=\"text-align: right;\">\n",
       "      <th></th>\n",
       "      <th>Cause</th>\n",
       "      <th>Total</th>\n",
       "      <th>Percentage</th>\n",
       "    </tr>\n",
       "  </thead>\n",
       "  <tbody>\n",
       "    <tr>\n",
       "      <th>143</th>\n",
       "      <td>C349</td>\n",
       "      <td>426451</td>\n",
       "      <td>18.964664</td>\n",
       "    </tr>\n",
       "    <tr>\n",
       "      <th>227</th>\n",
       "      <td>C509</td>\n",
       "      <td>155895</td>\n",
       "      <td>6.932792</td>\n",
       "    </tr>\n",
       "    <tr>\n",
       "      <th>92</th>\n",
       "      <td>C189</td>\n",
       "      <td>143188</td>\n",
       "      <td>6.367701</td>\n",
       "    </tr>\n",
       "    <tr>\n",
       "      <th>76</th>\n",
       "      <td>C169</td>\n",
       "      <td>125679</td>\n",
       "      <td>5.589059</td>\n",
       "    </tr>\n",
       "    <tr>\n",
       "      <th>118</th>\n",
       "      <td>C259</td>\n",
       "      <td>120070</td>\n",
       "      <td>5.339622</td>\n",
       "    </tr>\n",
       "  </tbody>\n",
       "</table>\n",
       "</div>"
      ],
      "text/plain": [
       "    Cause   Total  Percentage\n",
       "143  C349  426451  18.964664 \n",
       "227  C509  155895  6.932792  \n",
       "92   C189  143188  6.367701  \n",
       "76   C169  125679  5.589059  \n",
       "118  C259  120070  5.339622  "
      ]
     },
     "execution_count": 120,
     "metadata": {},
     "output_type": "execute_result"
    }
   ],
   "source": [
    "# Table 9\n",
    "# sort the data in descending order and generate table from the \n",
    "italy_neoplasms_sorted = italy_neoplasms_grouped.sort_values('Total', ascending=False)\n",
    "italy_neoplasms_top5 = italy_neoplasms_sorted.head(5)\n",
    "italy_neoplasms_top5"
   ]
  },
  {
   "cell_type": "markdown",
   "metadata": {},
   "source": [
    "#### Step 2. Generate table with top 5 causes + all other causes"
   ]
  },
  {
   "cell_type": "code",
   "execution_count": 121,
   "metadata": {
    "scrolled": true
   },
   "outputs": [
    {
     "data": {
      "text/html": [
       "<div>\n",
       "<style scoped>\n",
       "    .dataframe tbody tr th:only-of-type {\n",
       "        vertical-align: middle;\n",
       "    }\n",
       "\n",
       "    .dataframe tbody tr th {\n",
       "        vertical-align: top;\n",
       "    }\n",
       "\n",
       "    .dataframe thead th {\n",
       "        text-align: right;\n",
       "    }\n",
       "</style>\n",
       "<table border=\"1\" class=\"dataframe\">\n",
       "  <thead>\n",
       "    <tr style=\"text-align: right;\">\n",
       "      <th></th>\n",
       "      <th>Cause</th>\n",
       "      <th>Total</th>\n",
       "      <th>Percentage</th>\n",
       "    </tr>\n",
       "  </thead>\n",
       "  <tbody>\n",
       "    <tr>\n",
       "      <th>143</th>\n",
       "      <td>C349</td>\n",
       "      <td>426451</td>\n",
       "      <td>18.964664</td>\n",
       "    </tr>\n",
       "    <tr>\n",
       "      <th>227</th>\n",
       "      <td>C509</td>\n",
       "      <td>155895</td>\n",
       "      <td>6.932792</td>\n",
       "    </tr>\n",
       "    <tr>\n",
       "      <th>92</th>\n",
       "      <td>C189</td>\n",
       "      <td>143188</td>\n",
       "      <td>6.367701</td>\n",
       "    </tr>\n",
       "    <tr>\n",
       "      <th>76</th>\n",
       "      <td>C169</td>\n",
       "      <td>125679</td>\n",
       "      <td>5.589059</td>\n",
       "    </tr>\n",
       "    <tr>\n",
       "      <th>118</th>\n",
       "      <td>C259</td>\n",
       "      <td>120070</td>\n",
       "      <td>5.339622</td>\n",
       "    </tr>\n",
       "    <tr>\n",
       "      <th>0</th>\n",
       "      <td>Other neoplasms</td>\n",
       "      <td>1277378</td>\n",
       "      <td>56.806162</td>\n",
       "    </tr>\n",
       "  </tbody>\n",
       "</table>\n",
       "</div>"
      ],
      "text/plain": [
       "               Cause    Total  Percentage\n",
       "143  C349             426451   18.964664 \n",
       "227  C509             155895   6.932792  \n",
       "92   C189             143188   6.367701  \n",
       "76   C169             125679   5.589059  \n",
       "118  C259             120070   5.339622  \n",
       "0    Other neoplasms  1277378  56.806162 "
      ]
     },
     "execution_count": 121,
     "metadata": {},
     "output_type": "execute_result"
    }
   ],
   "source": [
    "# first calculate what percentage the other ICD10 codes account for\n",
    "Total_minus_top5 = italy_neoplasms_grouped['Total'].sum() - italy_neoplasms_top5[\"Total\"].sum()\n",
    "\n",
    "# create another df for other neoplasms and add it to the top 5 df\n",
    "other_neoplasms = {'Cause' : 'Other neoplasms', 'Total' : [Total_minus_top5], 'Percentage' : 100-italy_neoplasms_top5.Percentage.sum()}\n",
    "other_neoplasms_df = pd.DataFrame(other_neoplasms)\n",
    "\n",
    "all_neoplasms = pd.concat ((italy_neoplasms_top5, other_neoplasms_df))\n",
    "all_neoplasms"
   ]
  },
  {
   "cell_type": "markdown",
   "metadata": {},
   "source": [
    "#### Step 3. Generate pie chart of results"
   ]
  },
  {
   "cell_type": "markdown",
   "metadata": {},
   "source": [
    "<a id='Figure7'></a>\n",
    "##### Figure 7"
   ]
  },
  {
   "cell_type": "code",
   "execution_count": 122,
   "metadata": {},
   "outputs": [
    {
     "data": {
      "image/png": "[encoded data removed]",
      "text/plain": [
       "<Figure size 432x288 with 1 Axes>"
      ]
     },
     "metadata": {},
     "output_type": "display_data"
    }
   ],
   "source": [
    "# Figure 7\n",
    "\n",
    "# plot a pie chart with the data from the all_neoplasms df\n",
    "plt.pie(all_neoplasms.Percentage, labels=all_neoplasms.Cause, autopct='%1.1f%%')\n",
    "plt.title('Deaths in Italy caused by neoplasms')\n",
    "plt.show()"
   ]
  },
  {
   "cell_type": "markdown",
   "metadata": {},
   "source": [
    "# Question 4\n",
    "Are there differences by age group for deaths from Neoplasms (C00-D48) in Australia\n",
    "for 2010?\n",
    " - Identify the top five age groups in Australia dying with a Neoplasms cause of\n",
    "death."
   ]
  },
  {
   "cell_type": "markdown",
   "metadata": {},
   "source": [
    "#### Step 1. Get Australia country code, use it to extract relevant info for Australia from mortality data "
   ]
  },
  {
   "cell_type": "code",
   "execution_count": 123,
   "metadata": {
    "scrolled": true
   },
   "outputs": [
    {
     "data": {
      "text/plain": [
       "array([[5020, 'Australia']], dtype=object)"
      ]
     },
     "execution_count": 123,
     "metadata": {},
     "output_type": "execute_result"
    }
   ],
   "source": [
    "# First get Australia country code\n",
    "country_codes[country_codes['name'] == 'Australia'].values"
   ]
  },
  {
   "cell_type": "code",
   "execution_count": 124,
   "metadata": {
    "scrolled": false
   },
   "outputs": [
    {
     "data": {
      "text/plain": [
       "0-4      44.0  \n",
       "5-9      46.0  \n",
       "10-14    31.0  \n",
       "15-19    50.0  \n",
       "20-24    52.0  \n",
       "25-29    97.0  \n",
       "30-34    138.0 \n",
       "35-39    323.0 \n",
       "40-44    548.0 \n",
       "45-49    1065.0\n",
       "50-54    1756.0\n",
       "55-59    2695.0\n",
       "60-64    3938.0\n",
       "65-69    4768.0\n",
       "70-74    5713.0\n",
       "75-79    6291.0\n",
       "80-84    7167.0\n",
       "85-89    5520.0\n",
       "90-94    2336.0\n",
       "95+      735.0 \n",
       "dtype: float64"
      ]
     },
     "execution_count": 124,
     "metadata": {},
     "output_type": "execute_result"
    }
   ],
   "source": [
    "# extract australia information\n",
    "aus_all_deaths = all_deaths[all_deaths['Country'] == 5020]\n",
    "\n",
    "# extract rows for deaths attributed to neoplasms\n",
    "aus_neoplasms = aus_all_deaths[aus_all_deaths['Cause'].str.startswith(('C', 'D0', 'D1', 'D2', 'D3', 'D4'))]\n",
    "\n",
    "# extract rows data related to 2010\n",
    "aus_neoplasms_2010 = aus_neoplasms[aus_neoplasms['Year'] == 2010]\n",
    "\n",
    "# sum the age group columns\n",
    "aus_neoplasms_2010_by_age = aus_neoplasms_2010[specified_age_groups].sum()\n",
    "\n",
    "# check the output\n",
    "aus_neoplasms_2010_by_age"
   ]
  },
  {
   "cell_type": "markdown",
   "metadata": {},
   "source": [
    "#### Step 2. Create bar chart to visulaise comparison between age groups"
   ]
  },
  {
   "cell_type": "markdown",
   "metadata": {},
   "source": [
    "<a id='Figure8'></a>\n",
    "##### Figure 8"
   ]
  },
  {
   "cell_type": "code",
   "execution_count": 125,
   "metadata": {},
   "outputs": [
    {
     "data": {
      "image/png": "[encoded data removed]",
      "text/plain": [
       "<Figure size 432x288 with 1 Axes>"
      ]
     },
     "metadata": {
      "needs_background": "light"
     },
     "output_type": "display_data"
    }
   ],
   "source": [
    "#Figure 8: Neoplasms across age groups in Australia in 2010\n",
    "\n",
    "# create bar chart to see if there are differences in ages\n",
    "aus_neoplasms_2010_by_age.plot.bar(x=[0], y=[1], color = 'b')\n",
    "plt.title('Neoplasms across age groups in Australia in 2010')\n",
    "plt.ylabel('Death count')\n",
    "plt.xlabel('Age Group')\n",
    "plt.show()"
   ]
  },
  {
   "cell_type": "markdown",
   "metadata": {},
   "source": [
    "#### Step 3. Identify top 5 age groups for neoplasms"
   ]
  },
  {
   "cell_type": "code",
   "execution_count": 126,
   "metadata": {},
   "outputs": [
    {
     "data": {
      "text/plain": [
       "80-84    7167.0\n",
       "75-79    6291.0\n",
       "70-74    5713.0\n",
       "85-89    5520.0\n",
       "65-69    4768.0\n",
       "dtype: float64"
      ]
     },
     "execution_count": 126,
     "metadata": {},
     "output_type": "execute_result"
    }
   ],
   "source": [
    "# identify the top 5 age groups where neoplasms are the cause of death\n",
    "aus_neoplasms_2010_by_age.nlargest(5)"
   ]
  },
  {
   "cell_type": "markdown",
   "metadata": {},
   "source": [
    "# Question 5 \n",
    "Compare and contrast the frequency of deaths by Neoplasms in Italy and Australia in\n",
    "2010.\n",
    " - Combine information on the population and deaths and describe your logic. \n",
    " - Use descriptive statistics and plots."
   ]
  },
  {
   "cell_type": "markdown",
   "metadata": {},
   "source": [
    "#### Step 1. Calculate the frequency of deaths by neoplasms"
   ]
  },
  {
   "cell_type": "code",
   "execution_count": 127,
   "metadata": {},
   "outputs": [],
   "source": [
    "# First get the 2010 data for Italy neoplasms. Already have population data for italy 2010\n",
    "italy_neoplasms_2010 = italy_neoplasms[italy_neoplasms['Year'] == 2010]"
   ]
  },
  {
   "cell_type": "code",
   "execution_count": 128,
   "metadata": {},
   "outputs": [],
   "source": [
    "# Get population information that we need for Australia \n",
    "aus_pop_2010 = pop[(pop['Year'] == 2010) & (pop['Country'] == 5020)]"
   ]
  },
  {
   "cell_type": "code",
   "execution_count": 129,
   "metadata": {},
   "outputs": [
    {
     "name": "stdout",
     "output_type": "stream",
     "text": [
      "Italy\n",
      "Deaths caused by neoplasms per 100,000 of the population: 289.41170720832326\n",
      "-----------------\n",
      "Australia\n",
      "Deaths caused by neoplasms per 100,000 of the population: 194.26380024859273\n"
     ]
    }
   ],
   "source": [
    "# Calculate the frequency of deaths for each country \n",
    "aus_death_freq = aus_neoplasms_2010.Total.sum() / aus_pop_2010.Total.sum() * 100000\n",
    "italy_death_freq = italy_neoplasms_2010.Total.sum() / italy_pop_2010.Total.sum() * 100000\n",
    "\n",
    "# Declare information\n",
    "print('Italy')\n",
    "print('Deaths caused by neoplasms per 100,000 of the population: ' + str(italy_death_freq))\n",
    "print('-----------------')\n",
    "print('Australia')\n",
    "print('Deaths caused by neoplasms per 100,000 of the population: ' + str(aus_death_freq))"
   ]
  },
  {
   "cell_type": "markdown",
   "metadata": {},
   "source": [
    "#### Step 2. Get information required to make a bar chart for Italy v Australia. Do as have done for australia in question 4."
   ]
  },
  {
   "cell_type": "code",
   "execution_count": 130,
   "metadata": {
    "scrolled": true
   },
   "outputs": [],
   "source": [
    "# sum the age group columns\n",
    "italy_neoplasms_2010_by_age = italy_neoplasms_2010[specified_age_groups].sum()"
   ]
  },
  {
   "cell_type": "code",
   "execution_count": 131,
   "metadata": {},
   "outputs": [],
   "source": [
    "# get all deaths for australia in 2010\n",
    "aus_all_deaths_2010 = all_deaths[(all_deaths['Country'] == 5020) & (all_deaths['Year'] == 2010)]"
   ]
  },
  {
   "cell_type": "markdown",
   "metadata": {},
   "source": [
    "#### Step 3. Create a bar chart to compare the number deaths caused by neoplasms in 2010 in Italy and Australia"
   ]
  },
  {
   "cell_type": "code",
   "execution_count": 132,
   "metadata": {},
   "outputs": [],
   "source": [
    "# calculate the number of deaths for each age group, make a new df and create a bar chart\n",
    "italy_counts = np.array(italy_neoplasms_2010[specified_age_groups].sum())\n",
    "aus_counts = np.array(aus_neoplasms_2010[specified_age_groups].sum())\n",
    "counts_index = italy_neoplasms_2010[specified_age_groups].sum().index\n",
    "italy_vs_aus_count = pd.DataFrame({'Italy': italy_counts, 'Australia':aus_counts}).set_index(counts_index)\n"
   ]
  },
  {
   "cell_type": "markdown",
   "metadata": {},
   "source": [
    "<a id='Figure9'></a>\n",
    "##### Figure 9"
   ]
  },
  {
   "cell_type": "code",
   "execution_count": 133,
   "metadata": {},
   "outputs": [
    {
     "data": {
      "image/png": "[encoded data removed]",
      "text/plain": [
       "<Figure size 432x288 with 1 Axes>"
      ]
     },
     "metadata": {
      "needs_background": "light"
     },
     "output_type": "display_data"
    }
   ],
   "source": [
    "# Figure 9\n",
    "# plot a bar graph to illustrate\n",
    "italy_vs_aus_count.plot.bar()\n",
    "plt.title('Neoplasm deaths in 2010: Italy v Australia')\n",
    "plt.ylabel('Number of deaths')\n",
    "plt.xlabel('Age Group')\n",
    "plt.show()\n",
    "\n"
   ]
  },
  {
   "cell_type": "markdown",
   "metadata": {},
   "source": [
    "#### Step 4. Create a bar chart of the neoplasm deaths in 2010 as a percentage of all deaths for a given age group. Plot Italy and Austrlia data on graph for comparison"
   ]
  },
  {
   "cell_type": "code",
   "execution_count": 134,
   "metadata": {
    "scrolled": true
   },
   "outputs": [],
   "source": [
    "# calculate neoplasm deaths as a percentage of all deaths for each age group\n",
    "italy_percentage_neoplasm_deaths = italy_neoplasms_2010[specified_age_groups].sum() / italy_deaths_2010[specified_age_groups].sum() *100\n",
    "aus_percentage_neoplasm_deaths = aus_neoplasms_2010[specified_age_groups].sum() / aus_all_deaths_2010[specified_age_groups].sum() *100\n",
    "\n",
    "# create a new df with the percentage neoplasm data\n",
    "age_groups = np.array(aus_percentage_neoplasm_deaths.index)\n",
    "italy_array = np.array(italy_percentage_neoplasm_deaths)\n",
    "aus_array = np.array(aus_percentage_neoplasm_deaths)\n",
    "italy_vs_aus = pd.DataFrame({'Italy': italy_array, 'Australia':aus_array}).set_index(age_groups)\n",
    "\n",
    "\n"
   ]
  },
  {
   "cell_type": "markdown",
   "metadata": {},
   "source": [
    "<a id='Figure10'></a>\n",
    "##### Figure 10"
   ]
  },
  {
   "cell_type": "code",
   "execution_count": 135,
   "metadata": {},
   "outputs": [
    {
     "data": {
      "image/png": "[encoded data removed]",
      "text/plain": [
       "<Figure size 432x288 with 1 Axes>"
      ]
     },
     "metadata": {
      "needs_background": "light"
     },
     "output_type": "display_data"
    }
   ],
   "source": [
    "#Figure 10\n",
    "# plot a bar graph to illustrate\n",
    "italy_vs_aus.plot.bar()\n",
    "plt.title('Neoplasm deaths in 2010 as percentage of all: Italy v Australia')\n",
    "plt.ylabel('Percentage')\n",
    "plt.xlabel('Age Group')\n",
    "plt.show()"
   ]
  },
  {
   "cell_type": "markdown",
   "metadata": {},
   "source": [
    "# Appendix 1 - difference between prescribing and gp demographic data"
   ]
  },
  {
   "cell_type": "code",
   "execution_count": 136,
   "metadata": {
    "scrolled": true
   },
   "outputs": [
    {
     "data": {
      "text/plain": [
       "9578"
      ]
     },
     "execution_count": 136,
     "metadata": {},
     "output_type": "execute_result"
    }
   ],
   "source": [
    "# group prescribing data by practice \n",
    "prescribing_grouped = prescribing.groupby(['PRACTICE'])\n",
    "len(prescribing_grouped)"
   ]
  },
  {
   "cell_type": "code",
   "execution_count": 137,
   "metadata": {
    "scrolled": true
   },
   "outputs": [
    {
     "data": {
      "text/plain": [
       "7241"
      ]
     },
     "execution_count": 137,
     "metadata": {},
     "output_type": "execute_result"
    }
   ],
   "source": [
    "# group prescribing data by practice (CODE column) \n",
    "gp_prac_grouped = gp_prac.groupby(['CODE'])\n",
    "len(gp_prac_grouped)"
   ]
  },
  {
   "cell_type": "code",
   "execution_count": 138,
   "metadata": {
    "scrolled": false
   },
   "outputs": [
    {
     "data": {
      "text/plain": [
       "2387"
      ]
     },
     "execution_count": 138,
     "metadata": {},
     "output_type": "execute_result"
    }
   ],
   "source": [
    "# what practices in prescibing data but not in gp demographic data\n",
    "uncommon = prescribing[~prescribing['PRACTICE'].isin(gp_prac['CODE'])].dropna()\n",
    "uncommon\n",
    "uncommon_grouped = uncommon.groupby(['PRACTICE'])\n",
    "len(uncommon_grouped)"
   ]
  },
  {
   "cell_type": "code",
   "execution_count": 139,
   "metadata": {
    "scrolled": true
   },
   "outputs": [
    {
     "data": {
      "text/plain": [
       "50"
      ]
     },
     "execution_count": 139,
     "metadata": {},
     "output_type": "execute_result"
    }
   ],
   "source": [
    "# what practices in gp demogrpahic data but not in prescribing data\n",
    "uncommon2 = gp_prac[~gp_prac['CODE'].isin(prescribing['PRACTICE'])].dropna()\n",
    "uncommon2_grouped = uncommon2.groupby(['CODE'])\n",
    "len(uncommon2_grouped)"
   ]
  },
  {
   "cell_type": "code",
   "execution_count": 140,
   "metadata": {},
   "outputs": [
    {
     "data": {
      "text/plain": [
       "11510031.8"
      ]
     },
     "execution_count": 140,
     "metadata": {},
     "output_type": "execute_result"
    }
   ],
   "source": [
    "# total cost of prescriptions for GPs not in GP demographic data file\n",
    "uncommon['ACT COST'].sum()"
   ]
  }
 ],
 "metadata": {
  "kernelspec": {
   "display_name": "Python 3",
   "language": "python",
   "name": "python3"
  },
  "language_info": {
   "codemirror_mode": {
    "name": "ipython",
    "version": 3
   },
   "file_extension": ".py",
   "mimetype": "text/x-python",
   "name": "python",
   "nbconvert_exporter": "python",
   "pygments_lexer": "ipython3",
   "version": "3.7.0"
  }
 },
 "nbformat": 4,
 "nbformat_minor": 2
}
